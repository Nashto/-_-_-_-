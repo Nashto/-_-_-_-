{
 "cells": [
  {
   "cell_type": "markdown",
   "metadata": {},
   "source": [
    "# Исследование тарифов \"Смарт\" и \"Ультра\" оператора сотовой связи\n",
    "\n",
    "Чтобы скорректировать рекламный бюджет, коммерческий департамент хочет понять, какой тариф приносит больше денег.\n",
    "Необходимо сделать предварительный анализ тарифов на небольшой выборке клиентов. В  распоряжении данные 500 пользователей оператора сотовой связи: кто они, откуда, каким тарифом пользуются, сколько звонков и сообщений каждый отправил за 2018 год. Нужно проанализировать поведение клиентов и сделать вывод — какой тариф лучше.\n",
    "Тариф «Смарт»\n",
    "1.\tЕжемесячная плата: 550 рублей\n",
    "2.\tВключено 500 минут разговора, 50 сообщений и 15 Гб интернет-трафика\n",
    "3.\tСтоимость услуг сверх тарифного пакета: 1. минута разговора: 3 рубля («Мегалайн» всегда округляет вверх значения минут и мегабайтов. Если пользователь проговорил всего 1 секунду, в тарифе засчитывается целая минута); 2. сообщение: 3 рубля; 3. 1 Гб интернет-трафика: 200 рублей.\n",
    "Тариф «Ультра»\n",
    "1.\tЕжемесячная плата: 1950 рублей\n",
    "2.\tВключено 3000 минут разговора, 1000 сообщений и 30 Гб интернет-трафика\n",
    "3.\tСтоимость услуг сверх тарифного пакета: 1. минута разговора: 1 рубль; 2. сообщение: 1 рубль; 3. 1 Гб интернет-трафика: 150 рублей."
   ]
  },
  {
   "cell_type": "markdown",
   "metadata": {},
   "source": [
    "## Изучение данных из файла"
   ]
  },
  {
   "cell_type": "markdown",
   "metadata": {},
   "source": [
    "Импорт необходимых для анализа библиотек"
   ]
  },
  {
   "cell_type": "code",
   "execution_count": 1,
   "metadata": {},
   "outputs": [],
   "source": [
    "import pandas as pd\n",
    "import numpy as np\n",
    "import matplotlib.pyplot as plt\n",
    "from scipy import stats as st\n",
    "import math as mt\n",
    "import warnings\n",
    "warnings.filterwarnings('ignore')"
   ]
  },
  {
   "cell_type": "code",
   "execution_count": 2,
   "metadata": {},
   "outputs": [],
   "source": [
    "calls = pd.read_csv('C:/Users/Nshan/Desktop/Проект_оператора_состовой_связи/data/calls.csv')\n",
    "internet = pd.read_csv('C:/Users/Nshan/Desktop/Проект_оператора_состовой_связи/data/internet.csv')\n",
    "messages = pd.read_csv('C:/Users/Nshan/Desktop/Проект_оператора_состовой_связи/data/messages.csv')\n",
    "tariffs = pd.read_csv('C:/Users/Nshan/Desktop/Проект_оператора_состовой_связи/data/tariffs.csv')\n",
    "users = pd.read_csv('C:/Users/Nshan/Desktop/Проект_оператора_состовой_связи/data/users.csv')"
   ]
  },
  {
   "cell_type": "code",
   "execution_count": 3,
   "metadata": {
    "scrolled": false
   },
   "outputs": [
    {
     "data": {
      "text/html": [
       "<div>\n",
       "<style scoped>\n",
       "    .dataframe tbody tr th:only-of-type {\n",
       "        vertical-align: middle;\n",
       "    }\n",
       "\n",
       "    .dataframe tbody tr th {\n",
       "        vertical-align: top;\n",
       "    }\n",
       "\n",
       "    .dataframe thead th {\n",
       "        text-align: right;\n",
       "    }\n",
       "</style>\n",
       "<table border=\"1\" class=\"dataframe\">\n",
       "  <thead>\n",
       "    <tr style=\"text-align: right;\">\n",
       "      <th></th>\n",
       "      <th>id</th>\n",
       "      <th>call_date</th>\n",
       "      <th>duration</th>\n",
       "      <th>user_id</th>\n",
       "    </tr>\n",
       "  </thead>\n",
       "  <tbody>\n",
       "    <tr>\n",
       "      <th>0</th>\n",
       "      <td>1000_0</td>\n",
       "      <td>2018-07-25</td>\n",
       "      <td>0.00</td>\n",
       "      <td>1000</td>\n",
       "    </tr>\n",
       "    <tr>\n",
       "      <th>1</th>\n",
       "      <td>1000_1</td>\n",
       "      <td>2018-08-17</td>\n",
       "      <td>0.00</td>\n",
       "      <td>1000</td>\n",
       "    </tr>\n",
       "    <tr>\n",
       "      <th>2</th>\n",
       "      <td>1000_2</td>\n",
       "      <td>2018-06-11</td>\n",
       "      <td>2.85</td>\n",
       "      <td>1000</td>\n",
       "    </tr>\n",
       "    <tr>\n",
       "      <th>3</th>\n",
       "      <td>1000_3</td>\n",
       "      <td>2018-09-21</td>\n",
       "      <td>13.80</td>\n",
       "      <td>1000</td>\n",
       "    </tr>\n",
       "    <tr>\n",
       "      <th>4</th>\n",
       "      <td>1000_4</td>\n",
       "      <td>2018-12-15</td>\n",
       "      <td>5.18</td>\n",
       "      <td>1000</td>\n",
       "    </tr>\n",
       "    <tr>\n",
       "      <th>5</th>\n",
       "      <td>1000_5</td>\n",
       "      <td>2018-11-02</td>\n",
       "      <td>0.00</td>\n",
       "      <td>1000</td>\n",
       "    </tr>\n",
       "    <tr>\n",
       "      <th>6</th>\n",
       "      <td>1000_6</td>\n",
       "      <td>2018-10-18</td>\n",
       "      <td>0.00</td>\n",
       "      <td>1000</td>\n",
       "    </tr>\n",
       "    <tr>\n",
       "      <th>7</th>\n",
       "      <td>1000_7</td>\n",
       "      <td>2018-08-22</td>\n",
       "      <td>18.31</td>\n",
       "      <td>1000</td>\n",
       "    </tr>\n",
       "    <tr>\n",
       "      <th>8</th>\n",
       "      <td>1000_8</td>\n",
       "      <td>2018-09-15</td>\n",
       "      <td>18.44</td>\n",
       "      <td>1000</td>\n",
       "    </tr>\n",
       "    <tr>\n",
       "      <th>9</th>\n",
       "      <td>1000_9</td>\n",
       "      <td>2018-08-15</td>\n",
       "      <td>0.00</td>\n",
       "      <td>1000</td>\n",
       "    </tr>\n",
       "  </tbody>\n",
       "</table>\n",
       "</div>"
      ],
      "text/plain": [
       "       id   call_date  duration  user_id\n",
       "0  1000_0  2018-07-25      0.00     1000\n",
       "1  1000_1  2018-08-17      0.00     1000\n",
       "2  1000_2  2018-06-11      2.85     1000\n",
       "3  1000_3  2018-09-21     13.80     1000\n",
       "4  1000_4  2018-12-15      5.18     1000\n",
       "5  1000_5  2018-11-02      0.00     1000\n",
       "6  1000_6  2018-10-18      0.00     1000\n",
       "7  1000_7  2018-08-22     18.31     1000\n",
       "8  1000_8  2018-09-15     18.44     1000\n",
       "9  1000_9  2018-08-15      0.00     1000"
      ]
     },
     "execution_count": 3,
     "metadata": {},
     "output_type": "execute_result"
    }
   ],
   "source": [
    "calls.head(10)"
   ]
  },
  {
   "cell_type": "code",
   "execution_count": 4,
   "metadata": {},
   "outputs": [
    {
     "name": "stdout",
     "output_type": "stream",
     "text": [
      "<class 'pandas.core.frame.DataFrame'>\n",
      "RangeIndex: 202607 entries, 0 to 202606\n",
      "Data columns (total 4 columns):\n",
      " #   Column     Non-Null Count   Dtype  \n",
      "---  ------     --------------   -----  \n",
      " 0   id         202607 non-null  object \n",
      " 1   call_date  202607 non-null  object \n",
      " 2   duration   202607 non-null  float64\n",
      " 3   user_id    202607 non-null  int64  \n",
      "dtypes: float64(1), int64(1), object(2)\n",
      "memory usage: 6.2+ MB\n"
     ]
    }
   ],
   "source": [
    "calls.info()"
   ]
  },
  {
   "cell_type": "code",
   "execution_count": 5,
   "metadata": {},
   "outputs": [
    {
     "data": {
      "text/plain": [
       "count    202607.000000\n",
       "mean          6.755887\n",
       "std           5.843365\n",
       "min           0.000000\n",
       "25%           1.300000\n",
       "50%           6.000000\n",
       "75%          10.700000\n",
       "max          38.000000\n",
       "Name: duration, dtype: float64"
      ]
     },
     "execution_count": 5,
     "metadata": {},
     "output_type": "execute_result"
    }
   ],
   "source": [
    "calls['duration'].describe()"
   ]
  },
  {
   "cell_type": "markdown",
   "metadata": {},
   "source": [
    "Необходимо изменение типа данных колонки call_date на тип datetime в таблице calls. Пропусков в ходе предварительного просмотра обнаружено не было. Поскольку плата взимается за округлённое количество минут, необходимо будет добавить колонку с данным показателем. Значения в стобце продолжительности звонков выглядят правдиво."
   ]
  },
  {
   "cell_type": "code",
   "execution_count": 6,
   "metadata": {
    "scrolled": true
   },
   "outputs": [
    {
     "data": {
      "text/html": [
       "<div>\n",
       "<style scoped>\n",
       "    .dataframe tbody tr th:only-of-type {\n",
       "        vertical-align: middle;\n",
       "    }\n",
       "\n",
       "    .dataframe tbody tr th {\n",
       "        vertical-align: top;\n",
       "    }\n",
       "\n",
       "    .dataframe thead th {\n",
       "        text-align: right;\n",
       "    }\n",
       "</style>\n",
       "<table border=\"1\" class=\"dataframe\">\n",
       "  <thead>\n",
       "    <tr style=\"text-align: right;\">\n",
       "      <th></th>\n",
       "      <th>Unnamed: 0</th>\n",
       "      <th>id</th>\n",
       "      <th>mb_used</th>\n",
       "      <th>session_date</th>\n",
       "      <th>user_id</th>\n",
       "    </tr>\n",
       "  </thead>\n",
       "  <tbody>\n",
       "    <tr>\n",
       "      <th>0</th>\n",
       "      <td>0</td>\n",
       "      <td>1000_0</td>\n",
       "      <td>112.95</td>\n",
       "      <td>2018-11-25</td>\n",
       "      <td>1000</td>\n",
       "    </tr>\n",
       "    <tr>\n",
       "      <th>1</th>\n",
       "      <td>1</td>\n",
       "      <td>1000_1</td>\n",
       "      <td>1052.81</td>\n",
       "      <td>2018-09-07</td>\n",
       "      <td>1000</td>\n",
       "    </tr>\n",
       "    <tr>\n",
       "      <th>2</th>\n",
       "      <td>2</td>\n",
       "      <td>1000_2</td>\n",
       "      <td>1197.26</td>\n",
       "      <td>2018-06-25</td>\n",
       "      <td>1000</td>\n",
       "    </tr>\n",
       "    <tr>\n",
       "      <th>3</th>\n",
       "      <td>3</td>\n",
       "      <td>1000_3</td>\n",
       "      <td>550.27</td>\n",
       "      <td>2018-08-22</td>\n",
       "      <td>1000</td>\n",
       "    </tr>\n",
       "    <tr>\n",
       "      <th>4</th>\n",
       "      <td>4</td>\n",
       "      <td>1000_4</td>\n",
       "      <td>302.56</td>\n",
       "      <td>2018-09-24</td>\n",
       "      <td>1000</td>\n",
       "    </tr>\n",
       "    <tr>\n",
       "      <th>5</th>\n",
       "      <td>5</td>\n",
       "      <td>1000_5</td>\n",
       "      <td>399.97</td>\n",
       "      <td>2018-10-02</td>\n",
       "      <td>1000</td>\n",
       "    </tr>\n",
       "    <tr>\n",
       "      <th>6</th>\n",
       "      <td>6</td>\n",
       "      <td>1000_6</td>\n",
       "      <td>540.08</td>\n",
       "      <td>2018-09-07</td>\n",
       "      <td>1000</td>\n",
       "    </tr>\n",
       "    <tr>\n",
       "      <th>7</th>\n",
       "      <td>7</td>\n",
       "      <td>1000_7</td>\n",
       "      <td>415.70</td>\n",
       "      <td>2018-07-11</td>\n",
       "      <td>1000</td>\n",
       "    </tr>\n",
       "    <tr>\n",
       "      <th>8</th>\n",
       "      <td>8</td>\n",
       "      <td>1000_8</td>\n",
       "      <td>505.40</td>\n",
       "      <td>2018-10-08</td>\n",
       "      <td>1000</td>\n",
       "    </tr>\n",
       "    <tr>\n",
       "      <th>9</th>\n",
       "      <td>9</td>\n",
       "      <td>1000_9</td>\n",
       "      <td>345.54</td>\n",
       "      <td>2018-09-03</td>\n",
       "      <td>1000</td>\n",
       "    </tr>\n",
       "  </tbody>\n",
       "</table>\n",
       "</div>"
      ],
      "text/plain": [
       "   Unnamed: 0      id  mb_used session_date  user_id\n",
       "0           0  1000_0   112.95   2018-11-25     1000\n",
       "1           1  1000_1  1052.81   2018-09-07     1000\n",
       "2           2  1000_2  1197.26   2018-06-25     1000\n",
       "3           3  1000_3   550.27   2018-08-22     1000\n",
       "4           4  1000_4   302.56   2018-09-24     1000\n",
       "5           5  1000_5   399.97   2018-10-02     1000\n",
       "6           6  1000_6   540.08   2018-09-07     1000\n",
       "7           7  1000_7   415.70   2018-07-11     1000\n",
       "8           8  1000_8   505.40   2018-10-08     1000\n",
       "9           9  1000_9   345.54   2018-09-03     1000"
      ]
     },
     "execution_count": 6,
     "metadata": {},
     "output_type": "execute_result"
    }
   ],
   "source": [
    "internet.head(10)"
   ]
  },
  {
   "cell_type": "code",
   "execution_count": 7,
   "metadata": {},
   "outputs": [
    {
     "name": "stdout",
     "output_type": "stream",
     "text": [
      "<class 'pandas.core.frame.DataFrame'>\n",
      "RangeIndex: 149396 entries, 0 to 149395\n",
      "Data columns (total 5 columns):\n",
      " #   Column        Non-Null Count   Dtype  \n",
      "---  ------        --------------   -----  \n",
      " 0   Unnamed: 0    149396 non-null  int64  \n",
      " 1   id            149396 non-null  object \n",
      " 2   mb_used       149396 non-null  float64\n",
      " 3   session_date  149396 non-null  object \n",
      " 4   user_id       149396 non-null  int64  \n",
      "dtypes: float64(1), int64(2), object(2)\n",
      "memory usage: 5.7+ MB\n"
     ]
    }
   ],
   "source": [
    "internet.info()"
   ]
  },
  {
   "cell_type": "code",
   "execution_count": 8,
   "metadata": {},
   "outputs": [
    {
     "data": {
      "text/html": [
       "<div>\n",
       "<style scoped>\n",
       "    .dataframe tbody tr th:only-of-type {\n",
       "        vertical-align: middle;\n",
       "    }\n",
       "\n",
       "    .dataframe tbody tr th {\n",
       "        vertical-align: top;\n",
       "    }\n",
       "\n",
       "    .dataframe thead th {\n",
       "        text-align: right;\n",
       "    }\n",
       "</style>\n",
       "<table border=\"1\" class=\"dataframe\">\n",
       "  <thead>\n",
       "    <tr style=\"text-align: right;\">\n",
       "      <th></th>\n",
       "      <th>Unnamed: 0</th>\n",
       "      <th>mb_used</th>\n",
       "      <th>user_id</th>\n",
       "    </tr>\n",
       "  </thead>\n",
       "  <tbody>\n",
       "    <tr>\n",
       "      <th>count</th>\n",
       "      <td>149396.000000</td>\n",
       "      <td>149396.000000</td>\n",
       "      <td>149396.000000</td>\n",
       "    </tr>\n",
       "    <tr>\n",
       "      <th>mean</th>\n",
       "      <td>74697.500000</td>\n",
       "      <td>370.192426</td>\n",
       "      <td>1252.099842</td>\n",
       "    </tr>\n",
       "    <tr>\n",
       "      <th>std</th>\n",
       "      <td>43127.054745</td>\n",
       "      <td>278.300951</td>\n",
       "      <td>144.050823</td>\n",
       "    </tr>\n",
       "    <tr>\n",
       "      <th>min</th>\n",
       "      <td>0.000000</td>\n",
       "      <td>0.000000</td>\n",
       "      <td>1000.000000</td>\n",
       "    </tr>\n",
       "    <tr>\n",
       "      <th>25%</th>\n",
       "      <td>37348.750000</td>\n",
       "      <td>138.187500</td>\n",
       "      <td>1130.000000</td>\n",
       "    </tr>\n",
       "    <tr>\n",
       "      <th>50%</th>\n",
       "      <td>74697.500000</td>\n",
       "      <td>348.015000</td>\n",
       "      <td>1251.000000</td>\n",
       "    </tr>\n",
       "    <tr>\n",
       "      <th>75%</th>\n",
       "      <td>112046.250000</td>\n",
       "      <td>559.552500</td>\n",
       "      <td>1380.000000</td>\n",
       "    </tr>\n",
       "    <tr>\n",
       "      <th>max</th>\n",
       "      <td>149395.000000</td>\n",
       "      <td>1724.830000</td>\n",
       "      <td>1499.000000</td>\n",
       "    </tr>\n",
       "  </tbody>\n",
       "</table>\n",
       "</div>"
      ],
      "text/plain": [
       "          Unnamed: 0        mb_used        user_id\n",
       "count  149396.000000  149396.000000  149396.000000\n",
       "mean    74697.500000     370.192426    1252.099842\n",
       "std     43127.054745     278.300951     144.050823\n",
       "min         0.000000       0.000000    1000.000000\n",
       "25%     37348.750000     138.187500    1130.000000\n",
       "50%     74697.500000     348.015000    1251.000000\n",
       "75%    112046.250000     559.552500    1380.000000\n",
       "max    149395.000000    1724.830000    1499.000000"
      ]
     },
     "execution_count": 8,
     "metadata": {},
     "output_type": "execute_result"
    }
   ],
   "source": [
    "internet.describe()"
   ]
  },
  {
   "cell_type": "markdown",
   "metadata": {},
   "source": [
    "Имеет смысл удалить колонку Unnamed: 0, так как она полностью иммитирует индексы таблицы internet. Поскольку плата идёт за округлённое в большую сторону количество гигабайт, то необходимо будет добавить столбец с гегабайтами для платы. Значения в столбце с мегабайтами интерента выглядят правдиво, но нужно будет проверить, как много людей вообще не используют интернет (возможно это баг)."
   ]
  },
  {
   "cell_type": "code",
   "execution_count": 9,
   "metadata": {
    "scrolled": true
   },
   "outputs": [
    {
     "data": {
      "text/html": [
       "<div>\n",
       "<style scoped>\n",
       "    .dataframe tbody tr th:only-of-type {\n",
       "        vertical-align: middle;\n",
       "    }\n",
       "\n",
       "    .dataframe tbody tr th {\n",
       "        vertical-align: top;\n",
       "    }\n",
       "\n",
       "    .dataframe thead th {\n",
       "        text-align: right;\n",
       "    }\n",
       "</style>\n",
       "<table border=\"1\" class=\"dataframe\">\n",
       "  <thead>\n",
       "    <tr style=\"text-align: right;\">\n",
       "      <th></th>\n",
       "      <th>id</th>\n",
       "      <th>message_date</th>\n",
       "      <th>user_id</th>\n",
       "    </tr>\n",
       "  </thead>\n",
       "  <tbody>\n",
       "    <tr>\n",
       "      <th>0</th>\n",
       "      <td>1000_0</td>\n",
       "      <td>2018-06-27</td>\n",
       "      <td>1000</td>\n",
       "    </tr>\n",
       "    <tr>\n",
       "      <th>1</th>\n",
       "      <td>1000_1</td>\n",
       "      <td>2018-10-08</td>\n",
       "      <td>1000</td>\n",
       "    </tr>\n",
       "    <tr>\n",
       "      <th>2</th>\n",
       "      <td>1000_2</td>\n",
       "      <td>2018-08-04</td>\n",
       "      <td>1000</td>\n",
       "    </tr>\n",
       "    <tr>\n",
       "      <th>3</th>\n",
       "      <td>1000_3</td>\n",
       "      <td>2018-06-16</td>\n",
       "      <td>1000</td>\n",
       "    </tr>\n",
       "    <tr>\n",
       "      <th>4</th>\n",
       "      <td>1000_4</td>\n",
       "      <td>2018-12-05</td>\n",
       "      <td>1000</td>\n",
       "    </tr>\n",
       "    <tr>\n",
       "      <th>5</th>\n",
       "      <td>1000_5</td>\n",
       "      <td>2018-06-20</td>\n",
       "      <td>1000</td>\n",
       "    </tr>\n",
       "    <tr>\n",
       "      <th>6</th>\n",
       "      <td>1000_6</td>\n",
       "      <td>2018-11-19</td>\n",
       "      <td>1000</td>\n",
       "    </tr>\n",
       "    <tr>\n",
       "      <th>7</th>\n",
       "      <td>1000_7</td>\n",
       "      <td>2018-10-29</td>\n",
       "      <td>1000</td>\n",
       "    </tr>\n",
       "    <tr>\n",
       "      <th>8</th>\n",
       "      <td>1000_8</td>\n",
       "      <td>2018-06-25</td>\n",
       "      <td>1000</td>\n",
       "    </tr>\n",
       "    <tr>\n",
       "      <th>9</th>\n",
       "      <td>1000_9</td>\n",
       "      <td>2018-12-18</td>\n",
       "      <td>1000</td>\n",
       "    </tr>\n",
       "  </tbody>\n",
       "</table>\n",
       "</div>"
      ],
      "text/plain": [
       "       id message_date  user_id\n",
       "0  1000_0   2018-06-27     1000\n",
       "1  1000_1   2018-10-08     1000\n",
       "2  1000_2   2018-08-04     1000\n",
       "3  1000_3   2018-06-16     1000\n",
       "4  1000_4   2018-12-05     1000\n",
       "5  1000_5   2018-06-20     1000\n",
       "6  1000_6   2018-11-19     1000\n",
       "7  1000_7   2018-10-29     1000\n",
       "8  1000_8   2018-06-25     1000\n",
       "9  1000_9   2018-12-18     1000"
      ]
     },
     "execution_count": 9,
     "metadata": {},
     "output_type": "execute_result"
    }
   ],
   "source": [
    "messages.head(10)"
   ]
  },
  {
   "cell_type": "code",
   "execution_count": 10,
   "metadata": {},
   "outputs": [
    {
     "name": "stdout",
     "output_type": "stream",
     "text": [
      "<class 'pandas.core.frame.DataFrame'>\n",
      "RangeIndex: 123036 entries, 0 to 123035\n",
      "Data columns (total 3 columns):\n",
      " #   Column        Non-Null Count   Dtype \n",
      "---  ------        --------------   ----- \n",
      " 0   id            123036 non-null  object\n",
      " 1   message_date  123036 non-null  object\n",
      " 2   user_id       123036 non-null  int64 \n",
      "dtypes: int64(1), object(2)\n",
      "memory usage: 2.8+ MB\n"
     ]
    }
   ],
   "source": [
    "messages.info()"
   ]
  },
  {
   "cell_type": "markdown",
   "metadata": {},
   "source": [
    "В таблице messages следует поменять тип данных колонки message_date на datetime и добавить нехватающие элементы в таблицу."
   ]
  },
  {
   "cell_type": "code",
   "execution_count": 11,
   "metadata": {
    "scrolled": true
   },
   "outputs": [
    {
     "data": {
      "text/html": [
       "<div>\n",
       "<style scoped>\n",
       "    .dataframe tbody tr th:only-of-type {\n",
       "        vertical-align: middle;\n",
       "    }\n",
       "\n",
       "    .dataframe tbody tr th {\n",
       "        vertical-align: top;\n",
       "    }\n",
       "\n",
       "    .dataframe thead th {\n",
       "        text-align: right;\n",
       "    }\n",
       "</style>\n",
       "<table border=\"1\" class=\"dataframe\">\n",
       "  <thead>\n",
       "    <tr style=\"text-align: right;\">\n",
       "      <th></th>\n",
       "      <th>messages_included</th>\n",
       "      <th>mb_per_month_included</th>\n",
       "      <th>minutes_included</th>\n",
       "      <th>rub_monthly_fee</th>\n",
       "      <th>rub_per_gb</th>\n",
       "      <th>rub_per_message</th>\n",
       "      <th>rub_per_minute</th>\n",
       "      <th>tariff_name</th>\n",
       "    </tr>\n",
       "  </thead>\n",
       "  <tbody>\n",
       "    <tr>\n",
       "      <th>0</th>\n",
       "      <td>50</td>\n",
       "      <td>15360</td>\n",
       "      <td>500</td>\n",
       "      <td>550</td>\n",
       "      <td>200</td>\n",
       "      <td>3</td>\n",
       "      <td>3</td>\n",
       "      <td>smart</td>\n",
       "    </tr>\n",
       "    <tr>\n",
       "      <th>1</th>\n",
       "      <td>1000</td>\n",
       "      <td>30720</td>\n",
       "      <td>3000</td>\n",
       "      <td>1950</td>\n",
       "      <td>150</td>\n",
       "      <td>1</td>\n",
       "      <td>1</td>\n",
       "      <td>ultra</td>\n",
       "    </tr>\n",
       "  </tbody>\n",
       "</table>\n",
       "</div>"
      ],
      "text/plain": [
       "   messages_included  mb_per_month_included  minutes_included  \\\n",
       "0                 50                  15360               500   \n",
       "1               1000                  30720              3000   \n",
       "\n",
       "   rub_monthly_fee  rub_per_gb  rub_per_message  rub_per_minute tariff_name  \n",
       "0              550         200                3               3       smart  \n",
       "1             1950         150                1               1       ultra  "
      ]
     },
     "execution_count": 11,
     "metadata": {},
     "output_type": "execute_result"
    }
   ],
   "source": [
    "tariffs.head()"
   ]
  },
  {
   "cell_type": "code",
   "execution_count": 12,
   "metadata": {},
   "outputs": [
    {
     "name": "stdout",
     "output_type": "stream",
     "text": [
      "<class 'pandas.core.frame.DataFrame'>\n",
      "RangeIndex: 2 entries, 0 to 1\n",
      "Data columns (total 8 columns):\n",
      " #   Column                 Non-Null Count  Dtype \n",
      "---  ------                 --------------  ----- \n",
      " 0   messages_included      2 non-null      int64 \n",
      " 1   mb_per_month_included  2 non-null      int64 \n",
      " 2   minutes_included       2 non-null      int64 \n",
      " 3   rub_monthly_fee        2 non-null      int64 \n",
      " 4   rub_per_gb             2 non-null      int64 \n",
      " 5   rub_per_message        2 non-null      int64 \n",
      " 6   rub_per_minute         2 non-null      int64 \n",
      " 7   tariff_name            2 non-null      object\n",
      "dtypes: int64(7), object(1)\n",
      "memory usage: 256.0+ bytes\n"
     ]
    }
   ],
   "source": [
    "tariffs.info()"
   ]
  },
  {
   "cell_type": "code",
   "execution_count": 13,
   "metadata": {},
   "outputs": [
    {
     "data": {
      "text/html": [
       "<div>\n",
       "<style scoped>\n",
       "    .dataframe tbody tr th:only-of-type {\n",
       "        vertical-align: middle;\n",
       "    }\n",
       "\n",
       "    .dataframe tbody tr th {\n",
       "        vertical-align: top;\n",
       "    }\n",
       "\n",
       "    .dataframe thead th {\n",
       "        text-align: right;\n",
       "    }\n",
       "</style>\n",
       "<table border=\"1\" class=\"dataframe\">\n",
       "  <thead>\n",
       "    <tr style=\"text-align: right;\">\n",
       "      <th></th>\n",
       "      <th>user_id</th>\n",
       "      <th>age</th>\n",
       "      <th>churn_date</th>\n",
       "      <th>city</th>\n",
       "      <th>first_name</th>\n",
       "      <th>last_name</th>\n",
       "      <th>reg_date</th>\n",
       "      <th>tariff</th>\n",
       "    </tr>\n",
       "  </thead>\n",
       "  <tbody>\n",
       "    <tr>\n",
       "      <th>0</th>\n",
       "      <td>1000</td>\n",
       "      <td>52</td>\n",
       "      <td>NaN</td>\n",
       "      <td>Краснодар</td>\n",
       "      <td>Рафаил</td>\n",
       "      <td>Верещагин</td>\n",
       "      <td>2018-05-25</td>\n",
       "      <td>ultra</td>\n",
       "    </tr>\n",
       "    <tr>\n",
       "      <th>1</th>\n",
       "      <td>1001</td>\n",
       "      <td>41</td>\n",
       "      <td>NaN</td>\n",
       "      <td>Москва</td>\n",
       "      <td>Иван</td>\n",
       "      <td>Ежов</td>\n",
       "      <td>2018-11-01</td>\n",
       "      <td>smart</td>\n",
       "    </tr>\n",
       "    <tr>\n",
       "      <th>2</th>\n",
       "      <td>1002</td>\n",
       "      <td>59</td>\n",
       "      <td>NaN</td>\n",
       "      <td>Стерлитамак</td>\n",
       "      <td>Евгений</td>\n",
       "      <td>Абрамович</td>\n",
       "      <td>2018-06-17</td>\n",
       "      <td>smart</td>\n",
       "    </tr>\n",
       "    <tr>\n",
       "      <th>3</th>\n",
       "      <td>1003</td>\n",
       "      <td>23</td>\n",
       "      <td>NaN</td>\n",
       "      <td>Москва</td>\n",
       "      <td>Белла</td>\n",
       "      <td>Белякова</td>\n",
       "      <td>2018-08-17</td>\n",
       "      <td>ultra</td>\n",
       "    </tr>\n",
       "    <tr>\n",
       "      <th>4</th>\n",
       "      <td>1004</td>\n",
       "      <td>68</td>\n",
       "      <td>NaN</td>\n",
       "      <td>Новокузнецк</td>\n",
       "      <td>Татьяна</td>\n",
       "      <td>Авдеенко</td>\n",
       "      <td>2018-05-14</td>\n",
       "      <td>ultra</td>\n",
       "    </tr>\n",
       "    <tr>\n",
       "      <th>5</th>\n",
       "      <td>1005</td>\n",
       "      <td>67</td>\n",
       "      <td>NaN</td>\n",
       "      <td>Набережные Челны</td>\n",
       "      <td>Афанасий</td>\n",
       "      <td>Горлов</td>\n",
       "      <td>2018-01-25</td>\n",
       "      <td>smart</td>\n",
       "    </tr>\n",
       "    <tr>\n",
       "      <th>6</th>\n",
       "      <td>1006</td>\n",
       "      <td>21</td>\n",
       "      <td>NaN</td>\n",
       "      <td>Ульяновск</td>\n",
       "      <td>Леонид</td>\n",
       "      <td>Ермолаев</td>\n",
       "      <td>2018-02-26</td>\n",
       "      <td>smart</td>\n",
       "    </tr>\n",
       "    <tr>\n",
       "      <th>7</th>\n",
       "      <td>1007</td>\n",
       "      <td>65</td>\n",
       "      <td>NaN</td>\n",
       "      <td>Москва</td>\n",
       "      <td>Юна</td>\n",
       "      <td>Березина</td>\n",
       "      <td>2018-04-19</td>\n",
       "      <td>smart</td>\n",
       "    </tr>\n",
       "    <tr>\n",
       "      <th>8</th>\n",
       "      <td>1008</td>\n",
       "      <td>63</td>\n",
       "      <td>NaN</td>\n",
       "      <td>Челябинск</td>\n",
       "      <td>Рустэм</td>\n",
       "      <td>Пономарёв</td>\n",
       "      <td>2018-12-19</td>\n",
       "      <td>smart</td>\n",
       "    </tr>\n",
       "    <tr>\n",
       "      <th>9</th>\n",
       "      <td>1009</td>\n",
       "      <td>24</td>\n",
       "      <td>NaN</td>\n",
       "      <td>Пермь</td>\n",
       "      <td>Василиса</td>\n",
       "      <td>Блинова</td>\n",
       "      <td>2018-03-22</td>\n",
       "      <td>smart</td>\n",
       "    </tr>\n",
       "  </tbody>\n",
       "</table>\n",
       "</div>"
      ],
      "text/plain": [
       "   user_id  age churn_date              city first_name  last_name  \\\n",
       "0     1000   52        NaN         Краснодар     Рафаил  Верещагин   \n",
       "1     1001   41        NaN            Москва       Иван       Ежов   \n",
       "2     1002   59        NaN       Стерлитамак    Евгений  Абрамович   \n",
       "3     1003   23        NaN            Москва      Белла   Белякова   \n",
       "4     1004   68        NaN       Новокузнецк    Татьяна   Авдеенко   \n",
       "5     1005   67        NaN  Набережные Челны   Афанасий     Горлов   \n",
       "6     1006   21        NaN         Ульяновск     Леонид   Ермолаев   \n",
       "7     1007   65        NaN            Москва        Юна   Березина   \n",
       "8     1008   63        NaN         Челябинск     Рустэм  Пономарёв   \n",
       "9     1009   24        NaN             Пермь   Василиса    Блинова   \n",
       "\n",
       "     reg_date tariff  \n",
       "0  2018-05-25  ultra  \n",
       "1  2018-11-01  smart  \n",
       "2  2018-06-17  smart  \n",
       "3  2018-08-17  ultra  \n",
       "4  2018-05-14  ultra  \n",
       "5  2018-01-25  smart  \n",
       "6  2018-02-26  smart  \n",
       "7  2018-04-19  smart  \n",
       "8  2018-12-19  smart  \n",
       "9  2018-03-22  smart  "
      ]
     },
     "execution_count": 13,
     "metadata": {},
     "output_type": "execute_result"
    }
   ],
   "source": [
    "users.head(10)"
   ]
  },
  {
   "cell_type": "code",
   "execution_count": 14,
   "metadata": {},
   "outputs": [
    {
     "name": "stdout",
     "output_type": "stream",
     "text": [
      "<class 'pandas.core.frame.DataFrame'>\n",
      "RangeIndex: 500 entries, 0 to 499\n",
      "Data columns (total 8 columns):\n",
      " #   Column      Non-Null Count  Dtype \n",
      "---  ------      --------------  ----- \n",
      " 0   user_id     500 non-null    int64 \n",
      " 1   age         500 non-null    int64 \n",
      " 2   churn_date  38 non-null     object\n",
      " 3   city        500 non-null    object\n",
      " 4   first_name  500 non-null    object\n",
      " 5   last_name   500 non-null    object\n",
      " 6   reg_date    500 non-null    object\n",
      " 7   tariff      500 non-null    object\n",
      "dtypes: int64(2), object(6)\n",
      "memory usage: 31.4+ KB\n"
     ]
    }
   ],
   "source": [
    "users.info()"
   ]
  },
  {
   "cell_type": "code",
   "execution_count": 15,
   "metadata": {},
   "outputs": [
    {
     "data": {
      "text/plain": [
       "count    500.00000\n",
       "mean      46.58800\n",
       "std       16.66763\n",
       "min       18.00000\n",
       "25%       32.00000\n",
       "50%       46.00000\n",
       "75%       62.00000\n",
       "max       75.00000\n",
       "Name: age, dtype: float64"
      ]
     },
     "execution_count": 15,
     "metadata": {},
     "output_type": "execute_result"
    }
   ],
   "source": [
    "users['age'].describe()"
   ]
  },
  {
   "cell_type": "markdown",
   "metadata": {},
   "source": [
    "В таблице users обнаружены пропуске в столбце с датой прекращения пользования тарифом. Значит тариф ещё действовал на момент выгрузки данных. Значения в столбце reg_date и churn_date следует преобразовать в datetime. Все данные таблицы возраста выглядят правдободоно."
   ]
  },
  {
   "cell_type": "markdown",
   "metadata": {},
   "source": [
    "### Вывод"
   ]
  },
  {
   "cell_type": "markdown",
   "metadata": {},
   "source": [
    "1. Необходимо изменение типа данных колонки call_date на тип datetime в таблице calls. Пропусков в ходе предварительного просмотра обнаружено не было. Значения в стобце продолжительности звонков выглядят правдиво.\n",
    "2. Имеет смысл удалить колонку Unnamed: 0, так как она полностью иммитирует индексы таблицы internet. Поскольку плата идёт за округлённое в большую сторону количество гигабайт, то необходимо будет добавить столбец с гегабайтами для платы. Значения в столбце с мегабайтами интерента выглядят правдиво, но нужно будет проверить, как много людей вообще не используют интернет (возможно это баг).\n",
    "3. В таблице messages следует поменять тип данных колонки message_date на datetime и добавить нехватающие элементы в таблицу.\n",
    "4. В таблице с тарифами всё оформлено правильно. Типы данных указаны верно.\n",
    "5. В таблице users обнаружены пропуске в столбце с датой прекращения пользования тарифом. Значит тариф ещё действовал на момент выгрузки данных. Значения в столбце reg_date и churn_date следует преобразовать в datetime. Все данные таблицы возраста выглядят правдободоно."
   ]
  },
  {
   "cell_type": "markdown",
   "metadata": {},
   "source": [
    "## Предварительная обработка данных"
   ]
  },
  {
   "cell_type": "markdown",
   "metadata": {},
   "source": [
    "### Приведение данных к нужным типам"
   ]
  },
  {
   "cell_type": "code",
   "execution_count": 16,
   "metadata": {},
   "outputs": [],
   "source": [
    "calls['call_date'] = pd.to_datetime(calls['call_date'], format='%Y-%m-%d')\n",
    "internet = internet.drop('Unnamed: 0', 1)\n",
    "internet['session_date'] = pd.to_datetime(internet['session_date'], format='%Y-%m-%d')\n",
    "messages['message_date'] = pd.to_datetime(messages['message_date'], format='%Y-%m-%d')\n",
    "users['reg_date'] = pd.to_datetime(users['reg_date'], format='%Y-%m-%d')\n",
    "users['churn_date'] = pd.to_datetime(users['churn_date'], format='%Y-%m-%d')"
   ]
  },
  {
   "cell_type": "code",
   "execution_count": 17,
   "metadata": {
    "scrolled": true
   },
   "outputs": [
    {
     "name": "stdout",
     "output_type": "stream",
     "text": [
      "<class 'pandas.core.frame.DataFrame'>\n",
      "RangeIndex: 202607 entries, 0 to 202606\n",
      "Data columns (total 4 columns):\n",
      " #   Column     Non-Null Count   Dtype         \n",
      "---  ------     --------------   -----         \n",
      " 0   id         202607 non-null  object        \n",
      " 1   call_date  202607 non-null  datetime64[ns]\n",
      " 2   duration   202607 non-null  float64       \n",
      " 3   user_id    202607 non-null  int64         \n",
      "dtypes: datetime64[ns](1), float64(1), int64(1), object(1)\n",
      "memory usage: 6.2+ MB\n"
     ]
    }
   ],
   "source": [
    "calls.info()"
   ]
  },
  {
   "cell_type": "code",
   "execution_count": 18,
   "metadata": {},
   "outputs": [
    {
     "data": {
      "text/html": [
       "<div>\n",
       "<style scoped>\n",
       "    .dataframe tbody tr th:only-of-type {\n",
       "        vertical-align: middle;\n",
       "    }\n",
       "\n",
       "    .dataframe tbody tr th {\n",
       "        vertical-align: top;\n",
       "    }\n",
       "\n",
       "    .dataframe thead th {\n",
       "        text-align: right;\n",
       "    }\n",
       "</style>\n",
       "<table border=\"1\" class=\"dataframe\">\n",
       "  <thead>\n",
       "    <tr style=\"text-align: right;\">\n",
       "      <th></th>\n",
       "      <th>id</th>\n",
       "      <th>mb_used</th>\n",
       "      <th>session_date</th>\n",
       "      <th>user_id</th>\n",
       "    </tr>\n",
       "  </thead>\n",
       "  <tbody>\n",
       "    <tr>\n",
       "      <th>0</th>\n",
       "      <td>1000_0</td>\n",
       "      <td>112.95</td>\n",
       "      <td>2018-11-25</td>\n",
       "      <td>1000</td>\n",
       "    </tr>\n",
       "    <tr>\n",
       "      <th>1</th>\n",
       "      <td>1000_1</td>\n",
       "      <td>1052.81</td>\n",
       "      <td>2018-09-07</td>\n",
       "      <td>1000</td>\n",
       "    </tr>\n",
       "    <tr>\n",
       "      <th>2</th>\n",
       "      <td>1000_2</td>\n",
       "      <td>1197.26</td>\n",
       "      <td>2018-06-25</td>\n",
       "      <td>1000</td>\n",
       "    </tr>\n",
       "    <tr>\n",
       "      <th>3</th>\n",
       "      <td>1000_3</td>\n",
       "      <td>550.27</td>\n",
       "      <td>2018-08-22</td>\n",
       "      <td>1000</td>\n",
       "    </tr>\n",
       "    <tr>\n",
       "      <th>4</th>\n",
       "      <td>1000_4</td>\n",
       "      <td>302.56</td>\n",
       "      <td>2018-09-24</td>\n",
       "      <td>1000</td>\n",
       "    </tr>\n",
       "  </tbody>\n",
       "</table>\n",
       "</div>"
      ],
      "text/plain": [
       "       id  mb_used session_date  user_id\n",
       "0  1000_0   112.95   2018-11-25     1000\n",
       "1  1000_1  1052.81   2018-09-07     1000\n",
       "2  1000_2  1197.26   2018-06-25     1000\n",
       "3  1000_3   550.27   2018-08-22     1000\n",
       "4  1000_4   302.56   2018-09-24     1000"
      ]
     },
     "execution_count": 18,
     "metadata": {},
     "output_type": "execute_result"
    }
   ],
   "source": [
    "internet.head()"
   ]
  },
  {
   "cell_type": "markdown",
   "metadata": {},
   "source": [
    "### Обработка пропусков и поиск ошибок в данных"
   ]
  },
  {
   "cell_type": "code",
   "execution_count": 19,
   "metadata": {
    "scrolled": false
   },
   "outputs": [
    {
     "data": {
      "text/plain": [
       "id           0\n",
       "call_date    0\n",
       "duration     0\n",
       "user_id      0\n",
       "dtype: int64"
      ]
     },
     "execution_count": 19,
     "metadata": {},
     "output_type": "execute_result"
    }
   ],
   "source": [
    "calls.isna().sum()"
   ]
  },
  {
   "cell_type": "code",
   "execution_count": 20,
   "metadata": {
    "scrolled": true
   },
   "outputs": [
    {
     "data": {
      "text/plain": [
       "id           0\n",
       "call_date    0\n",
       "duration     0\n",
       "user_id      0\n",
       "dtype: int64"
      ]
     },
     "execution_count": 20,
     "metadata": {},
     "output_type": "execute_result"
    }
   ],
   "source": [
    "calls.isnull().sum()"
   ]
  },
  {
   "cell_type": "code",
   "execution_count": 21,
   "metadata": {},
   "outputs": [
    {
     "data": {
      "text/plain": [
       "id              0\n",
       "mb_used         0\n",
       "session_date    0\n",
       "user_id         0\n",
       "dtype: int64"
      ]
     },
     "execution_count": 21,
     "metadata": {},
     "output_type": "execute_result"
    }
   ],
   "source": [
    "internet.isna().sum()"
   ]
  },
  {
   "cell_type": "code",
   "execution_count": 22,
   "metadata": {},
   "outputs": [
    {
     "data": {
      "text/plain": [
       "id              0\n",
       "mb_used         0\n",
       "session_date    0\n",
       "user_id         0\n",
       "dtype: int64"
      ]
     },
     "execution_count": 22,
     "metadata": {},
     "output_type": "execute_result"
    }
   ],
   "source": [
    "internet.isnull().sum()"
   ]
  },
  {
   "cell_type": "code",
   "execution_count": 23,
   "metadata": {},
   "outputs": [
    {
     "data": {
      "text/plain": [
       "id              0\n",
       "message_date    0\n",
       "user_id         0\n",
       "dtype: int64"
      ]
     },
     "execution_count": 23,
     "metadata": {},
     "output_type": "execute_result"
    }
   ],
   "source": [
    "messages.isna().sum()"
   ]
  },
  {
   "cell_type": "code",
   "execution_count": 24,
   "metadata": {},
   "outputs": [
    {
     "data": {
      "text/plain": [
       "id              0\n",
       "message_date    0\n",
       "user_id         0\n",
       "dtype: int64"
      ]
     },
     "execution_count": 24,
     "metadata": {},
     "output_type": "execute_result"
    }
   ],
   "source": [
    "messages.isnull().sum()"
   ]
  },
  {
   "cell_type": "code",
   "execution_count": 25,
   "metadata": {},
   "outputs": [
    {
     "data": {
      "text/plain": [
       "user_id         0\n",
       "age             0\n",
       "churn_date    462\n",
       "city            0\n",
       "first_name      0\n",
       "last_name       0\n",
       "reg_date        0\n",
       "tariff          0\n",
       "dtype: int64"
      ]
     },
     "execution_count": 25,
     "metadata": {},
     "output_type": "execute_result"
    }
   ],
   "source": [
    "users.isna().sum()"
   ]
  },
  {
   "cell_type": "code",
   "execution_count": 26,
   "metadata": {
    "scrolled": true
   },
   "outputs": [
    {
     "data": {
      "text/plain": [
       "user_id         0\n",
       "age             0\n",
       "churn_date    462\n",
       "city            0\n",
       "first_name      0\n",
       "last_name       0\n",
       "reg_date        0\n",
       "tariff          0\n",
       "dtype: int64"
      ]
     },
     "execution_count": 26,
     "metadata": {},
     "output_type": "execute_result"
    }
   ],
   "source": [
    "users.isnull().sum()"
   ]
  },
  {
   "cell_type": "markdown",
   "metadata": {},
   "source": [
    "**Выводы**"
   ]
  },
  {
   "cell_type": "markdown",
   "metadata": {},
   "source": [
    "Пропуски в таблице пользователей в столбце churn_date обусловлены тем, что пользователи на момент выгрузки данных всё ещё пользуются тарифом."
   ]
  },
  {
   "cell_type": "markdown",
   "metadata": {},
   "source": [
    "### Обработка дубликатов"
   ]
  },
  {
   "cell_type": "code",
   "execution_count": 27,
   "metadata": {
    "scrolled": true
   },
   "outputs": [
    {
     "name": "stdout",
     "output_type": "stream",
     "text": [
      "0\n",
      "0\n",
      "0\n",
      "0\n"
     ]
    }
   ],
   "source": [
    "print(calls.duplicated().sum())\n",
    "print(internet.duplicated().sum())\n",
    "print(messages.duplicated().sum())\n",
    "#users['city'] = users['city'].str.lower() приводим к нижнему регистру, чтобы с большей ворятностью отсечь дупликаты\n",
    "#users['first_name'] = users['first_name'].str.lower()\n",
    "#users['last_name'] = users['last_name'].str.lower()\n",
    "print(users.duplicated().sum())"
   ]
  },
  {
   "cell_type": "markdown",
   "metadata": {},
   "source": [
    "**Выводы**"
   ]
  },
  {
   "cell_type": "markdown",
   "metadata": {},
   "source": [
    "1. Приводим к нижнему регистру значения столбцов с городом и ФИ, чтобы с большей ворятностью отсечь дупликаты. Лемматизацию применять нет смысла, так как отдельно ФИО может совпадать, а совпадение всех элементов таблицы проверены методом duplicated"
   ]
  },
  {
   "cell_type": "markdown",
   "metadata": {},
   "source": [
    "### Добавление значений в таблицу"
   ]
  },
  {
   "cell_type": "code",
   "execution_count": 28,
   "metadata": {},
   "outputs": [],
   "source": [
    "calls['month'] = calls['call_date'].dt.month"
   ]
  },
  {
   "cell_type": "code",
   "execution_count": 29,
   "metadata": {},
   "outputs": [
    {
     "data": {
      "text/html": [
       "<div>\n",
       "<style scoped>\n",
       "    .dataframe tbody tr th:only-of-type {\n",
       "        vertical-align: middle;\n",
       "    }\n",
       "\n",
       "    .dataframe tbody tr th {\n",
       "        vertical-align: top;\n",
       "    }\n",
       "\n",
       "    .dataframe thead th {\n",
       "        text-align: right;\n",
       "    }\n",
       "</style>\n",
       "<table border=\"1\" class=\"dataframe\">\n",
       "  <thead>\n",
       "    <tr style=\"text-align: right;\">\n",
       "      <th></th>\n",
       "      <th>id</th>\n",
       "      <th>call_date</th>\n",
       "      <th>duration</th>\n",
       "      <th>user_id</th>\n",
       "      <th>month</th>\n",
       "    </tr>\n",
       "  </thead>\n",
       "  <tbody>\n",
       "    <tr>\n",
       "      <th>0</th>\n",
       "      <td>1000_0</td>\n",
       "      <td>2018-07-25</td>\n",
       "      <td>0.00</td>\n",
       "      <td>1000</td>\n",
       "      <td>7</td>\n",
       "    </tr>\n",
       "    <tr>\n",
       "      <th>1</th>\n",
       "      <td>1000_1</td>\n",
       "      <td>2018-08-17</td>\n",
       "      <td>0.00</td>\n",
       "      <td>1000</td>\n",
       "      <td>8</td>\n",
       "    </tr>\n",
       "    <tr>\n",
       "      <th>2</th>\n",
       "      <td>1000_2</td>\n",
       "      <td>2018-06-11</td>\n",
       "      <td>2.85</td>\n",
       "      <td>1000</td>\n",
       "      <td>6</td>\n",
       "    </tr>\n",
       "    <tr>\n",
       "      <th>3</th>\n",
       "      <td>1000_3</td>\n",
       "      <td>2018-09-21</td>\n",
       "      <td>13.80</td>\n",
       "      <td>1000</td>\n",
       "      <td>9</td>\n",
       "    </tr>\n",
       "    <tr>\n",
       "      <th>4</th>\n",
       "      <td>1000_4</td>\n",
       "      <td>2018-12-15</td>\n",
       "      <td>5.18</td>\n",
       "      <td>1000</td>\n",
       "      <td>12</td>\n",
       "    </tr>\n",
       "    <tr>\n",
       "      <th>5</th>\n",
       "      <td>1000_5</td>\n",
       "      <td>2018-11-02</td>\n",
       "      <td>0.00</td>\n",
       "      <td>1000</td>\n",
       "      <td>11</td>\n",
       "    </tr>\n",
       "    <tr>\n",
       "      <th>6</th>\n",
       "      <td>1000_6</td>\n",
       "      <td>2018-10-18</td>\n",
       "      <td>0.00</td>\n",
       "      <td>1000</td>\n",
       "      <td>10</td>\n",
       "    </tr>\n",
       "    <tr>\n",
       "      <th>7</th>\n",
       "      <td>1000_7</td>\n",
       "      <td>2018-08-22</td>\n",
       "      <td>18.31</td>\n",
       "      <td>1000</td>\n",
       "      <td>8</td>\n",
       "    </tr>\n",
       "    <tr>\n",
       "      <th>8</th>\n",
       "      <td>1000_8</td>\n",
       "      <td>2018-09-15</td>\n",
       "      <td>18.44</td>\n",
       "      <td>1000</td>\n",
       "      <td>9</td>\n",
       "    </tr>\n",
       "    <tr>\n",
       "      <th>9</th>\n",
       "      <td>1000_9</td>\n",
       "      <td>2018-08-15</td>\n",
       "      <td>0.00</td>\n",
       "      <td>1000</td>\n",
       "      <td>8</td>\n",
       "    </tr>\n",
       "  </tbody>\n",
       "</table>\n",
       "</div>"
      ],
      "text/plain": [
       "       id  call_date  duration  user_id  month\n",
       "0  1000_0 2018-07-25      0.00     1000      7\n",
       "1  1000_1 2018-08-17      0.00     1000      8\n",
       "2  1000_2 2018-06-11      2.85     1000      6\n",
       "3  1000_3 2018-09-21     13.80     1000      9\n",
       "4  1000_4 2018-12-15      5.18     1000     12\n",
       "5  1000_5 2018-11-02      0.00     1000     11\n",
       "6  1000_6 2018-10-18      0.00     1000     10\n",
       "7  1000_7 2018-08-22     18.31     1000      8\n",
       "8  1000_8 2018-09-15     18.44     1000      9\n",
       "9  1000_9 2018-08-15      0.00     1000      8"
      ]
     },
     "execution_count": 29,
     "metadata": {},
     "output_type": "execute_result"
    }
   ],
   "source": [
    "calls.head(10)"
   ]
  },
  {
   "cell_type": "code",
   "execution_count": 30,
   "metadata": {
    "scrolled": true
   },
   "outputs": [
    {
     "data": {
      "text/html": [
       "<div>\n",
       "<style scoped>\n",
       "    .dataframe tbody tr th:only-of-type {\n",
       "        vertical-align: middle;\n",
       "    }\n",
       "\n",
       "    .dataframe tbody tr th {\n",
       "        vertical-align: top;\n",
       "    }\n",
       "\n",
       "    .dataframe thead th {\n",
       "        text-align: right;\n",
       "    }\n",
       "</style>\n",
       "<table border=\"1\" class=\"dataframe\">\n",
       "  <thead>\n",
       "    <tr style=\"text-align: right;\">\n",
       "      <th></th>\n",
       "      <th></th>\n",
       "      <th>calls_count</th>\n",
       "      <th>calls_duration</th>\n",
       "    </tr>\n",
       "    <tr>\n",
       "      <th>user_id</th>\n",
       "      <th>month</th>\n",
       "      <th></th>\n",
       "      <th></th>\n",
       "    </tr>\n",
       "  </thead>\n",
       "  <tbody>\n",
       "    <tr>\n",
       "      <th rowspan=\"8\" valign=\"top\">1000</th>\n",
       "      <th>5</th>\n",
       "      <td>22</td>\n",
       "      <td>159</td>\n",
       "    </tr>\n",
       "    <tr>\n",
       "      <th>6</th>\n",
       "      <td>43</td>\n",
       "      <td>172</td>\n",
       "    </tr>\n",
       "    <tr>\n",
       "      <th>7</th>\n",
       "      <td>47</td>\n",
       "      <td>340</td>\n",
       "    </tr>\n",
       "    <tr>\n",
       "      <th>8</th>\n",
       "      <td>52</td>\n",
       "      <td>408</td>\n",
       "    </tr>\n",
       "    <tr>\n",
       "      <th>9</th>\n",
       "      <td>58</td>\n",
       "      <td>466</td>\n",
       "    </tr>\n",
       "    <tr>\n",
       "      <th>10</th>\n",
       "      <td>57</td>\n",
       "      <td>350</td>\n",
       "    </tr>\n",
       "    <tr>\n",
       "      <th>11</th>\n",
       "      <td>43</td>\n",
       "      <td>338</td>\n",
       "    </tr>\n",
       "    <tr>\n",
       "      <th>12</th>\n",
       "      <td>46</td>\n",
       "      <td>333</td>\n",
       "    </tr>\n",
       "    <tr>\n",
       "      <th rowspan=\"2\" valign=\"top\">1001</th>\n",
       "      <th>11</th>\n",
       "      <td>59</td>\n",
       "      <td>430</td>\n",
       "    </tr>\n",
       "    <tr>\n",
       "      <th>12</th>\n",
       "      <td>63</td>\n",
       "      <td>414</td>\n",
       "    </tr>\n",
       "    <tr>\n",
       "      <th rowspan=\"7\" valign=\"top\">1002</th>\n",
       "      <th>6</th>\n",
       "      <td>15</td>\n",
       "      <td>117</td>\n",
       "    </tr>\n",
       "    <tr>\n",
       "      <th>7</th>\n",
       "      <td>26</td>\n",
       "      <td>214</td>\n",
       "    </tr>\n",
       "    <tr>\n",
       "      <th>8</th>\n",
       "      <td>42</td>\n",
       "      <td>289</td>\n",
       "    </tr>\n",
       "    <tr>\n",
       "      <th>9</th>\n",
       "      <td>36</td>\n",
       "      <td>206</td>\n",
       "    </tr>\n",
       "    <tr>\n",
       "      <th>10</th>\n",
       "      <td>33</td>\n",
       "      <td>212</td>\n",
       "    </tr>\n",
       "    <tr>\n",
       "      <th>11</th>\n",
       "      <td>32</td>\n",
       "      <td>243</td>\n",
       "    </tr>\n",
       "    <tr>\n",
       "      <th>12</th>\n",
       "      <td>33</td>\n",
       "      <td>236</td>\n",
       "    </tr>\n",
       "    <tr>\n",
       "      <th rowspan=\"3\" valign=\"top\">1003</th>\n",
       "      <th>8</th>\n",
       "      <td>55</td>\n",
       "      <td>380</td>\n",
       "    </tr>\n",
       "    <tr>\n",
       "      <th>9</th>\n",
       "      <td>134</td>\n",
       "      <td>961</td>\n",
       "    </tr>\n",
       "    <tr>\n",
       "      <th>10</th>\n",
       "      <td>108</td>\n",
       "      <td>855</td>\n",
       "    </tr>\n",
       "  </tbody>\n",
       "</table>\n",
       "</div>"
      ],
      "text/plain": [
       "               calls_count  calls_duration\n",
       "user_id month                             \n",
       "1000    5               22             159\n",
       "        6               43             172\n",
       "        7               47             340\n",
       "        8               52             408\n",
       "        9               58             466\n",
       "        10              57             350\n",
       "        11              43             338\n",
       "        12              46             333\n",
       "1001    11              59             430\n",
       "        12              63             414\n",
       "1002    6               15             117\n",
       "        7               26             214\n",
       "        8               42             289\n",
       "        9               36             206\n",
       "        10              33             212\n",
       "        11              32             243\n",
       "        12              33             236\n",
       "1003    8               55             380\n",
       "        9              134             961\n",
       "        10             108             855"
      ]
     },
     "execution_count": 30,
     "metadata": {},
     "output_type": "execute_result"
    }
   ],
   "source": [
    "calls['duration_paid'] = np.ceil(calls['duration'])\n",
    "calls['duration_paid'] = calls['duration_paid'].astype('int')\n",
    "calls_count = calls.pivot_table(index=['user_id', 'month'], values='duration_paid', aggfunc=['count', 'sum'])\n",
    "calls_count.columns = ['calls_count', 'calls_duration']\n",
    "calls_count.head(20)"
   ]
  },
  {
   "cell_type": "code",
   "execution_count": 31,
   "metadata": {
    "scrolled": true
   },
   "outputs": [
    {
     "data": {
      "text/html": [
       "<div>\n",
       "<style scoped>\n",
       "    .dataframe tbody tr th:only-of-type {\n",
       "        vertical-align: middle;\n",
       "    }\n",
       "\n",
       "    .dataframe tbody tr th {\n",
       "        vertical-align: top;\n",
       "    }\n",
       "\n",
       "    .dataframe thead th {\n",
       "        text-align: right;\n",
       "    }\n",
       "</style>\n",
       "<table border=\"1\" class=\"dataframe\">\n",
       "  <thead>\n",
       "    <tr style=\"text-align: right;\">\n",
       "      <th></th>\n",
       "      <th></th>\n",
       "      <th>messages_count</th>\n",
       "    </tr>\n",
       "    <tr>\n",
       "      <th>user_id</th>\n",
       "      <th>month</th>\n",
       "      <th></th>\n",
       "    </tr>\n",
       "  </thead>\n",
       "  <tbody>\n",
       "    <tr>\n",
       "      <th rowspan=\"8\" valign=\"top\">1000</th>\n",
       "      <th>5</th>\n",
       "      <td>22</td>\n",
       "    </tr>\n",
       "    <tr>\n",
       "      <th>6</th>\n",
       "      <td>60</td>\n",
       "    </tr>\n",
       "    <tr>\n",
       "      <th>7</th>\n",
       "      <td>75</td>\n",
       "    </tr>\n",
       "    <tr>\n",
       "      <th>8</th>\n",
       "      <td>81</td>\n",
       "    </tr>\n",
       "    <tr>\n",
       "      <th>9</th>\n",
       "      <td>57</td>\n",
       "    </tr>\n",
       "    <tr>\n",
       "      <th>10</th>\n",
       "      <td>73</td>\n",
       "    </tr>\n",
       "    <tr>\n",
       "      <th>11</th>\n",
       "      <td>58</td>\n",
       "    </tr>\n",
       "    <tr>\n",
       "      <th>12</th>\n",
       "      <td>70</td>\n",
       "    </tr>\n",
       "    <tr>\n",
       "      <th rowspan=\"2\" valign=\"top\">1002</th>\n",
       "      <th>6</th>\n",
       "      <td>4</td>\n",
       "    </tr>\n",
       "    <tr>\n",
       "      <th>7</th>\n",
       "      <td>11</td>\n",
       "    </tr>\n",
       "  </tbody>\n",
       "</table>\n",
       "</div>"
      ],
      "text/plain": [
       "               messages_count\n",
       "user_id month                \n",
       "1000    5                  22\n",
       "        6                  60\n",
       "        7                  75\n",
       "        8                  81\n",
       "        9                  57\n",
       "        10                 73\n",
       "        11                 58\n",
       "        12                 70\n",
       "1002    6                   4\n",
       "        7                  11"
      ]
     },
     "execution_count": 31,
     "metadata": {},
     "output_type": "execute_result"
    }
   ],
   "source": [
    "messages['month'] = messages['message_date'].dt.month\n",
    "messages_count = messages.pivot_table(index=['user_id', 'month'], values='id', aggfunc=['count'])\n",
    "messages_count.columns = ['messages_count']\n",
    "messages_count.head(10)"
   ]
  },
  {
   "cell_type": "code",
   "execution_count": 32,
   "metadata": {},
   "outputs": [],
   "source": [
    "def gb_paid(mb):\n",
    "    gb = mb / 1024\n",
    "    return np.ceil(gb)"
   ]
  },
  {
   "cell_type": "code",
   "execution_count": 33,
   "metadata": {},
   "outputs": [
    {
     "data": {
      "text/html": [
       "<div>\n",
       "<style scoped>\n",
       "    .dataframe tbody tr th:only-of-type {\n",
       "        vertical-align: middle;\n",
       "    }\n",
       "\n",
       "    .dataframe tbody tr th {\n",
       "        vertical-align: top;\n",
       "    }\n",
       "\n",
       "    .dataframe thead th {\n",
       "        text-align: right;\n",
       "    }\n",
       "</style>\n",
       "<table border=\"1\" class=\"dataframe\">\n",
       "  <thead>\n",
       "    <tr style=\"text-align: right;\">\n",
       "      <th></th>\n",
       "      <th></th>\n",
       "      <th>traffic_sum</th>\n",
       "      <th>traffic_gb</th>\n",
       "    </tr>\n",
       "    <tr>\n",
       "      <th>user_id</th>\n",
       "      <th>month</th>\n",
       "      <th></th>\n",
       "      <th></th>\n",
       "    </tr>\n",
       "  </thead>\n",
       "  <tbody>\n",
       "    <tr>\n",
       "      <th rowspan=\"8\" valign=\"top\">1000</th>\n",
       "      <th>5</th>\n",
       "      <td>2253.49</td>\n",
       "      <td>3</td>\n",
       "    </tr>\n",
       "    <tr>\n",
       "      <th>6</th>\n",
       "      <td>23233.77</td>\n",
       "      <td>23</td>\n",
       "    </tr>\n",
       "    <tr>\n",
       "      <th>7</th>\n",
       "      <td>14003.64</td>\n",
       "      <td>14</td>\n",
       "    </tr>\n",
       "    <tr>\n",
       "      <th>8</th>\n",
       "      <td>14055.93</td>\n",
       "      <td>14</td>\n",
       "    </tr>\n",
       "    <tr>\n",
       "      <th>9</th>\n",
       "      <td>14568.91</td>\n",
       "      <td>15</td>\n",
       "    </tr>\n",
       "    <tr>\n",
       "      <th>10</th>\n",
       "      <td>14702.49</td>\n",
       "      <td>15</td>\n",
       "    </tr>\n",
       "    <tr>\n",
       "      <th>11</th>\n",
       "      <td>14756.47</td>\n",
       "      <td>15</td>\n",
       "    </tr>\n",
       "    <tr>\n",
       "      <th>12</th>\n",
       "      <td>9817.61</td>\n",
       "      <td>10</td>\n",
       "    </tr>\n",
       "    <tr>\n",
       "      <th rowspan=\"2\" valign=\"top\">1001</th>\n",
       "      <th>11</th>\n",
       "      <td>18429.34</td>\n",
       "      <td>18</td>\n",
       "    </tr>\n",
       "    <tr>\n",
       "      <th>12</th>\n",
       "      <td>14036.66</td>\n",
       "      <td>14</td>\n",
       "    </tr>\n",
       "    <tr>\n",
       "      <th rowspan=\"7\" valign=\"top\">1002</th>\n",
       "      <th>6</th>\n",
       "      <td>10856.82</td>\n",
       "      <td>11</td>\n",
       "    </tr>\n",
       "    <tr>\n",
       "      <th>7</th>\n",
       "      <td>17580.10</td>\n",
       "      <td>18</td>\n",
       "    </tr>\n",
       "    <tr>\n",
       "      <th>8</th>\n",
       "      <td>20319.26</td>\n",
       "      <td>20</td>\n",
       "    </tr>\n",
       "    <tr>\n",
       "      <th>9</th>\n",
       "      <td>16691.08</td>\n",
       "      <td>17</td>\n",
       "    </tr>\n",
       "    <tr>\n",
       "      <th>10</th>\n",
       "      <td>13888.25</td>\n",
       "      <td>14</td>\n",
       "    </tr>\n",
       "    <tr>\n",
       "      <th>11</th>\n",
       "      <td>18587.28</td>\n",
       "      <td>19</td>\n",
       "    </tr>\n",
       "    <tr>\n",
       "      <th>12</th>\n",
       "      <td>18113.73</td>\n",
       "      <td>18</td>\n",
       "    </tr>\n",
       "    <tr>\n",
       "      <th rowspan=\"3\" valign=\"top\">1003</th>\n",
       "      <th>8</th>\n",
       "      <td>8565.21</td>\n",
       "      <td>9</td>\n",
       "    </tr>\n",
       "    <tr>\n",
       "      <th>9</th>\n",
       "      <td>12468.87</td>\n",
       "      <td>13</td>\n",
       "    </tr>\n",
       "    <tr>\n",
       "      <th>10</th>\n",
       "      <td>14768.14</td>\n",
       "      <td>15</td>\n",
       "    </tr>\n",
       "  </tbody>\n",
       "</table>\n",
       "</div>"
      ],
      "text/plain": [
       "               traffic_sum  traffic_gb\n",
       "user_id month                         \n",
       "1000    5          2253.49           3\n",
       "        6         23233.77          23\n",
       "        7         14003.64          14\n",
       "        8         14055.93          14\n",
       "        9         14568.91          15\n",
       "        10        14702.49          15\n",
       "        11        14756.47          15\n",
       "        12         9817.61          10\n",
       "1001    11        18429.34          18\n",
       "        12        14036.66          14\n",
       "1002    6         10856.82          11\n",
       "        7         17580.10          18\n",
       "        8         20319.26          20\n",
       "        9         16691.08          17\n",
       "        10        13888.25          14\n",
       "        11        18587.28          19\n",
       "        12        18113.73          18\n",
       "1003    8          8565.21           9\n",
       "        9         12468.87          13\n",
       "        10        14768.14          15"
      ]
     },
     "execution_count": 33,
     "metadata": {},
     "output_type": "execute_result"
    }
   ],
   "source": [
    "internet['month'] = internet['session_date'].dt.month\n",
    "internet_count = internet.pivot_table(index=['user_id', 'month'], values=['mb_used'], aggfunc=['sum'])\n",
    "internet_count.columns = ['traffic_sum']\n",
    "internet_count['traffic_gb'] = internet_count['traffic_sum'].apply(gb_paid)\n",
    "internet_count['traffic_gb'] = internet_count['traffic_gb'].astype('int')\n",
    "internet_count.head(20)"
   ]
  },
  {
   "cell_type": "code",
   "execution_count": 34,
   "metadata": {
    "scrolled": true
   },
   "outputs": [
    {
     "name": "stdout",
     "output_type": "stream",
     "text": [
      "<class 'pandas.core.frame.DataFrame'>\n",
      "RangeIndex: 3214 entries, 0 to 3213\n",
      "Data columns (total 6 columns):\n",
      " #   Column          Non-Null Count  Dtype  \n",
      "---  ------          --------------  -----  \n",
      " 0   user_id         3214 non-null   int64  \n",
      " 1   month           3214 non-null   int64  \n",
      " 2   calls_count     3174 non-null   float64\n",
      " 3   calls_duration  3174 non-null   float64\n",
      " 4   messages_count  2717 non-null   float64\n",
      " 5   traffic_gb      3203 non-null   float64\n",
      "dtypes: float64(4), int64(2)\n",
      "memory usage: 150.8 KB\n"
     ]
    }
   ],
   "source": [
    "#full_month = calls_count.join([messages_count, internet_count], how='outer')\n",
    "full_month = calls_count.merge(messages_count, how='outer', on=['user_id', 'month'])\n",
    "full_month = full_month.merge(internet_count, how='outer', on=['user_id', 'month'])\n",
    "full_month = full_month.drop('traffic_sum', 1)\n",
    "full_month = full_month.reset_index()\n",
    "full_month.info()"
   ]
  },
  {
   "cell_type": "code",
   "execution_count": 35,
   "metadata": {
    "scrolled": true
   },
   "outputs": [
    {
     "data": {
      "text/html": [
       "<div>\n",
       "<style scoped>\n",
       "    .dataframe tbody tr th:only-of-type {\n",
       "        vertical-align: middle;\n",
       "    }\n",
       "\n",
       "    .dataframe tbody tr th {\n",
       "        vertical-align: top;\n",
       "    }\n",
       "\n",
       "    .dataframe thead th {\n",
       "        text-align: right;\n",
       "    }\n",
       "</style>\n",
       "<table border=\"1\" class=\"dataframe\">\n",
       "  <thead>\n",
       "    <tr style=\"text-align: right;\">\n",
       "      <th></th>\n",
       "      <th>messages_included</th>\n",
       "      <th>mb_per_month_included</th>\n",
       "      <th>minutes_included</th>\n",
       "      <th>rub_monthly_fee</th>\n",
       "      <th>rub_per_gb</th>\n",
       "      <th>rub_per_message</th>\n",
       "      <th>rub_per_minute</th>\n",
       "      <th>tariff_name</th>\n",
       "    </tr>\n",
       "  </thead>\n",
       "  <tbody>\n",
       "    <tr>\n",
       "      <th>0</th>\n",
       "      <td>50</td>\n",
       "      <td>15360</td>\n",
       "      <td>500</td>\n",
       "      <td>550</td>\n",
       "      <td>200</td>\n",
       "      <td>3</td>\n",
       "      <td>3</td>\n",
       "      <td>smart</td>\n",
       "    </tr>\n",
       "    <tr>\n",
       "      <th>1</th>\n",
       "      <td>1000</td>\n",
       "      <td>30720</td>\n",
       "      <td>3000</td>\n",
       "      <td>1950</td>\n",
       "      <td>150</td>\n",
       "      <td>1</td>\n",
       "      <td>1</td>\n",
       "      <td>ultra</td>\n",
       "    </tr>\n",
       "  </tbody>\n",
       "</table>\n",
       "</div>"
      ],
      "text/plain": [
       "   messages_included  mb_per_month_included  minutes_included  \\\n",
       "0                 50                  15360               500   \n",
       "1               1000                  30720              3000   \n",
       "\n",
       "   rub_monthly_fee  rub_per_gb  rub_per_message  rub_per_minute tariff_name  \n",
       "0              550         200                3               3       smart  \n",
       "1             1950         150                1               1       ultra  "
      ]
     },
     "execution_count": 35,
     "metadata": {},
     "output_type": "execute_result"
    }
   ],
   "source": [
    "tariffs.head()"
   ]
  },
  {
   "cell_type": "code",
   "execution_count": 36,
   "metadata": {},
   "outputs": [
    {
     "data": {
      "text/html": [
       "<div>\n",
       "<style scoped>\n",
       "    .dataframe tbody tr th:only-of-type {\n",
       "        vertical-align: middle;\n",
       "    }\n",
       "\n",
       "    .dataframe tbody tr th {\n",
       "        vertical-align: top;\n",
       "    }\n",
       "\n",
       "    .dataframe thead th {\n",
       "        text-align: right;\n",
       "    }\n",
       "</style>\n",
       "<table border=\"1\" class=\"dataframe\">\n",
       "  <thead>\n",
       "    <tr style=\"text-align: right;\">\n",
       "      <th></th>\n",
       "      <th>user_id</th>\n",
       "      <th>month</th>\n",
       "      <th>calls_count</th>\n",
       "      <th>calls_duration</th>\n",
       "      <th>messages_count</th>\n",
       "      <th>traffic_gb</th>\n",
       "      <th>age</th>\n",
       "      <th>churn_date</th>\n",
       "      <th>city</th>\n",
       "      <th>first_name</th>\n",
       "      <th>last_name</th>\n",
       "      <th>reg_date</th>\n",
       "      <th>tariff_name</th>\n",
       "      <th>messages_included</th>\n",
       "      <th>mb_per_month_included</th>\n",
       "      <th>minutes_included</th>\n",
       "      <th>rub_monthly_fee</th>\n",
       "      <th>rub_per_gb</th>\n",
       "      <th>rub_per_message</th>\n",
       "      <th>rub_per_minute</th>\n",
       "    </tr>\n",
       "  </thead>\n",
       "  <tbody>\n",
       "    <tr>\n",
       "      <th>0</th>\n",
       "      <td>1000</td>\n",
       "      <td>5</td>\n",
       "      <td>22.0</td>\n",
       "      <td>159.0</td>\n",
       "      <td>22.0</td>\n",
       "      <td>3.0</td>\n",
       "      <td>52</td>\n",
       "      <td>NaT</td>\n",
       "      <td>Краснодар</td>\n",
       "      <td>Рафаил</td>\n",
       "      <td>Верещагин</td>\n",
       "      <td>2018-05-25</td>\n",
       "      <td>ultra</td>\n",
       "      <td>1000</td>\n",
       "      <td>30720</td>\n",
       "      <td>3000</td>\n",
       "      <td>1950</td>\n",
       "      <td>150</td>\n",
       "      <td>1</td>\n",
       "      <td>1</td>\n",
       "    </tr>\n",
       "    <tr>\n",
       "      <th>1</th>\n",
       "      <td>1000</td>\n",
       "      <td>6</td>\n",
       "      <td>43.0</td>\n",
       "      <td>172.0</td>\n",
       "      <td>60.0</td>\n",
       "      <td>23.0</td>\n",
       "      <td>52</td>\n",
       "      <td>NaT</td>\n",
       "      <td>Краснодар</td>\n",
       "      <td>Рафаил</td>\n",
       "      <td>Верещагин</td>\n",
       "      <td>2018-05-25</td>\n",
       "      <td>ultra</td>\n",
       "      <td>1000</td>\n",
       "      <td>30720</td>\n",
       "      <td>3000</td>\n",
       "      <td>1950</td>\n",
       "      <td>150</td>\n",
       "      <td>1</td>\n",
       "      <td>1</td>\n",
       "    </tr>\n",
       "    <tr>\n",
       "      <th>2</th>\n",
       "      <td>1000</td>\n",
       "      <td>7</td>\n",
       "      <td>47.0</td>\n",
       "      <td>340.0</td>\n",
       "      <td>75.0</td>\n",
       "      <td>14.0</td>\n",
       "      <td>52</td>\n",
       "      <td>NaT</td>\n",
       "      <td>Краснодар</td>\n",
       "      <td>Рафаил</td>\n",
       "      <td>Верещагин</td>\n",
       "      <td>2018-05-25</td>\n",
       "      <td>ultra</td>\n",
       "      <td>1000</td>\n",
       "      <td>30720</td>\n",
       "      <td>3000</td>\n",
       "      <td>1950</td>\n",
       "      <td>150</td>\n",
       "      <td>1</td>\n",
       "      <td>1</td>\n",
       "    </tr>\n",
       "    <tr>\n",
       "      <th>3</th>\n",
       "      <td>1000</td>\n",
       "      <td>8</td>\n",
       "      <td>52.0</td>\n",
       "      <td>408.0</td>\n",
       "      <td>81.0</td>\n",
       "      <td>14.0</td>\n",
       "      <td>52</td>\n",
       "      <td>NaT</td>\n",
       "      <td>Краснодар</td>\n",
       "      <td>Рафаил</td>\n",
       "      <td>Верещагин</td>\n",
       "      <td>2018-05-25</td>\n",
       "      <td>ultra</td>\n",
       "      <td>1000</td>\n",
       "      <td>30720</td>\n",
       "      <td>3000</td>\n",
       "      <td>1950</td>\n",
       "      <td>150</td>\n",
       "      <td>1</td>\n",
       "      <td>1</td>\n",
       "    </tr>\n",
       "    <tr>\n",
       "      <th>4</th>\n",
       "      <td>1000</td>\n",
       "      <td>9</td>\n",
       "      <td>58.0</td>\n",
       "      <td>466.0</td>\n",
       "      <td>57.0</td>\n",
       "      <td>15.0</td>\n",
       "      <td>52</td>\n",
       "      <td>NaT</td>\n",
       "      <td>Краснодар</td>\n",
       "      <td>Рафаил</td>\n",
       "      <td>Верещагин</td>\n",
       "      <td>2018-05-25</td>\n",
       "      <td>ultra</td>\n",
       "      <td>1000</td>\n",
       "      <td>30720</td>\n",
       "      <td>3000</td>\n",
       "      <td>1950</td>\n",
       "      <td>150</td>\n",
       "      <td>1</td>\n",
       "      <td>1</td>\n",
       "    </tr>\n",
       "    <tr>\n",
       "      <th>5</th>\n",
       "      <td>1000</td>\n",
       "      <td>10</td>\n",
       "      <td>57.0</td>\n",
       "      <td>350.0</td>\n",
       "      <td>73.0</td>\n",
       "      <td>15.0</td>\n",
       "      <td>52</td>\n",
       "      <td>NaT</td>\n",
       "      <td>Краснодар</td>\n",
       "      <td>Рафаил</td>\n",
       "      <td>Верещагин</td>\n",
       "      <td>2018-05-25</td>\n",
       "      <td>ultra</td>\n",
       "      <td>1000</td>\n",
       "      <td>30720</td>\n",
       "      <td>3000</td>\n",
       "      <td>1950</td>\n",
       "      <td>150</td>\n",
       "      <td>1</td>\n",
       "      <td>1</td>\n",
       "    </tr>\n",
       "    <tr>\n",
       "      <th>6</th>\n",
       "      <td>1000</td>\n",
       "      <td>11</td>\n",
       "      <td>43.0</td>\n",
       "      <td>338.0</td>\n",
       "      <td>58.0</td>\n",
       "      <td>15.0</td>\n",
       "      <td>52</td>\n",
       "      <td>NaT</td>\n",
       "      <td>Краснодар</td>\n",
       "      <td>Рафаил</td>\n",
       "      <td>Верещагин</td>\n",
       "      <td>2018-05-25</td>\n",
       "      <td>ultra</td>\n",
       "      <td>1000</td>\n",
       "      <td>30720</td>\n",
       "      <td>3000</td>\n",
       "      <td>1950</td>\n",
       "      <td>150</td>\n",
       "      <td>1</td>\n",
       "      <td>1</td>\n",
       "    </tr>\n",
       "    <tr>\n",
       "      <th>7</th>\n",
       "      <td>1000</td>\n",
       "      <td>12</td>\n",
       "      <td>46.0</td>\n",
       "      <td>333.0</td>\n",
       "      <td>70.0</td>\n",
       "      <td>10.0</td>\n",
       "      <td>52</td>\n",
       "      <td>NaT</td>\n",
       "      <td>Краснодар</td>\n",
       "      <td>Рафаил</td>\n",
       "      <td>Верещагин</td>\n",
       "      <td>2018-05-25</td>\n",
       "      <td>ultra</td>\n",
       "      <td>1000</td>\n",
       "      <td>30720</td>\n",
       "      <td>3000</td>\n",
       "      <td>1950</td>\n",
       "      <td>150</td>\n",
       "      <td>1</td>\n",
       "      <td>1</td>\n",
       "    </tr>\n",
       "    <tr>\n",
       "      <th>8</th>\n",
       "      <td>1003</td>\n",
       "      <td>8</td>\n",
       "      <td>55.0</td>\n",
       "      <td>380.0</td>\n",
       "      <td>37.0</td>\n",
       "      <td>9.0</td>\n",
       "      <td>23</td>\n",
       "      <td>NaT</td>\n",
       "      <td>Москва</td>\n",
       "      <td>Белла</td>\n",
       "      <td>Белякова</td>\n",
       "      <td>2018-08-17</td>\n",
       "      <td>ultra</td>\n",
       "      <td>1000</td>\n",
       "      <td>30720</td>\n",
       "      <td>3000</td>\n",
       "      <td>1950</td>\n",
       "      <td>150</td>\n",
       "      <td>1</td>\n",
       "      <td>1</td>\n",
       "    </tr>\n",
       "    <tr>\n",
       "      <th>9</th>\n",
       "      <td>1003</td>\n",
       "      <td>9</td>\n",
       "      <td>134.0</td>\n",
       "      <td>961.0</td>\n",
       "      <td>91.0</td>\n",
       "      <td>13.0</td>\n",
       "      <td>23</td>\n",
       "      <td>NaT</td>\n",
       "      <td>Москва</td>\n",
       "      <td>Белла</td>\n",
       "      <td>Белякова</td>\n",
       "      <td>2018-08-17</td>\n",
       "      <td>ultra</td>\n",
       "      <td>1000</td>\n",
       "      <td>30720</td>\n",
       "      <td>3000</td>\n",
       "      <td>1950</td>\n",
       "      <td>150</td>\n",
       "      <td>1</td>\n",
       "      <td>1</td>\n",
       "    </tr>\n",
       "  </tbody>\n",
       "</table>\n",
       "</div>"
      ],
      "text/plain": [
       "   user_id  month  calls_count  calls_duration  messages_count  traffic_gb  \\\n",
       "0     1000      5         22.0           159.0            22.0         3.0   \n",
       "1     1000      6         43.0           172.0            60.0        23.0   \n",
       "2     1000      7         47.0           340.0            75.0        14.0   \n",
       "3     1000      8         52.0           408.0            81.0        14.0   \n",
       "4     1000      9         58.0           466.0            57.0        15.0   \n",
       "5     1000     10         57.0           350.0            73.0        15.0   \n",
       "6     1000     11         43.0           338.0            58.0        15.0   \n",
       "7     1000     12         46.0           333.0            70.0        10.0   \n",
       "8     1003      8         55.0           380.0            37.0         9.0   \n",
       "9     1003      9        134.0           961.0            91.0        13.0   \n",
       "\n",
       "   age churn_date       city first_name  last_name   reg_date tariff_name  \\\n",
       "0   52        NaT  Краснодар     Рафаил  Верещагин 2018-05-25       ultra   \n",
       "1   52        NaT  Краснодар     Рафаил  Верещагин 2018-05-25       ultra   \n",
       "2   52        NaT  Краснодар     Рафаил  Верещагин 2018-05-25       ultra   \n",
       "3   52        NaT  Краснодар     Рафаил  Верещагин 2018-05-25       ultra   \n",
       "4   52        NaT  Краснодар     Рафаил  Верещагин 2018-05-25       ultra   \n",
       "5   52        NaT  Краснодар     Рафаил  Верещагин 2018-05-25       ultra   \n",
       "6   52        NaT  Краснодар     Рафаил  Верещагин 2018-05-25       ultra   \n",
       "7   52        NaT  Краснодар     Рафаил  Верещагин 2018-05-25       ultra   \n",
       "8   23        NaT     Москва      Белла   Белякова 2018-08-17       ultra   \n",
       "9   23        NaT     Москва      Белла   Белякова 2018-08-17       ultra   \n",
       "\n",
       "   messages_included  mb_per_month_included  minutes_included  \\\n",
       "0               1000                  30720              3000   \n",
       "1               1000                  30720              3000   \n",
       "2               1000                  30720              3000   \n",
       "3               1000                  30720              3000   \n",
       "4               1000                  30720              3000   \n",
       "5               1000                  30720              3000   \n",
       "6               1000                  30720              3000   \n",
       "7               1000                  30720              3000   \n",
       "8               1000                  30720              3000   \n",
       "9               1000                  30720              3000   \n",
       "\n",
       "   rub_monthly_fee  rub_per_gb  rub_per_message  rub_per_minute  \n",
       "0             1950         150                1               1  \n",
       "1             1950         150                1               1  \n",
       "2             1950         150                1               1  \n",
       "3             1950         150                1               1  \n",
       "4             1950         150                1               1  \n",
       "5             1950         150                1               1  \n",
       "6             1950         150                1               1  \n",
       "7             1950         150                1               1  \n",
       "8             1950         150                1               1  \n",
       "9             1950         150                1               1  "
      ]
     },
     "execution_count": 36,
     "metadata": {},
     "output_type": "execute_result"
    }
   ],
   "source": [
    "full_month = full_month.merge(users, on='user_id')\n",
    "full_month = full_month.rename(columns={'tariff': 'tariff_name'})\n",
    "full_month = full_month.merge(tariffs, on='tariff_name')\n",
    "full_month.head(10)"
   ]
  },
  {
   "cell_type": "code",
   "execution_count": 37,
   "metadata": {},
   "outputs": [
    {
     "name": "stdout",
     "output_type": "stream",
     "text": [
      "<class 'pandas.core.frame.DataFrame'>\n",
      "Int64Index: 3214 entries, 0 to 3213\n",
      "Data columns (total 20 columns):\n",
      " #   Column                 Non-Null Count  Dtype         \n",
      "---  ------                 --------------  -----         \n",
      " 0   user_id                3214 non-null   int64         \n",
      " 1   month                  3214 non-null   int64         \n",
      " 2   calls_count            3174 non-null   float64       \n",
      " 3   calls_duration         3174 non-null   float64       \n",
      " 4   messages_count         2717 non-null   float64       \n",
      " 5   traffic_gb             3203 non-null   float64       \n",
      " 6   age                    3214 non-null   int64         \n",
      " 7   churn_date             187 non-null    datetime64[ns]\n",
      " 8   city                   3214 non-null   object        \n",
      " 9   first_name             3214 non-null   object        \n",
      " 10  last_name              3214 non-null   object        \n",
      " 11  reg_date               3214 non-null   datetime64[ns]\n",
      " 12  tariff_name            3214 non-null   object        \n",
      " 13  messages_included      3214 non-null   int64         \n",
      " 14  mb_per_month_included  3214 non-null   int64         \n",
      " 15  minutes_included       3214 non-null   int64         \n",
      " 16  rub_monthly_fee        3214 non-null   int64         \n",
      " 17  rub_per_gb             3214 non-null   int64         \n",
      " 18  rub_per_message        3214 non-null   int64         \n",
      " 19  rub_per_minute         3214 non-null   int64         \n",
      "dtypes: datetime64[ns](2), float64(4), int64(10), object(4)\n",
      "memory usage: 527.3+ KB\n"
     ]
    }
   ],
   "source": [
    "full_month.info()"
   ]
  },
  {
   "cell_type": "code",
   "execution_count": 38,
   "metadata": {},
   "outputs": [],
   "source": [
    "def revenue(row):\n",
    "        revenue = row['rub_monthly_fee']\n",
    "        message = row['messages_count'] - row['messages_included']\n",
    "        calls = row['calls_duration'] - row['minutes_included']\n",
    "        gb = row['traffic_gb'] - row['mb_per_month_included'] / 1024\n",
    "        if message > 0:\n",
    "            revenue += message * row['rub_per_message']\n",
    "        if calls > 0:\n",
    "            revenue += calls * row['rub_per_minute']\n",
    "        if gb > 0:\n",
    "            revenue += gb * row['rub_per_gb']\n",
    "        return revenue"
   ]
  },
  {
   "cell_type": "code",
   "execution_count": 39,
   "metadata": {},
   "outputs": [],
   "source": [
    "full_month['revenue'] = full_month.apply(revenue, axis=1)"
   ]
  },
  {
   "cell_type": "code",
   "execution_count": 40,
   "metadata": {},
   "outputs": [
    {
     "data": {
      "text/html": [
       "<div>\n",
       "<style scoped>\n",
       "    .dataframe tbody tr th:only-of-type {\n",
       "        vertical-align: middle;\n",
       "    }\n",
       "\n",
       "    .dataframe tbody tr th {\n",
       "        vertical-align: top;\n",
       "    }\n",
       "\n",
       "    .dataframe thead th {\n",
       "        text-align: right;\n",
       "    }\n",
       "</style>\n",
       "<table border=\"1\" class=\"dataframe\">\n",
       "  <thead>\n",
       "    <tr style=\"text-align: right;\">\n",
       "      <th></th>\n",
       "      <th>user_id</th>\n",
       "      <th>month</th>\n",
       "      <th>calls_count</th>\n",
       "      <th>calls_duration</th>\n",
       "      <th>messages_count</th>\n",
       "      <th>traffic_gb</th>\n",
       "      <th>age</th>\n",
       "      <th>churn_date</th>\n",
       "      <th>city</th>\n",
       "      <th>first_name</th>\n",
       "      <th>...</th>\n",
       "      <th>reg_date</th>\n",
       "      <th>tariff_name</th>\n",
       "      <th>messages_included</th>\n",
       "      <th>mb_per_month_included</th>\n",
       "      <th>minutes_included</th>\n",
       "      <th>rub_monthly_fee</th>\n",
       "      <th>rub_per_gb</th>\n",
       "      <th>rub_per_message</th>\n",
       "      <th>rub_per_minute</th>\n",
       "      <th>revenue</th>\n",
       "    </tr>\n",
       "  </thead>\n",
       "  <tbody>\n",
       "    <tr>\n",
       "      <th>50</th>\n",
       "      <td>1024</td>\n",
       "      <td>11</td>\n",
       "      <td>157.0</td>\n",
       "      <td>1146.0</td>\n",
       "      <td>NaN</td>\n",
       "      <td>43.0</td>\n",
       "      <td>73</td>\n",
       "      <td>NaT</td>\n",
       "      <td>Санкт-Петербург</td>\n",
       "      <td>Иулиан</td>\n",
       "      <td>...</td>\n",
       "      <td>2018-10-31</td>\n",
       "      <td>ultra</td>\n",
       "      <td>1000</td>\n",
       "      <td>30720</td>\n",
       "      <td>3000</td>\n",
       "      <td>1950</td>\n",
       "      <td>150</td>\n",
       "      <td>1</td>\n",
       "      <td>1</td>\n",
       "      <td>3900.0</td>\n",
       "    </tr>\n",
       "    <tr>\n",
       "      <th>51</th>\n",
       "      <td>1024</td>\n",
       "      <td>12</td>\n",
       "      <td>136.0</td>\n",
       "      <td>949.0</td>\n",
       "      <td>NaN</td>\n",
       "      <td>36.0</td>\n",
       "      <td>73</td>\n",
       "      <td>NaT</td>\n",
       "      <td>Санкт-Петербург</td>\n",
       "      <td>Иулиан</td>\n",
       "      <td>...</td>\n",
       "      <td>2018-10-31</td>\n",
       "      <td>ultra</td>\n",
       "      <td>1000</td>\n",
       "      <td>30720</td>\n",
       "      <td>3000</td>\n",
       "      <td>1950</td>\n",
       "      <td>150</td>\n",
       "      <td>1</td>\n",
       "      <td>1</td>\n",
       "      <td>2850.0</td>\n",
       "    </tr>\n",
       "    <tr>\n",
       "      <th>78</th>\n",
       "      <td>1050</td>\n",
       "      <td>7</td>\n",
       "      <td>35.0</td>\n",
       "      <td>209.0</td>\n",
       "      <td>52.0</td>\n",
       "      <td>35.0</td>\n",
       "      <td>44</td>\n",
       "      <td>2018-10-03</td>\n",
       "      <td>Тюмень</td>\n",
       "      <td>Рузана</td>\n",
       "      <td>...</td>\n",
       "      <td>2018-06-16</td>\n",
       "      <td>ultra</td>\n",
       "      <td>1000</td>\n",
       "      <td>30720</td>\n",
       "      <td>3000</td>\n",
       "      <td>1950</td>\n",
       "      <td>150</td>\n",
       "      <td>1</td>\n",
       "      <td>1</td>\n",
       "      <td>2700.0</td>\n",
       "    </tr>\n",
       "    <tr>\n",
       "      <th>97</th>\n",
       "      <td>1060</td>\n",
       "      <td>12</td>\n",
       "      <td>184.0</td>\n",
       "      <td>1233.0</td>\n",
       "      <td>52.0</td>\n",
       "      <td>43.0</td>\n",
       "      <td>46</td>\n",
       "      <td>NaT</td>\n",
       "      <td>Калуга</td>\n",
       "      <td>Яков</td>\n",
       "      <td>...</td>\n",
       "      <td>2018-11-24</td>\n",
       "      <td>ultra</td>\n",
       "      <td>1000</td>\n",
       "      <td>30720</td>\n",
       "      <td>3000</td>\n",
       "      <td>1950</td>\n",
       "      <td>150</td>\n",
       "      <td>1</td>\n",
       "      <td>1</td>\n",
       "      <td>3900.0</td>\n",
       "    </tr>\n",
       "    <tr>\n",
       "      <th>211</th>\n",
       "      <td>1124</td>\n",
       "      <td>10</td>\n",
       "      <td>152.0</td>\n",
       "      <td>1225.0</td>\n",
       "      <td>121.0</td>\n",
       "      <td>49.0</td>\n",
       "      <td>54</td>\n",
       "      <td>NaT</td>\n",
       "      <td>Махачкала</td>\n",
       "      <td>Альбин</td>\n",
       "      <td>...</td>\n",
       "      <td>2018-09-24</td>\n",
       "      <td>ultra</td>\n",
       "      <td>1000</td>\n",
       "      <td>30720</td>\n",
       "      <td>3000</td>\n",
       "      <td>1950</td>\n",
       "      <td>150</td>\n",
       "      <td>1</td>\n",
       "      <td>1</td>\n",
       "      <td>4800.0</td>\n",
       "    </tr>\n",
       "  </tbody>\n",
       "</table>\n",
       "<p>5 rows × 21 columns</p>\n",
       "</div>"
      ],
      "text/plain": [
       "     user_id  month  calls_count  calls_duration  messages_count  traffic_gb  \\\n",
       "50      1024     11        157.0          1146.0             NaN        43.0   \n",
       "51      1024     12        136.0           949.0             NaN        36.0   \n",
       "78      1050      7         35.0           209.0            52.0        35.0   \n",
       "97      1060     12        184.0          1233.0            52.0        43.0   \n",
       "211     1124     10        152.0          1225.0           121.0        49.0   \n",
       "\n",
       "     age churn_date             city first_name  ...   reg_date tariff_name  \\\n",
       "50    73        NaT  Санкт-Петербург     Иулиан  ... 2018-10-31       ultra   \n",
       "51    73        NaT  Санкт-Петербург     Иулиан  ... 2018-10-31       ultra   \n",
       "78    44 2018-10-03           Тюмень     Рузана  ... 2018-06-16       ultra   \n",
       "97    46        NaT           Калуга       Яков  ... 2018-11-24       ultra   \n",
       "211   54        NaT        Махачкала     Альбин  ... 2018-09-24       ultra   \n",
       "\n",
       "    messages_included  mb_per_month_included  minutes_included  \\\n",
       "50               1000                  30720              3000   \n",
       "51               1000                  30720              3000   \n",
       "78               1000                  30720              3000   \n",
       "97               1000                  30720              3000   \n",
       "211              1000                  30720              3000   \n",
       "\n",
       "     rub_monthly_fee  rub_per_gb  rub_per_message  rub_per_minute  revenue  \n",
       "50              1950         150                1               1   3900.0  \n",
       "51              1950         150                1               1   2850.0  \n",
       "78              1950         150                1               1   2700.0  \n",
       "97              1950         150                1               1   3900.0  \n",
       "211             1950         150                1               1   4800.0  \n",
       "\n",
       "[5 rows x 21 columns]"
      ]
     },
     "execution_count": 40,
     "metadata": {},
     "output_type": "execute_result"
    }
   ],
   "source": [
    "full_month.query('revenue > 1950').head()"
   ]
  },
  {
   "cell_type": "markdown",
   "metadata": {},
   "source": [
    "### Выводы"
   ]
  },
  {
   "cell_type": "markdown",
   "metadata": {},
   "source": [
    "1. Пропуски в таблице пользователей в столбце churn_date обусловлены тем, что пользователи на момент выгрузки данных всё ещё пользуются тарифом.\n",
    "2. Приводим к нижнему регистру значения столбцов с городом и ФИ, чтобы с большей ворятностью отсечь дупликаты. Лемматизацию применять нет смысла, так как отдельно ФИО может совпадать, а совпадение всех элементов таблицы проверены методом duplicated\n",
    "3. Создана сводная таблица, содержащая: по кадому коиенту помесячную информацию об использование их тарифного пакета и общий доход от использования тарифов и сверхтарифных минут, сообщений и гегабайт интернета."
   ]
  },
  {
   "cell_type": "markdown",
   "metadata": {},
   "source": [
    "## Анализ данных"
   ]
  },
  {
   "cell_type": "code",
   "execution_count": 41,
   "metadata": {
    "scrolled": true
   },
   "outputs": [
    {
     "data": {
      "image/png": "[encoded data removed]",
      "text/plain": [
       "<Figure size 432x288 with 1 Axes>"
      ]
     },
     "metadata": {
      "needs_background": "light"
     },
     "output_type": "display_data"
    }
   ],
   "source": [
    "ox = (full_month\n",
    " .query('tariff_name == \"ultra\"')\n",
    " .plot(kind='hist', y='calls_duration', label='Ultra', grid=True, legend=True, title='Звонки', range=(0,1700), bins=17)\n",
    ")\n",
    "\n",
    "(full_month\n",
    " .query('tariff_name == \"smart\"')\n",
    " .plot(kind='hist', y='calls_duration', label='Smart', grid=True, legend=True, ax=ox, alpha=0.6, range=(0,1700), bins=17)\n",
    ")\n",
    "plt.show()"
   ]
  },
  {
   "cell_type": "code",
   "execution_count": 42,
   "metadata": {},
   "outputs": [
    {
     "name": "stdout",
     "output_type": "stream",
     "text": [
      "94203.41839614809\n",
      "306.9257538821858\n"
     ]
    }
   ],
   "source": [
    "print(np.var(full_month.query('tariff_name == \"ultra\"')['calls_duration'], ddof=1))\n",
    "print(np.std(full_month.query('tariff_name == \"ultra\"')['calls_duration'], ddof=1))"
   ]
  },
  {
   "cell_type": "markdown",
   "metadata": {},
   "source": [
    "По тарифу ultra люди чаще всего говорят около 545 минут. Стандартное отколение по тарифу ультра более чем на 30% стандартного отклонения по тарифу смарт, что говорит о том, что абонементы по тарифу ультра имеет более широкий диапозон по ежемесячным минутам разговора, что объяснятеся доступностью минут для раговора по тарифу."
   ]
  },
  {
   "cell_type": "code",
   "execution_count": 43,
   "metadata": {
    "scrolled": true
   },
   "outputs": [
    {
     "name": "stdout",
     "output_type": "stream",
     "text": [
      "419.0629779577148\n",
      "545.4511041009464\n"
     ]
    }
   ],
   "source": [
    "print(full_month.query('tariff_name == \"smart\"')['calls_duration'].mean())\n",
    "print(full_month.query('tariff_name == \"ultra\"')['calls_duration'].mean())"
   ]
  },
  {
   "cell_type": "code",
   "execution_count": 44,
   "metadata": {},
   "outputs": [
    {
     "name": "stdout",
     "output_type": "stream",
     "text": [
      "35844.18955134385\n",
      "189.32561778941553\n"
     ]
    }
   ],
   "source": [
    "print(np.var(full_month.query('tariff_name == \"smart\"')['calls_duration'], ddof=1))\n",
    "print(np.std(full_month.query('tariff_name == \"smart\"')['calls_duration'], ddof=1))"
   ]
  },
  {
   "cell_type": "code",
   "execution_count": 45,
   "metadata": {},
   "outputs": [
    {
     "data": {
      "text/html": [
       "<div>\n",
       "<style scoped>\n",
       "    .dataframe tbody tr th:only-of-type {\n",
       "        vertical-align: middle;\n",
       "    }\n",
       "\n",
       "    .dataframe tbody tr th {\n",
       "        vertical-align: top;\n",
       "    }\n",
       "\n",
       "    .dataframe thead tr th {\n",
       "        text-align: left;\n",
       "    }\n",
       "\n",
       "    .dataframe thead tr:last-of-type th {\n",
       "        text-align: right;\n",
       "    }\n",
       "</style>\n",
       "<table border=\"1\" class=\"dataframe\">\n",
       "  <thead>\n",
       "    <tr>\n",
       "      <th></th>\n",
       "      <th>var</th>\n",
       "      <th>std</th>\n",
       "      <th>mean</th>\n",
       "    </tr>\n",
       "    <tr>\n",
       "      <th></th>\n",
       "      <th>calls_duration</th>\n",
       "      <th>calls_duration</th>\n",
       "      <th>calls_duration</th>\n",
       "    </tr>\n",
       "    <tr>\n",
       "      <th>tariff_name</th>\n",
       "      <th></th>\n",
       "      <th></th>\n",
       "      <th></th>\n",
       "    </tr>\n",
       "  </thead>\n",
       "  <tbody>\n",
       "    <tr>\n",
       "      <th>smart</th>\n",
       "      <td>35844.189551</td>\n",
       "      <td>189.325618</td>\n",
       "      <td>419.062978</td>\n",
       "    </tr>\n",
       "    <tr>\n",
       "      <th>ultra</th>\n",
       "      <td>94203.418396</td>\n",
       "      <td>306.925754</td>\n",
       "      <td>545.451104</td>\n",
       "    </tr>\n",
       "  </tbody>\n",
       "</table>\n",
       "</div>"
      ],
      "text/plain": [
       "                       var            std           mean\n",
       "            calls_duration calls_duration calls_duration\n",
       "tariff_name                                             \n",
       "smart         35844.189551     189.325618     419.062978\n",
       "ultra         94203.418396     306.925754     545.451104"
      ]
     },
     "execution_count": 45,
     "metadata": {},
     "output_type": "execute_result"
    }
   ],
   "source": [
    "full_month.pivot_table(\n",
    "    index = ['tariff_name'], values = 'calls_duration', \n",
    "    aggfunc = ['var', 'std','mean'] \n",
    "    )"
   ]
  },
  {
   "cell_type": "markdown",
   "metadata": {},
   "source": [
    "По тарифу смарт люди чаще всего горят в районе 420 минут, что совпадает с лимитом по тарифу. Стандартное отклнение равно 189 минутам."
   ]
  },
  {
   "cell_type": "code",
   "execution_count": 46,
   "metadata": {},
   "outputs": [
    {
     "data": {
      "image/png": "[encoded data removed]",
      "text/plain": [
       "<Figure size 432x288 with 1 Axes>"
      ]
     },
     "metadata": {
      "needs_background": "light"
     },
     "output_type": "display_data"
    }
   ],
   "source": [
    "ox = (full_month\n",
    " .query('tariff_name == \"smart\"')\n",
    " .plot(kind='hist', y='traffic_gb', title='Использование интернета по тарифу Smart в гигабайтах', grid=True, legend=True, label='smart')\n",
    ")\n",
    "(full_month\n",
    " .query('tariff_name == \"ultra\"')\n",
    " .plot(kind='hist', y='traffic_gb', title='Использование интернета по тарифу Ultra в гигабайтах', grid=True, legend=True, ax=ox, alpha=0.7, label='ultra')\n",
    ")\n",
    "plt.show()"
   ]
  },
  {
   "cell_type": "markdown",
   "metadata": {},
   "source": [
    "Чаще всего абоненты по тарифу smart в месяц на интернет тратят 12-21 гигабайта."
   ]
  },
  {
   "cell_type": "markdown",
   "metadata": {},
   "source": [
    "Чаще всего абоненты по тарифу ultra в месяц на интернет тратят 16-25 гигабайта."
   ]
  },
  {
   "cell_type": "code",
   "execution_count": 47,
   "metadata": {
    "scrolled": true
   },
   "outputs": [
    {
     "name": "stdout",
     "output_type": "stream",
     "text": [
      "В среднеме по тарифу smart на интренет тратится 16.33617594254937 гигабайт\n",
      "В среднеме по тарифу ultra на интренет тратится 19.694358974358973 гигабайт\n",
      "Дисперсия по тарифу smart равна 32.92375582354318\n",
      "Стандартное отклонение по тарифу smart равно 5.737922605224227\n",
      "Дисперсия по тарифу ultra равна 94.14673405991667\n",
      "Стандартное отклонение по тарифу ultra равно 9.702923995369472\n"
     ]
    }
   ],
   "source": [
    "print('В среднеме по тарифу smart на интренет тратится', full_month.query('tariff_name == \"smart\"')['traffic_gb'].mean(), 'гигабайт')\n",
    "print('В среднеме по тарифу ultra на интренет тратится', full_month.query('tariff_name == \"ultra\"')['traffic_gb'].mean(), 'гигабайт')\n",
    "print('Дисперсия по тарифу smart равна', np.var(full_month.query('tariff_name == \"smart\"')['traffic_gb'], ddof=1))\n",
    "print('Стандартное отклонение по тарифу smart равно', np.std(full_month.query('tariff_name == \"smart\"')['traffic_gb'], ddof=1))\n",
    "print('Дисперсия по тарифу ultra равна', np.var(full_month.query('tariff_name == \"ultra\"')['traffic_gb'], ddof=1))\n",
    "print('Стандартное отклонение по тарифу ultra равно', np.std(full_month.query('tariff_name == \"ultra\"')['traffic_gb'], ddof=1))"
   ]
  },
  {
   "cell_type": "markdown",
   "metadata": {},
   "source": [
    "Картина по дисперсии и стандартному отклонению схожа с теми же показателями при сравнении трат минут."
   ]
  },
  {
   "cell_type": "code",
   "execution_count": 48,
   "metadata": {
    "scrolled": true
   },
   "outputs": [
    {
     "data": {
      "image/png": "[encoded data removed]",
      "text/plain": [
       "<Figure size 432x288 with 1 Axes>"
      ]
     },
     "metadata": {
      "needs_background": "light"
     },
     "output_type": "display_data"
    }
   ],
   "source": [
    "ax = (full_month\n",
    " .query('tariff_name == \"smart\"')\n",
    " .plot(kind='hist', y='messages_count', label='Samrt', grid=True, legend=True)\n",
    ")\n",
    "(full_month\n",
    " .query('tariff_name == \"ultra\"')\n",
    " .plot(kind='hist', y='messages_count', label='Ultra', grid=True, legend=True, alpha=0.6, ax=ax, title= 'Сообщения')\n",
    ")\n",
    "plt.show()"
   ]
  },
  {
   "cell_type": "markdown",
   "metadata": {},
   "source": [
    "В целом 50 смс в неделю хватает большинству обонентов обоих тарифов. Стоит отметить, что абоненты тарифа ультра в среднем ежемясячно отправляют на 22 сообщения больше. "
   ]
  },
  {
   "cell_type": "code",
   "execution_count": 49,
   "metadata": {
    "scrolled": true
   },
   "outputs": [
    {
     "name": "stdout",
     "output_type": "stream",
     "text": [
      "В среднеме по тарифу smart абоненты отправляют 38.71644120707596 смс\n",
      "В среднеме по тарифу ultra абоненты отправляют 61.161006289308176 смс\n",
      "Дисперсия по тарифу smart равна 717.5942011753527\n",
      "Стандартное отклонение по тарифу smart равно 26.787948804926305\n",
      "Дисперсия по тарифу ultra равна 2109.6591828652035\n",
      "Стандартное отклонение по тарифу ultra равно 45.931026364160466\n"
     ]
    }
   ],
   "source": [
    "print('В среднеме по тарифу smart абоненты отправляют', full_month.query('tariff_name == \"smart\"')['messages_count'].mean(), 'смс')\n",
    "print('В среднеме по тарифу ultra абоненты отправляют', full_month.query('tariff_name == \"ultra\"')['messages_count'].mean(), 'смс')\n",
    "print('Дисперсия по тарифу smart равна', np.var(full_month.query('tariff_name == \"smart\"')['messages_count'], ddof=1))\n",
    "print('Стандартное отклонение по тарифу smart равно', np.std(full_month.query('tariff_name == \"smart\"')['messages_count'], ddof=1))\n",
    "print('Дисперсия по тарифу ultra равна', np.var(full_month.query('tariff_name == \"ultra\"')['messages_count'], ddof=1))\n",
    "print('Стандартное отклонение по тарифу ultra равно', np.std(full_month.query('tariff_name == \"ultra\"')['messages_count'], ddof=1))"
   ]
  },
  {
   "cell_type": "code",
   "execution_count": 50,
   "metadata": {
    "scrolled": true
   },
   "outputs": [
    {
     "data": {
      "image/png": "[encoded data removed]",
      "text/plain": [
       "<Figure size 432x288 with 1 Axes>"
      ]
     },
     "metadata": {
      "needs_background": "light"
     },
     "output_type": "display_data"
    }
   ],
   "source": [
    "ax = (full_month\n",
    " .query('tariff_name == \"smart\"')\n",
    " .plot(kind='hist', y='revenue', label='Samrt', grid=True, legend=True)\n",
    ")\n",
    "(full_month\n",
    " .query('tariff_name == \"ultra\"')\n",
    " .plot(kind='hist', y='revenue', label='Ultra', grid=True, legend=True, alpha=0.6, ax=ax, title= 'Сообщения', range=(550, 6000), bins = 10)\n",
    ")\n",
    "plt.show()"
   ]
  },
  {
   "cell_type": "markdown",
   "metadata": {},
   "source": [
    "Количество людей, выходящих за тарифный план среди пользователей тарифа smart больше чем среди ultra. "
   ]
  },
  {
   "cell_type": "markdown",
   "metadata": {},
   "source": [
    "### Выводы"
   ]
  },
  {
   "cell_type": "markdown",
   "metadata": {},
   "source": [
    "1. По тарифу ultra люди чаще всего говорят около 545 минут. Стандартное отколение по тарифу ультра более чем на 30% стандартного отклонения по тарифу смарт, что говорит о том, что абонементы по тарифу ультра имеет более широкий диапозон по ежемесячным минутам разговора, что объяснятеся доступностью минут для раговора по тарифу.\n",
    "2. По тарифу смарт люди чаще всего горят в районе 420 минут, что совпадает с лимитом по тарифу. Стандартное отклнение равно 189 минутам.\n",
    "3. Чаще всего абоненты по тарифу smart в месяц на интернет тратят 12-21 гигабайта.\n",
    "4. Картина по дисперсии и стандартному отклонению схожа с теми же показателями при сравнении трат минут.\n",
    "5. В целом 50 смс в неделю хватает большинству обонентов обоих тарифов. Стоит отметить, что абоненты тарифа ультра в среднем ежемясячно отправляют на 22 сообщения больше. \n",
    "6. Нередки случаи, когда абонементы по тарифу smart превышают лимиты по тарифу. С абонентами ultra такое бывает редко.\n",
    "7. Все гистограммы кроме гистограмм с сообщениями - распределены нормально."
   ]
  },
  {
   "cell_type": "markdown",
   "metadata": {},
   "source": [
    "## Проверка гипотез"
   ]
  },
  {
   "cell_type": "markdown",
   "metadata": {},
   "source": [
    "Базовые гипотезы формируются исходя из равенства двух наблюдаемых событий. Альтернативная же гипотеза формируется исходя из обратной базовой гипотезы, поэтому получаем следующие две базовые гипотезы:\n",
    "1. средняя выручка пользователей тарифов «Ультра» и «Смарт» равны;\n",
    "2. средняя выручка пользователей из Москвы не отличается от выручки пользователей из других регионов.\n",
    "\n",
    "Альтернативными будут являтся соотвествующие гипотезы: \n",
    "1. средняя выручка пользователей тарифов «Ультра» и «Смарт» не равны; \n",
    "2. средняя выручка пользователей из Москвы отличается от выручки пользователей из других регионов.\n",
    "\n",
    "Критерием для проверки гипотез будет считаться равентсов средних двух  выборок, так как в таком случае можно будет говорить о равентсве двух выручек, ведь данные выборки распределены нормально. Уровень статистической значимости (alpha) = 5%."
   ]
  },
  {
   "cell_type": "markdown",
   "metadata": {},
   "source": [
    "### Базовая гипотеза 1: Средняя выручка пользователей тарифов «Ультра» и «Смарт» равны"
   ]
  },
  {
   "cell_type": "code",
   "execution_count": 51,
   "metadata": {
    "scrolled": true
   },
   "outputs": [
    {
     "data": {
      "text/html": [
       "<div>\n",
       "<style scoped>\n",
       "    .dataframe tbody tr th:only-of-type {\n",
       "        vertical-align: middle;\n",
       "    }\n",
       "\n",
       "    .dataframe tbody tr th {\n",
       "        vertical-align: top;\n",
       "    }\n",
       "\n",
       "    .dataframe thead th {\n",
       "        text-align: right;\n",
       "    }\n",
       "</style>\n",
       "<table border=\"1\" class=\"dataframe\">\n",
       "  <thead>\n",
       "    <tr style=\"text-align: right;\">\n",
       "      <th></th>\n",
       "      <th>user_id</th>\n",
       "      <th>month</th>\n",
       "      <th>calls_count</th>\n",
       "      <th>calls_duration</th>\n",
       "      <th>messages_count</th>\n",
       "      <th>traffic_gb</th>\n",
       "      <th>age</th>\n",
       "      <th>churn_date</th>\n",
       "      <th>city</th>\n",
       "      <th>first_name</th>\n",
       "      <th>...</th>\n",
       "      <th>reg_date</th>\n",
       "      <th>tariff_name</th>\n",
       "      <th>messages_included</th>\n",
       "      <th>mb_per_month_included</th>\n",
       "      <th>minutes_included</th>\n",
       "      <th>rub_monthly_fee</th>\n",
       "      <th>rub_per_gb</th>\n",
       "      <th>rub_per_message</th>\n",
       "      <th>rub_per_minute</th>\n",
       "      <th>revenue</th>\n",
       "    </tr>\n",
       "  </thead>\n",
       "  <tbody>\n",
       "    <tr>\n",
       "      <th>0</th>\n",
       "      <td>1000</td>\n",
       "      <td>5</td>\n",
       "      <td>22.0</td>\n",
       "      <td>159.0</td>\n",
       "      <td>22.0</td>\n",
       "      <td>3.0</td>\n",
       "      <td>52</td>\n",
       "      <td>NaT</td>\n",
       "      <td>Краснодар</td>\n",
       "      <td>Рафаил</td>\n",
       "      <td>...</td>\n",
       "      <td>2018-05-25</td>\n",
       "      <td>ultra</td>\n",
       "      <td>1000</td>\n",
       "      <td>30720</td>\n",
       "      <td>3000</td>\n",
       "      <td>1950</td>\n",
       "      <td>150</td>\n",
       "      <td>1</td>\n",
       "      <td>1</td>\n",
       "      <td>1950.0</td>\n",
       "    </tr>\n",
       "    <tr>\n",
       "      <th>1</th>\n",
       "      <td>1000</td>\n",
       "      <td>6</td>\n",
       "      <td>43.0</td>\n",
       "      <td>172.0</td>\n",
       "      <td>60.0</td>\n",
       "      <td>23.0</td>\n",
       "      <td>52</td>\n",
       "      <td>NaT</td>\n",
       "      <td>Краснодар</td>\n",
       "      <td>Рафаил</td>\n",
       "      <td>...</td>\n",
       "      <td>2018-05-25</td>\n",
       "      <td>ultra</td>\n",
       "      <td>1000</td>\n",
       "      <td>30720</td>\n",
       "      <td>3000</td>\n",
       "      <td>1950</td>\n",
       "      <td>150</td>\n",
       "      <td>1</td>\n",
       "      <td>1</td>\n",
       "      <td>1950.0</td>\n",
       "    </tr>\n",
       "    <tr>\n",
       "      <th>2</th>\n",
       "      <td>1000</td>\n",
       "      <td>7</td>\n",
       "      <td>47.0</td>\n",
       "      <td>340.0</td>\n",
       "      <td>75.0</td>\n",
       "      <td>14.0</td>\n",
       "      <td>52</td>\n",
       "      <td>NaT</td>\n",
       "      <td>Краснодар</td>\n",
       "      <td>Рафаил</td>\n",
       "      <td>...</td>\n",
       "      <td>2018-05-25</td>\n",
       "      <td>ultra</td>\n",
       "      <td>1000</td>\n",
       "      <td>30720</td>\n",
       "      <td>3000</td>\n",
       "      <td>1950</td>\n",
       "      <td>150</td>\n",
       "      <td>1</td>\n",
       "      <td>1</td>\n",
       "      <td>1950.0</td>\n",
       "    </tr>\n",
       "    <tr>\n",
       "      <th>3</th>\n",
       "      <td>1000</td>\n",
       "      <td>8</td>\n",
       "      <td>52.0</td>\n",
       "      <td>408.0</td>\n",
       "      <td>81.0</td>\n",
       "      <td>14.0</td>\n",
       "      <td>52</td>\n",
       "      <td>NaT</td>\n",
       "      <td>Краснодар</td>\n",
       "      <td>Рафаил</td>\n",
       "      <td>...</td>\n",
       "      <td>2018-05-25</td>\n",
       "      <td>ultra</td>\n",
       "      <td>1000</td>\n",
       "      <td>30720</td>\n",
       "      <td>3000</td>\n",
       "      <td>1950</td>\n",
       "      <td>150</td>\n",
       "      <td>1</td>\n",
       "      <td>1</td>\n",
       "      <td>1950.0</td>\n",
       "    </tr>\n",
       "    <tr>\n",
       "      <th>4</th>\n",
       "      <td>1000</td>\n",
       "      <td>9</td>\n",
       "      <td>58.0</td>\n",
       "      <td>466.0</td>\n",
       "      <td>57.0</td>\n",
       "      <td>15.0</td>\n",
       "      <td>52</td>\n",
       "      <td>NaT</td>\n",
       "      <td>Краснодар</td>\n",
       "      <td>Рафаил</td>\n",
       "      <td>...</td>\n",
       "      <td>2018-05-25</td>\n",
       "      <td>ultra</td>\n",
       "      <td>1000</td>\n",
       "      <td>30720</td>\n",
       "      <td>3000</td>\n",
       "      <td>1950</td>\n",
       "      <td>150</td>\n",
       "      <td>1</td>\n",
       "      <td>1</td>\n",
       "      <td>1950.0</td>\n",
       "    </tr>\n",
       "    <tr>\n",
       "      <th>5</th>\n",
       "      <td>1000</td>\n",
       "      <td>10</td>\n",
       "      <td>57.0</td>\n",
       "      <td>350.0</td>\n",
       "      <td>73.0</td>\n",
       "      <td>15.0</td>\n",
       "      <td>52</td>\n",
       "      <td>NaT</td>\n",
       "      <td>Краснодар</td>\n",
       "      <td>Рафаил</td>\n",
       "      <td>...</td>\n",
       "      <td>2018-05-25</td>\n",
       "      <td>ultra</td>\n",
       "      <td>1000</td>\n",
       "      <td>30720</td>\n",
       "      <td>3000</td>\n",
       "      <td>1950</td>\n",
       "      <td>150</td>\n",
       "      <td>1</td>\n",
       "      <td>1</td>\n",
       "      <td>1950.0</td>\n",
       "    </tr>\n",
       "    <tr>\n",
       "      <th>6</th>\n",
       "      <td>1000</td>\n",
       "      <td>11</td>\n",
       "      <td>43.0</td>\n",
       "      <td>338.0</td>\n",
       "      <td>58.0</td>\n",
       "      <td>15.0</td>\n",
       "      <td>52</td>\n",
       "      <td>NaT</td>\n",
       "      <td>Краснодар</td>\n",
       "      <td>Рафаил</td>\n",
       "      <td>...</td>\n",
       "      <td>2018-05-25</td>\n",
       "      <td>ultra</td>\n",
       "      <td>1000</td>\n",
       "      <td>30720</td>\n",
       "      <td>3000</td>\n",
       "      <td>1950</td>\n",
       "      <td>150</td>\n",
       "      <td>1</td>\n",
       "      <td>1</td>\n",
       "      <td>1950.0</td>\n",
       "    </tr>\n",
       "    <tr>\n",
       "      <th>7</th>\n",
       "      <td>1000</td>\n",
       "      <td>12</td>\n",
       "      <td>46.0</td>\n",
       "      <td>333.0</td>\n",
       "      <td>70.0</td>\n",
       "      <td>10.0</td>\n",
       "      <td>52</td>\n",
       "      <td>NaT</td>\n",
       "      <td>Краснодар</td>\n",
       "      <td>Рафаил</td>\n",
       "      <td>...</td>\n",
       "      <td>2018-05-25</td>\n",
       "      <td>ultra</td>\n",
       "      <td>1000</td>\n",
       "      <td>30720</td>\n",
       "      <td>3000</td>\n",
       "      <td>1950</td>\n",
       "      <td>150</td>\n",
       "      <td>1</td>\n",
       "      <td>1</td>\n",
       "      <td>1950.0</td>\n",
       "    </tr>\n",
       "    <tr>\n",
       "      <th>8</th>\n",
       "      <td>1003</td>\n",
       "      <td>8</td>\n",
       "      <td>55.0</td>\n",
       "      <td>380.0</td>\n",
       "      <td>37.0</td>\n",
       "      <td>9.0</td>\n",
       "      <td>23</td>\n",
       "      <td>NaT</td>\n",
       "      <td>Москва</td>\n",
       "      <td>Белла</td>\n",
       "      <td>...</td>\n",
       "      <td>2018-08-17</td>\n",
       "      <td>ultra</td>\n",
       "      <td>1000</td>\n",
       "      <td>30720</td>\n",
       "      <td>3000</td>\n",
       "      <td>1950</td>\n",
       "      <td>150</td>\n",
       "      <td>1</td>\n",
       "      <td>1</td>\n",
       "      <td>1950.0</td>\n",
       "    </tr>\n",
       "    <tr>\n",
       "      <th>9</th>\n",
       "      <td>1003</td>\n",
       "      <td>9</td>\n",
       "      <td>134.0</td>\n",
       "      <td>961.0</td>\n",
       "      <td>91.0</td>\n",
       "      <td>13.0</td>\n",
       "      <td>23</td>\n",
       "      <td>NaT</td>\n",
       "      <td>Москва</td>\n",
       "      <td>Белла</td>\n",
       "      <td>...</td>\n",
       "      <td>2018-08-17</td>\n",
       "      <td>ultra</td>\n",
       "      <td>1000</td>\n",
       "      <td>30720</td>\n",
       "      <td>3000</td>\n",
       "      <td>1950</td>\n",
       "      <td>150</td>\n",
       "      <td>1</td>\n",
       "      <td>1</td>\n",
       "      <td>1950.0</td>\n",
       "    </tr>\n",
       "    <tr>\n",
       "      <th>10</th>\n",
       "      <td>1003</td>\n",
       "      <td>10</td>\n",
       "      <td>108.0</td>\n",
       "      <td>855.0</td>\n",
       "      <td>83.0</td>\n",
       "      <td>15.0</td>\n",
       "      <td>23</td>\n",
       "      <td>NaT</td>\n",
       "      <td>Москва</td>\n",
       "      <td>Белла</td>\n",
       "      <td>...</td>\n",
       "      <td>2018-08-17</td>\n",
       "      <td>ultra</td>\n",
       "      <td>1000</td>\n",
       "      <td>30720</td>\n",
       "      <td>3000</td>\n",
       "      <td>1950</td>\n",
       "      <td>150</td>\n",
       "      <td>1</td>\n",
       "      <td>1</td>\n",
       "      <td>1950.0</td>\n",
       "    </tr>\n",
       "    <tr>\n",
       "      <th>11</th>\n",
       "      <td>1003</td>\n",
       "      <td>11</td>\n",
       "      <td>115.0</td>\n",
       "      <td>824.0</td>\n",
       "      <td>94.0</td>\n",
       "      <td>12.0</td>\n",
       "      <td>23</td>\n",
       "      <td>NaT</td>\n",
       "      <td>Москва</td>\n",
       "      <td>Белла</td>\n",
       "      <td>...</td>\n",
       "      <td>2018-08-17</td>\n",
       "      <td>ultra</td>\n",
       "      <td>1000</td>\n",
       "      <td>30720</td>\n",
       "      <td>3000</td>\n",
       "      <td>1950</td>\n",
       "      <td>150</td>\n",
       "      <td>1</td>\n",
       "      <td>1</td>\n",
       "      <td>1950.0</td>\n",
       "    </tr>\n",
       "    <tr>\n",
       "      <th>12</th>\n",
       "      <td>1003</td>\n",
       "      <td>12</td>\n",
       "      <td>108.0</td>\n",
       "      <td>802.0</td>\n",
       "      <td>75.0</td>\n",
       "      <td>10.0</td>\n",
       "      <td>23</td>\n",
       "      <td>NaT</td>\n",
       "      <td>Москва</td>\n",
       "      <td>Белла</td>\n",
       "      <td>...</td>\n",
       "      <td>2018-08-17</td>\n",
       "      <td>ultra</td>\n",
       "      <td>1000</td>\n",
       "      <td>30720</td>\n",
       "      <td>3000</td>\n",
       "      <td>1950</td>\n",
       "      <td>150</td>\n",
       "      <td>1</td>\n",
       "      <td>1</td>\n",
       "      <td>1950.0</td>\n",
       "    </tr>\n",
       "    <tr>\n",
       "      <th>13</th>\n",
       "      <td>1004</td>\n",
       "      <td>5</td>\n",
       "      <td>9.0</td>\n",
       "      <td>35.0</td>\n",
       "      <td>95.0</td>\n",
       "      <td>14.0</td>\n",
       "      <td>68</td>\n",
       "      <td>NaT</td>\n",
       "      <td>Новокузнецк</td>\n",
       "      <td>Татьяна</td>\n",
       "      <td>...</td>\n",
       "      <td>2018-05-14</td>\n",
       "      <td>ultra</td>\n",
       "      <td>1000</td>\n",
       "      <td>30720</td>\n",
       "      <td>3000</td>\n",
       "      <td>1950</td>\n",
       "      <td>150</td>\n",
       "      <td>1</td>\n",
       "      <td>1</td>\n",
       "      <td>1950.0</td>\n",
       "    </tr>\n",
       "    <tr>\n",
       "      <th>14</th>\n",
       "      <td>1004</td>\n",
       "      <td>6</td>\n",
       "      <td>31.0</td>\n",
       "      <td>171.0</td>\n",
       "      <td>134.0</td>\n",
       "      <td>18.0</td>\n",
       "      <td>68</td>\n",
       "      <td>NaT</td>\n",
       "      <td>Новокузнецк</td>\n",
       "      <td>Татьяна</td>\n",
       "      <td>...</td>\n",
       "      <td>2018-05-14</td>\n",
       "      <td>ultra</td>\n",
       "      <td>1000</td>\n",
       "      <td>30720</td>\n",
       "      <td>3000</td>\n",
       "      <td>1950</td>\n",
       "      <td>150</td>\n",
       "      <td>1</td>\n",
       "      <td>1</td>\n",
       "      <td>1950.0</td>\n",
       "    </tr>\n",
       "    <tr>\n",
       "      <th>15</th>\n",
       "      <td>1004</td>\n",
       "      <td>7</td>\n",
       "      <td>22.0</td>\n",
       "      <td>135.0</td>\n",
       "      <td>181.0</td>\n",
       "      <td>22.0</td>\n",
       "      <td>68</td>\n",
       "      <td>NaT</td>\n",
       "      <td>Новокузнецк</td>\n",
       "      <td>Татьяна</td>\n",
       "      <td>...</td>\n",
       "      <td>2018-05-14</td>\n",
       "      <td>ultra</td>\n",
       "      <td>1000</td>\n",
       "      <td>30720</td>\n",
       "      <td>3000</td>\n",
       "      <td>1950</td>\n",
       "      <td>150</td>\n",
       "      <td>1</td>\n",
       "      <td>1</td>\n",
       "      <td>1950.0</td>\n",
       "    </tr>\n",
       "    <tr>\n",
       "      <th>16</th>\n",
       "      <td>1004</td>\n",
       "      <td>8</td>\n",
       "      <td>19.0</td>\n",
       "      <td>137.0</td>\n",
       "      <td>151.0</td>\n",
       "      <td>28.0</td>\n",
       "      <td>68</td>\n",
       "      <td>NaT</td>\n",
       "      <td>Новокузнецк</td>\n",
       "      <td>Татьяна</td>\n",
       "      <td>...</td>\n",
       "      <td>2018-05-14</td>\n",
       "      <td>ultra</td>\n",
       "      <td>1000</td>\n",
       "      <td>30720</td>\n",
       "      <td>3000</td>\n",
       "      <td>1950</td>\n",
       "      <td>150</td>\n",
       "      <td>1</td>\n",
       "      <td>1</td>\n",
       "      <td>1950.0</td>\n",
       "    </tr>\n",
       "    <tr>\n",
       "      <th>17</th>\n",
       "      <td>1004</td>\n",
       "      <td>9</td>\n",
       "      <td>26.0</td>\n",
       "      <td>117.0</td>\n",
       "      <td>146.0</td>\n",
       "      <td>15.0</td>\n",
       "      <td>68</td>\n",
       "      <td>NaT</td>\n",
       "      <td>Новокузнецк</td>\n",
       "      <td>Татьяна</td>\n",
       "      <td>...</td>\n",
       "      <td>2018-05-14</td>\n",
       "      <td>ultra</td>\n",
       "      <td>1000</td>\n",
       "      <td>30720</td>\n",
       "      <td>3000</td>\n",
       "      <td>1950</td>\n",
       "      <td>150</td>\n",
       "      <td>1</td>\n",
       "      <td>1</td>\n",
       "      <td>1950.0</td>\n",
       "    </tr>\n",
       "    <tr>\n",
       "      <th>18</th>\n",
       "      <td>1004</td>\n",
       "      <td>10</td>\n",
       "      <td>29.0</td>\n",
       "      <td>145.0</td>\n",
       "      <td>165.0</td>\n",
       "      <td>19.0</td>\n",
       "      <td>68</td>\n",
       "      <td>NaT</td>\n",
       "      <td>Новокузнецк</td>\n",
       "      <td>Татьяна</td>\n",
       "      <td>...</td>\n",
       "      <td>2018-05-14</td>\n",
       "      <td>ultra</td>\n",
       "      <td>1000</td>\n",
       "      <td>30720</td>\n",
       "      <td>3000</td>\n",
       "      <td>1950</td>\n",
       "      <td>150</td>\n",
       "      <td>1</td>\n",
       "      <td>1</td>\n",
       "      <td>1950.0</td>\n",
       "    </tr>\n",
       "    <tr>\n",
       "      <th>19</th>\n",
       "      <td>1004</td>\n",
       "      <td>11</td>\n",
       "      <td>19.0</td>\n",
       "      <td>117.0</td>\n",
       "      <td>158.0</td>\n",
       "      <td>16.0</td>\n",
       "      <td>68</td>\n",
       "      <td>NaT</td>\n",
       "      <td>Новокузнецк</td>\n",
       "      <td>Татьяна</td>\n",
       "      <td>...</td>\n",
       "      <td>2018-05-14</td>\n",
       "      <td>ultra</td>\n",
       "      <td>1000</td>\n",
       "      <td>30720</td>\n",
       "      <td>3000</td>\n",
       "      <td>1950</td>\n",
       "      <td>150</td>\n",
       "      <td>1</td>\n",
       "      <td>1</td>\n",
       "      <td>1950.0</td>\n",
       "    </tr>\n",
       "    <tr>\n",
       "      <th>20</th>\n",
       "      <td>1004</td>\n",
       "      <td>12</td>\n",
       "      <td>21.0</td>\n",
       "      <td>130.0</td>\n",
       "      <td>162.0</td>\n",
       "      <td>18.0</td>\n",
       "      <td>68</td>\n",
       "      <td>NaT</td>\n",
       "      <td>Новокузнецк</td>\n",
       "      <td>Татьяна</td>\n",
       "      <td>...</td>\n",
       "      <td>2018-05-14</td>\n",
       "      <td>ultra</td>\n",
       "      <td>1000</td>\n",
       "      <td>30720</td>\n",
       "      <td>3000</td>\n",
       "      <td>1950</td>\n",
       "      <td>150</td>\n",
       "      <td>1</td>\n",
       "      <td>1</td>\n",
       "      <td>1950.0</td>\n",
       "    </tr>\n",
       "    <tr>\n",
       "      <th>21</th>\n",
       "      <td>1013</td>\n",
       "      <td>11</td>\n",
       "      <td>52.0</td>\n",
       "      <td>369.0</td>\n",
       "      <td>17.0</td>\n",
       "      <td>10.0</td>\n",
       "      <td>36</td>\n",
       "      <td>NaT</td>\n",
       "      <td>Иваново</td>\n",
       "      <td>Борис</td>\n",
       "      <td>...</td>\n",
       "      <td>2018-11-14</td>\n",
       "      <td>ultra</td>\n",
       "      <td>1000</td>\n",
       "      <td>30720</td>\n",
       "      <td>3000</td>\n",
       "      <td>1950</td>\n",
       "      <td>150</td>\n",
       "      <td>1</td>\n",
       "      <td>1</td>\n",
       "      <td>1950.0</td>\n",
       "    </tr>\n",
       "    <tr>\n",
       "      <th>22</th>\n",
       "      <td>1013</td>\n",
       "      <td>12</td>\n",
       "      <td>90.0</td>\n",
       "      <td>567.0</td>\n",
       "      <td>25.0</td>\n",
       "      <td>21.0</td>\n",
       "      <td>36</td>\n",
       "      <td>NaT</td>\n",
       "      <td>Иваново</td>\n",
       "      <td>Борис</td>\n",
       "      <td>...</td>\n",
       "      <td>2018-11-14</td>\n",
       "      <td>ultra</td>\n",
       "      <td>1000</td>\n",
       "      <td>30720</td>\n",
       "      <td>3000</td>\n",
       "      <td>1950</td>\n",
       "      <td>150</td>\n",
       "      <td>1</td>\n",
       "      <td>1</td>\n",
       "      <td>1950.0</td>\n",
       "    </tr>\n",
       "    <tr>\n",
       "      <th>23</th>\n",
       "      <td>1016</td>\n",
       "      <td>11</td>\n",
       "      <td>4.0</td>\n",
       "      <td>28.0</td>\n",
       "      <td>39.0</td>\n",
       "      <td>8.0</td>\n",
       "      <td>58</td>\n",
       "      <td>NaT</td>\n",
       "      <td>Омск</td>\n",
       "      <td>Марица</td>\n",
       "      <td>...</td>\n",
       "      <td>2018-11-21</td>\n",
       "      <td>ultra</td>\n",
       "      <td>1000</td>\n",
       "      <td>30720</td>\n",
       "      <td>3000</td>\n",
       "      <td>1950</td>\n",
       "      <td>150</td>\n",
       "      <td>1</td>\n",
       "      <td>1</td>\n",
       "      <td>1950.0</td>\n",
       "    </tr>\n",
       "    <tr>\n",
       "      <th>24</th>\n",
       "      <td>1016</td>\n",
       "      <td>12</td>\n",
       "      <td>16.0</td>\n",
       "      <td>94.0</td>\n",
       "      <td>103.0</td>\n",
       "      <td>19.0</td>\n",
       "      <td>58</td>\n",
       "      <td>NaT</td>\n",
       "      <td>Омск</td>\n",
       "      <td>Марица</td>\n",
       "      <td>...</td>\n",
       "      <td>2018-11-21</td>\n",
       "      <td>ultra</td>\n",
       "      <td>1000</td>\n",
       "      <td>30720</td>\n",
       "      <td>3000</td>\n",
       "      <td>1950</td>\n",
       "      <td>150</td>\n",
       "      <td>1</td>\n",
       "      <td>1</td>\n",
       "      <td>1950.0</td>\n",
       "    </tr>\n",
       "    <tr>\n",
       "      <th>25</th>\n",
       "      <td>1018</td>\n",
       "      <td>4</td>\n",
       "      <td>85.0</td>\n",
       "      <td>636.0</td>\n",
       "      <td>34.0</td>\n",
       "      <td>6.0</td>\n",
       "      <td>71</td>\n",
       "      <td>NaT</td>\n",
       "      <td>Уфа</td>\n",
       "      <td>Матвей</td>\n",
       "      <td>...</td>\n",
       "      <td>2018-04-01</td>\n",
       "      <td>ultra</td>\n",
       "      <td>1000</td>\n",
       "      <td>30720</td>\n",
       "      <td>3000</td>\n",
       "      <td>1950</td>\n",
       "      <td>150</td>\n",
       "      <td>1</td>\n",
       "      <td>1</td>\n",
       "      <td>1950.0</td>\n",
       "    </tr>\n",
       "    <tr>\n",
       "      <th>26</th>\n",
       "      <td>1018</td>\n",
       "      <td>5</td>\n",
       "      <td>80.0</td>\n",
       "      <td>507.0</td>\n",
       "      <td>30.0</td>\n",
       "      <td>5.0</td>\n",
       "      <td>71</td>\n",
       "      <td>NaT</td>\n",
       "      <td>Уфа</td>\n",
       "      <td>Матвей</td>\n",
       "      <td>...</td>\n",
       "      <td>2018-04-01</td>\n",
       "      <td>ultra</td>\n",
       "      <td>1000</td>\n",
       "      <td>30720</td>\n",
       "      <td>3000</td>\n",
       "      <td>1950</td>\n",
       "      <td>150</td>\n",
       "      <td>1</td>\n",
       "      <td>1</td>\n",
       "      <td>1950.0</td>\n",
       "    </tr>\n",
       "    <tr>\n",
       "      <th>27</th>\n",
       "      <td>1018</td>\n",
       "      <td>6</td>\n",
       "      <td>96.0</td>\n",
       "      <td>679.0</td>\n",
       "      <td>24.0</td>\n",
       "      <td>12.0</td>\n",
       "      <td>71</td>\n",
       "      <td>NaT</td>\n",
       "      <td>Уфа</td>\n",
       "      <td>Матвей</td>\n",
       "      <td>...</td>\n",
       "      <td>2018-04-01</td>\n",
       "      <td>ultra</td>\n",
       "      <td>1000</td>\n",
       "      <td>30720</td>\n",
       "      <td>3000</td>\n",
       "      <td>1950</td>\n",
       "      <td>150</td>\n",
       "      <td>1</td>\n",
       "      <td>1</td>\n",
       "      <td>1950.0</td>\n",
       "    </tr>\n",
       "    <tr>\n",
       "      <th>28</th>\n",
       "      <td>1018</td>\n",
       "      <td>7</td>\n",
       "      <td>105.0</td>\n",
       "      <td>760.0</td>\n",
       "      <td>25.0</td>\n",
       "      <td>7.0</td>\n",
       "      <td>71</td>\n",
       "      <td>NaT</td>\n",
       "      <td>Уфа</td>\n",
       "      <td>Матвей</td>\n",
       "      <td>...</td>\n",
       "      <td>2018-04-01</td>\n",
       "      <td>ultra</td>\n",
       "      <td>1000</td>\n",
       "      <td>30720</td>\n",
       "      <td>3000</td>\n",
       "      <td>1950</td>\n",
       "      <td>150</td>\n",
       "      <td>1</td>\n",
       "      <td>1</td>\n",
       "      <td>1950.0</td>\n",
       "    </tr>\n",
       "    <tr>\n",
       "      <th>29</th>\n",
       "      <td>1018</td>\n",
       "      <td>8</td>\n",
       "      <td>115.0</td>\n",
       "      <td>929.0</td>\n",
       "      <td>20.0</td>\n",
       "      <td>9.0</td>\n",
       "      <td>71</td>\n",
       "      <td>NaT</td>\n",
       "      <td>Уфа</td>\n",
       "      <td>Матвей</td>\n",
       "      <td>...</td>\n",
       "      <td>2018-04-01</td>\n",
       "      <td>ultra</td>\n",
       "      <td>1000</td>\n",
       "      <td>30720</td>\n",
       "      <td>3000</td>\n",
       "      <td>1950</td>\n",
       "      <td>150</td>\n",
       "      <td>1</td>\n",
       "      <td>1</td>\n",
       "      <td>1950.0</td>\n",
       "    </tr>\n",
       "  </tbody>\n",
       "</table>\n",
       "<p>30 rows × 21 columns</p>\n",
       "</div>"
      ],
      "text/plain": [
       "    user_id  month  calls_count  calls_duration  messages_count  traffic_gb  \\\n",
       "0      1000      5         22.0           159.0            22.0         3.0   \n",
       "1      1000      6         43.0           172.0            60.0        23.0   \n",
       "2      1000      7         47.0           340.0            75.0        14.0   \n",
       "3      1000      8         52.0           408.0            81.0        14.0   \n",
       "4      1000      9         58.0           466.0            57.0        15.0   \n",
       "5      1000     10         57.0           350.0            73.0        15.0   \n",
       "6      1000     11         43.0           338.0            58.0        15.0   \n",
       "7      1000     12         46.0           333.0            70.0        10.0   \n",
       "8      1003      8         55.0           380.0            37.0         9.0   \n",
       "9      1003      9        134.0           961.0            91.0        13.0   \n",
       "10     1003     10        108.0           855.0            83.0        15.0   \n",
       "11     1003     11        115.0           824.0            94.0        12.0   \n",
       "12     1003     12        108.0           802.0            75.0        10.0   \n",
       "13     1004      5          9.0            35.0            95.0        14.0   \n",
       "14     1004      6         31.0           171.0           134.0        18.0   \n",
       "15     1004      7         22.0           135.0           181.0        22.0   \n",
       "16     1004      8         19.0           137.0           151.0        28.0   \n",
       "17     1004      9         26.0           117.0           146.0        15.0   \n",
       "18     1004     10         29.0           145.0           165.0        19.0   \n",
       "19     1004     11         19.0           117.0           158.0        16.0   \n",
       "20     1004     12         21.0           130.0           162.0        18.0   \n",
       "21     1013     11         52.0           369.0            17.0        10.0   \n",
       "22     1013     12         90.0           567.0            25.0        21.0   \n",
       "23     1016     11          4.0            28.0            39.0         8.0   \n",
       "24     1016     12         16.0            94.0           103.0        19.0   \n",
       "25     1018      4         85.0           636.0            34.0         6.0   \n",
       "26     1018      5         80.0           507.0            30.0         5.0   \n",
       "27     1018      6         96.0           679.0            24.0        12.0   \n",
       "28     1018      7        105.0           760.0            25.0         7.0   \n",
       "29     1018      8        115.0           929.0            20.0         9.0   \n",
       "\n",
       "    age churn_date         city first_name  ...   reg_date tariff_name  \\\n",
       "0    52        NaT    Краснодар     Рафаил  ... 2018-05-25       ultra   \n",
       "1    52        NaT    Краснодар     Рафаил  ... 2018-05-25       ultra   \n",
       "2    52        NaT    Краснодар     Рафаил  ... 2018-05-25       ultra   \n",
       "3    52        NaT    Краснодар     Рафаил  ... 2018-05-25       ultra   \n",
       "4    52        NaT    Краснодар     Рафаил  ... 2018-05-25       ultra   \n",
       "5    52        NaT    Краснодар     Рафаил  ... 2018-05-25       ultra   \n",
       "6    52        NaT    Краснодар     Рафаил  ... 2018-05-25       ultra   \n",
       "7    52        NaT    Краснодар     Рафаил  ... 2018-05-25       ultra   \n",
       "8    23        NaT       Москва      Белла  ... 2018-08-17       ultra   \n",
       "9    23        NaT       Москва      Белла  ... 2018-08-17       ultra   \n",
       "10   23        NaT       Москва      Белла  ... 2018-08-17       ultra   \n",
       "11   23        NaT       Москва      Белла  ... 2018-08-17       ultra   \n",
       "12   23        NaT       Москва      Белла  ... 2018-08-17       ultra   \n",
       "13   68        NaT  Новокузнецк    Татьяна  ... 2018-05-14       ultra   \n",
       "14   68        NaT  Новокузнецк    Татьяна  ... 2018-05-14       ultra   \n",
       "15   68        NaT  Новокузнецк    Татьяна  ... 2018-05-14       ultra   \n",
       "16   68        NaT  Новокузнецк    Татьяна  ... 2018-05-14       ultra   \n",
       "17   68        NaT  Новокузнецк    Татьяна  ... 2018-05-14       ultra   \n",
       "18   68        NaT  Новокузнецк    Татьяна  ... 2018-05-14       ultra   \n",
       "19   68        NaT  Новокузнецк    Татьяна  ... 2018-05-14       ultra   \n",
       "20   68        NaT  Новокузнецк    Татьяна  ... 2018-05-14       ultra   \n",
       "21   36        NaT      Иваново      Борис  ... 2018-11-14       ultra   \n",
       "22   36        NaT      Иваново      Борис  ... 2018-11-14       ultra   \n",
       "23   58        NaT         Омск     Марица  ... 2018-11-21       ultra   \n",
       "24   58        NaT         Омск     Марица  ... 2018-11-21       ultra   \n",
       "25   71        NaT          Уфа     Матвей  ... 2018-04-01       ultra   \n",
       "26   71        NaT          Уфа     Матвей  ... 2018-04-01       ultra   \n",
       "27   71        NaT          Уфа     Матвей  ... 2018-04-01       ultra   \n",
       "28   71        NaT          Уфа     Матвей  ... 2018-04-01       ultra   \n",
       "29   71        NaT          Уфа     Матвей  ... 2018-04-01       ultra   \n",
       "\n",
       "   messages_included  mb_per_month_included  minutes_included  \\\n",
       "0               1000                  30720              3000   \n",
       "1               1000                  30720              3000   \n",
       "2               1000                  30720              3000   \n",
       "3               1000                  30720              3000   \n",
       "4               1000                  30720              3000   \n",
       "5               1000                  30720              3000   \n",
       "6               1000                  30720              3000   \n",
       "7               1000                  30720              3000   \n",
       "8               1000                  30720              3000   \n",
       "9               1000                  30720              3000   \n",
       "10              1000                  30720              3000   \n",
       "11              1000                  30720              3000   \n",
       "12              1000                  30720              3000   \n",
       "13              1000                  30720              3000   \n",
       "14              1000                  30720              3000   \n",
       "15              1000                  30720              3000   \n",
       "16              1000                  30720              3000   \n",
       "17              1000                  30720              3000   \n",
       "18              1000                  30720              3000   \n",
       "19              1000                  30720              3000   \n",
       "20              1000                  30720              3000   \n",
       "21              1000                  30720              3000   \n",
       "22              1000                  30720              3000   \n",
       "23              1000                  30720              3000   \n",
       "24              1000                  30720              3000   \n",
       "25              1000                  30720              3000   \n",
       "26              1000                  30720              3000   \n",
       "27              1000                  30720              3000   \n",
       "28              1000                  30720              3000   \n",
       "29              1000                  30720              3000   \n",
       "\n",
       "    rub_monthly_fee  rub_per_gb  rub_per_message  rub_per_minute  revenue  \n",
       "0              1950         150                1               1   1950.0  \n",
       "1              1950         150                1               1   1950.0  \n",
       "2              1950         150                1               1   1950.0  \n",
       "3              1950         150                1               1   1950.0  \n",
       "4              1950         150                1               1   1950.0  \n",
       "5              1950         150                1               1   1950.0  \n",
       "6              1950         150                1               1   1950.0  \n",
       "7              1950         150                1               1   1950.0  \n",
       "8              1950         150                1               1   1950.0  \n",
       "9              1950         150                1               1   1950.0  \n",
       "10             1950         150                1               1   1950.0  \n",
       "11             1950         150                1               1   1950.0  \n",
       "12             1950         150                1               1   1950.0  \n",
       "13             1950         150                1               1   1950.0  \n",
       "14             1950         150                1               1   1950.0  \n",
       "15             1950         150                1               1   1950.0  \n",
       "16             1950         150                1               1   1950.0  \n",
       "17             1950         150                1               1   1950.0  \n",
       "18             1950         150                1               1   1950.0  \n",
       "19             1950         150                1               1   1950.0  \n",
       "20             1950         150                1               1   1950.0  \n",
       "21             1950         150                1               1   1950.0  \n",
       "22             1950         150                1               1   1950.0  \n",
       "23             1950         150                1               1   1950.0  \n",
       "24             1950         150                1               1   1950.0  \n",
       "25             1950         150                1               1   1950.0  \n",
       "26             1950         150                1               1   1950.0  \n",
       "27             1950         150                1               1   1950.0  \n",
       "28             1950         150                1               1   1950.0  \n",
       "29             1950         150                1               1   1950.0  \n",
       "\n",
       "[30 rows x 21 columns]"
      ]
     },
     "execution_count": 51,
     "metadata": {},
     "output_type": "execute_result"
    }
   ],
   "source": [
    "full_month.head(30)"
   ]
  },
  {
   "cell_type": "code",
   "execution_count": 52,
   "metadata": {},
   "outputs": [
    {
     "name": "stdout",
     "output_type": "stream",
     "text": [
      "2229\n",
      "985\n",
      "669485.2209234155\n",
      "141373.07325620213\n"
     ]
    }
   ],
   "source": [
    "print(full_month.query('tariff_name == \"smart\"')['tariff_name'].count())\n",
    "print(full_month.query('tariff_name == \"ultra\"')['tariff_name'].count())\n",
    "print(np.var(full_month.query('tariff_name == \"smart\"')['revenue']))\n",
    "print(np.var(full_month.query('tariff_name == \"ultra\"')['revenue']))"
   ]
  },
  {
   "cell_type": "code",
   "execution_count": 53,
   "metadata": {
    "scrolled": true
   },
   "outputs": [
    {
     "name": "stdout",
     "output_type": "stream",
     "text": [
      "Средния доходность от тарифа smart 1289.9735307312696\n",
      "Средния доходность от тарифа ultra 2070.1522842639592\n",
      "Медианная доходность от тарифа smart 1023.0\n",
      "Медианная доходность от тарифа ultra 1950.0\n"
     ]
    }
   ],
   "source": [
    "smart_rev = full_month.query('tariff_name == \"smart\"')['revenue']\n",
    "ultra_rev = full_month.query('tariff_name == \"ultra\"')['revenue']\n",
    "\n",
    "print('Средния доходность от тарифа smart', smart_rev.mean())\n",
    "print('Средния доходность от тарифа ultra', ultra_rev.mean())\n",
    "print('Медианная доходность от тарифа smart', smart_rev.median())\n",
    "print('Медианная доходность от тарифа ultra', ultra_rev.median())\n",
    "\n",
    "result = st.ttest_ind(smart_rev, ultra_rev, equal_var=False)"
   ]
  },
  {
   "cell_type": "markdown",
   "metadata": {},
   "source": [
    "**С точки зрения доходности тарифов, тариф ultra приносит в среднем на 1000 рублей больше. Для рекламы компании следует сделать особый акцент на тарифе ultra**"
   ]
  },
  {
   "cell_type": "code",
   "execution_count": 54,
   "metadata": {
    "scrolled": false
   },
   "outputs": [
    {
     "name": "stdout",
     "output_type": "stream",
     "text": [
      "pvalue: 4.2606313931076085e-250\n",
      "Базовая гипотеза отвергается. Средняя выручка пользователей тарифов smart и ultra не равны\n"
     ]
    }
   ],
   "source": [
    "alpha = 0.05\n",
    "print('pvalue:', result.pvalue)\n",
    "if result.pvalue > alpha:\n",
    "    print('Базовая гипотеза о равенстве средней выручки тарифов smart и ultra не отвергается')\n",
    "else:\n",
    "    print('Базовая гипотеза отвергается. Средняя выручка пользователей тарифов smart и ultra не равны')"
   ]
  },
  {
   "cell_type": "code",
   "execution_count": 55,
   "metadata": {},
   "outputs": [
    {
     "data": {
      "text/plain": [
       "4.2606313931076085e-250"
      ]
     },
     "execution_count": 55,
     "metadata": {},
     "output_type": "execute_result"
    }
   ],
   "source": [
    "result.pvalue"
   ]
  },
  {
   "cell_type": "markdown",
   "metadata": {},
   "source": [
    "### Базовая гипотеза 2: средняя выручка пользователей из Москвы не отличается от выручки пользователей из других регионов"
   ]
  },
  {
   "cell_type": "code",
   "execution_count": 56,
   "metadata": {},
   "outputs": [
    {
     "name": "stdout",
     "output_type": "stream",
     "text": [
      "611\n",
      "2603\n",
      "564710.7117467293\n",
      "653886.3270894091\n"
     ]
    }
   ],
   "source": [
    "print(full_month.query('city == \"Москва\"')['tariff_name'].count())\n",
    "print(full_month.query('city != \"Москва\"')['tariff_name'].count())\n",
    "print(np.var(full_month.query('city == \"Москва\"')['revenue']))\n",
    "print(np.var(full_month.query('city != \"Москва\"')['revenue']))"
   ]
  },
  {
   "cell_type": "code",
   "execution_count": 57,
   "metadata": {},
   "outputs": [
    {
     "name": "stdout",
     "output_type": "stream",
     "text": [
      "Средние доходы по Москве 1546.7135842880523\n",
      "Средние доходы по регионам 1524.9362274298885\n",
      "Медиана доходов по 2 тарифам в Москве 1750.0\n",
      "Медиана доходов по 2 тарифам в регионах 1583.0\n"
     ]
    }
   ],
   "source": [
    "msc_rev = full_month.query('city == \"Москва\"')['revenue']\n",
    "not_msc_rev = full_month.query('city != \"Москва\"')['revenue']\n",
    "print('Средние доходы по Москве', msc_rev.mean())\n",
    "print('Средние доходы по регионам', not_msc_rev.mean())\n",
    "print('Медиана доходов по 2 тарифам в Москве', msc_rev.median())\n",
    "print('Медиана доходов по 2 тарифам в регионах', not_msc_rev.median())"
   ]
  },
  {
   "cell_type": "code",
   "execution_count": 58,
   "metadata": {},
   "outputs": [],
   "source": [
    "region_res = st.ttest_ind(msc_rev, not_msc_rev)"
   ]
  },
  {
   "cell_type": "code",
   "execution_count": 59,
   "metadata": {
    "scrolled": true
   },
   "outputs": [
    {
     "name": "stdout",
     "output_type": "stream",
     "text": [
      "pvalue: 0.5440152911670224\n",
      "Базовая гипотеза о том, что средняя выручка пользователей из Москвы не отличается от выручки пользователей из других регионов не отвергается\n"
     ]
    }
   ],
   "source": [
    "alpha = 0.05\n",
    "print('pvalue:', region_res.pvalue)\n",
    "if region_res.pvalue > alpha:\n",
    "    print('Базовая гипотеза о том, что средняя выручка пользователей из Москвы не отличается от выручки пользователей из других регионов не отвергается')\n",
    "else:\n",
    "    print('Базовая гипотеза отвергается. Средняя выручка пользователей из Москвы отличается от выручки пользователей из других регионов.')"
   ]
  },
  {
   "cell_type": "markdown",
   "metadata": {},
   "source": [
    "### Выводы"
   ]
  },
  {
   "cell_type": "markdown",
   "metadata": {},
   "source": [
    "Гипотеза 1. Поскольку выборки разных размеров, а их дисперсии отличаются в более чем 2 раза, то переменная equal_var принимает значение False. Для проверки первой гипотезы использовался метод ttest_ind, так как он сравнивает средние двух выборок. Решение о принятии или не принятии гипотезы исходит исходя из значения pvalue - уровень значимости этой стаситики (вероятность получить наблюдаемый результат), пороговое значение которой для данной выборки установлено alpha = 5%.\n",
    "\n",
    "**Базовая гипотеза отвергается. Средняя выручка пользователей тарифов smart и ultra не равны**\n",
    "\n",
    "Гипотеза 2. Поскольку дисперсии выборок почти одинаковы, есть основания предполагать, что выборки генеральных совокупностей могут иметь похожие значения, поэтому переменная equal_var принимает значение базовое True. Для проверки первой гипотезы использовался метод ttest_ind, так как он сравнивает средние двух выборок. Решение о принятии или не принятии гипотезы исходит исходя из значения pvalue - уровень значимости этой стаситики (вероятность получить наблюдаемый результат), пороговое значение которой для данной выборки установлено alpha = 5%.\n",
    "\n",
    "**Базовая гипотеза о том, что средняя выручка пользователей из Москвы не отличается от выручки пользователей из других регионов не отвергается**\n",
    "\n",
    "- Средния доходность от тарифа smart 1046.251461988304\n",
    "- Средния доходность от тарифа ultra 2070.9779179810726\n",
    "- Медианная доходность от тарифа smart 850.0\n",
    "- Медианная доходность от тарифа ultra 1950.0\n",
    "\n",
    "\n",
    "- Средние доходы по Москве 1402.6459016393442\n",
    "- Средние доходы по регионам 1341.5378315132605\n",
    "- Медиана доходов по 2 тарифам в Москве 1450.0\n",
    "- Медиана доходов по 2 тарифам в регионах 1276.0\n",
    "\n",
    "\n",
    "**С точки зрения доходности тарифов, тариф ultra приносит в среднем на 1000 рублей больше. Для рекламы компании следует сделать особый акцент на тарифе ultra**\n"
   ]
  },
  {
   "cell_type": "markdown",
   "metadata": {},
   "source": [
    "## Общие выводы"
   ]
  },
  {
   "cell_type": "markdown",
   "metadata": {},
   "source": [
    "1. Пропуски в таблице пользователей в столбце churn_date обусловлены тем, что пользователи на момент выгрузки данных всё ещё пользуются тарифом.\n",
    "2. Приводим к нижнему регистру значения столбцов с городом и ФИ, чтобы с большей ворятностью отсечь дупликаты. Лемматизацию применять нет смысла, так как отдельно ФИО может совпадать, а совпадение всех элементов таблицы проверены методом duplicated\n",
    "3. Создана сводная таблица, содержащая: по кадому коиенту помесячную информацию об использование их тарифного пакета и общий доход от использования тарифов и сверхтарифных минут, сообщений и гегабайт интернета.\n",
    "4. По тарифу ultra люди чаще всего говорят около 545 минут. Стандартное отколение по тарифу ультра более чем на 30% стандартного отклонения по тарифу смарт, что говорит о том, что абонементы по тарифу ультра имеет более широкий диапозон по ежемесячным минутам разговора, что объяснятеся доступностью минут для раговора по тарифу.\n",
    "5. По тарифу смарт люди чаще всего горят в районе 420 минут, что совпадает с лимитом по тарифу. Стандартное отклнение равно 189 минутам.\n",
    "6. Чаще всего абоненты по тарифу smart в месяц на интернет тратят 12-21 гигабайта.\n",
    "7. Картина по дисперсии и стандартному отклонению схожа с теми же показателями при сравнении трат минут.\n",
    "8. В целом 50 смс в неделю хватает большинству обонентов обоих тарифов. Стоит отметить, что абоненты тарифа ультра в среднем ежемясячно отправляют на 22 сообщения больше. \n",
    "9. Нередки случаи, когда абонементы по тарифу smart превышают лимиты по тарифу. С абонентами ultra такое бывает редко.\n",
    "10. Все гистограммы кроме гистограмм с сообщениями - распределены нормально.\n",
    "\n",
    "две базовые гипотезы:\n",
    "* средняя выручка пользователей тарифов «Ультра» и «Смарт» равны;\n",
    "* средняя выручка пользователей из Москвы не отличается от выручки пользователей из других регионов.\n",
    "\n",
    "Альтернативными будут явялтся соотвествующие гипотезы: \n",
    "* средняя выручка пользователей тарифов «Ультра» и «Смарт» не равны; \n",
    "* средняя выручка пользователей из Москвы отличается от выручки пользователей из других регионов.\n",
    "\n",
    "Выводы по гипотезам:\n",
    "1. Базовая гипотеза отвергается. Средняя выручка пользователей тарифов smart и ultra не равны.\n",
    "2. Базовая гипотеза о том, что средняя выручка пользователей из Москвы не отличается от выручки пользователей из других регионов не отвергается.\n",
    "\n",
    "**С точки зрения доходности тарифов, тариф ultra приносит в среднем на 1000 рублей больше. Для формирования рекламного бюджета коммерческому департаменту следует сделать особый акцент на тарифе ultra.**"
   ]
  }
 ],
 "metadata": {
  "ExecuteTimeLog": [
   {
    "duration": 980,
    "start_time": "2022-01-30T18:11:06.809Z"
   },
   {
    "duration": 1837,
    "start_time": "2022-01-30T18:19:15.654Z"
   },
   {
    "duration": 1847,
    "start_time": "2022-01-30T18:20:10.364Z"
   },
   {
    "duration": 2304,
    "start_time": "2022-01-30T18:37:08.480Z"
   },
   {
    "duration": 2,
    "start_time": "2022-01-30T18:40:20.633Z"
   },
   {
    "duration": 2070,
    "start_time": "2022-01-30T18:40:22.720Z"
   },
   {
    "duration": 1801,
    "start_time": "2022-01-30T18:40:47.289Z"
   },
   {
    "duration": 3,
    "start_time": "2022-01-30T18:42:55.000Z"
   },
   {
    "duration": 1810,
    "start_time": "2022-01-30T18:42:57.183Z"
   },
   {
    "duration": 369,
    "start_time": "2022-01-30T18:45:51.673Z"
   },
   {
    "duration": 11,
    "start_time": "2022-01-30T18:46:03.501Z"
   },
   {
    "duration": 9,
    "start_time": "2022-01-30T18:46:13.064Z"
   },
   {
    "duration": 8,
    "start_time": "2022-01-30T18:46:17.900Z"
   },
   {
    "duration": 10,
    "start_time": "2022-01-30T18:46:20.425Z"
   },
   {
    "duration": 8,
    "start_time": "2022-01-30T18:46:39.327Z"
   },
   {
    "duration": 8,
    "start_time": "2022-01-30T18:46:51.651Z"
   },
   {
    "duration": 10,
    "start_time": "2022-01-30T18:47:05.142Z"
   },
   {
    "duration": 7,
    "start_time": "2022-01-30T18:47:17.137Z"
   },
   {
    "duration": 7,
    "start_time": "2022-01-30T18:47:28.843Z"
   },
   {
    "duration": 1870,
    "start_time": "2022-02-01T06:57:44.833Z"
   },
   {
    "duration": 767,
    "start_time": "2022-02-01T06:57:46.707Z"
   },
   {
    "duration": 24,
    "start_time": "2022-02-01T06:57:47.478Z"
   },
   {
    "duration": 15,
    "start_time": "2022-02-01T06:57:47.505Z"
   },
   {
    "duration": 37,
    "start_time": "2022-02-01T06:57:47.523Z"
   },
   {
    "duration": 11,
    "start_time": "2022-02-01T06:57:47.563Z"
   },
   {
    "duration": 12,
    "start_time": "2022-02-01T06:57:47.577Z"
   },
   {
    "duration": 15,
    "start_time": "2022-02-01T06:57:47.592Z"
   },
   {
    "duration": 28,
    "start_time": "2022-02-01T06:58:28.878Z"
   },
   {
    "duration": 13,
    "start_time": "2022-02-01T07:02:26.813Z"
   },
   {
    "duration": 47,
    "start_time": "2022-02-01T07:03:28.362Z"
   },
   {
    "duration": 22,
    "start_time": "2022-02-01T07:04:36.080Z"
   },
   {
    "duration": 13,
    "start_time": "2022-02-01T07:21:50.890Z"
   },
   {
    "duration": 24,
    "start_time": "2022-02-01T07:22:29.433Z"
   },
   {
    "duration": 52,
    "start_time": "2022-02-01T07:31:51.874Z"
   },
   {
    "duration": 11,
    "start_time": "2022-02-01T07:38:06.016Z"
   },
   {
    "duration": 21,
    "start_time": "2022-02-01T07:38:42.997Z"
   },
   {
    "duration": 18,
    "start_time": "2022-02-01T07:40:12.719Z"
   },
   {
    "duration": 484,
    "start_time": "2022-02-01T07:41:37.177Z"
   },
   {
    "duration": 10,
    "start_time": "2022-02-01T07:41:42.343Z"
   },
   {
    "duration": 17,
    "start_time": "2022-02-01T07:46:18.185Z"
   },
   {
    "duration": 10,
    "start_time": "2022-02-01T07:49:09.516Z"
   },
   {
    "duration": 28,
    "start_time": "2022-02-01T07:52:10.648Z"
   },
   {
    "duration": 10,
    "start_time": "2022-02-01T07:52:20.433Z"
   },
   {
    "duration": 1800,
    "start_time": "2022-02-01T09:20:14.208Z"
   },
   {
    "duration": 565,
    "start_time": "2022-02-01T09:20:16.010Z"
   },
   {
    "duration": 16,
    "start_time": "2022-02-01T09:20:16.578Z"
   },
   {
    "duration": 33,
    "start_time": "2022-02-01T09:20:16.597Z"
   },
   {
    "duration": 36,
    "start_time": "2022-02-01T09:20:16.633Z"
   },
   {
    "duration": 12,
    "start_time": "2022-02-01T09:20:16.672Z"
   },
   {
    "duration": 22,
    "start_time": "2022-02-01T09:20:16.687Z"
   },
   {
    "duration": 73,
    "start_time": "2022-02-01T09:20:16.713Z"
   },
   {
    "duration": 10,
    "start_time": "2022-02-01T09:20:16.789Z"
   },
   {
    "duration": 22,
    "start_time": "2022-02-01T09:20:16.801Z"
   },
   {
    "duration": 37,
    "start_time": "2022-02-01T09:20:16.826Z"
   },
   {
    "duration": 10,
    "start_time": "2022-02-01T09:20:16.865Z"
   },
   {
    "duration": 17,
    "start_time": "2022-02-01T09:20:16.877Z"
   },
   {
    "duration": 10,
    "start_time": "2022-02-01T09:20:16.897Z"
   },
   {
    "duration": 51,
    "start_time": "2022-02-01T09:20:16.910Z"
   },
   {
    "duration": 76,
    "start_time": "2022-02-01T09:58:06.766Z"
   },
   {
    "duration": 7,
    "start_time": "2022-02-01T09:58:47.648Z"
   },
   {
    "duration": 625,
    "start_time": "2022-02-01T09:59:37.044Z"
   },
   {
    "duration": 381,
    "start_time": "2022-02-01T10:00:11.759Z"
   },
   {
    "duration": 21,
    "start_time": "2022-02-01T10:04:06.393Z"
   },
   {
    "duration": 23,
    "start_time": "2022-02-01T10:04:51.726Z"
   },
   {
    "duration": 13,
    "start_time": "2022-02-01T10:05:01.265Z"
   },
   {
    "duration": 304,
    "start_time": "2022-02-01T10:06:53.091Z"
   },
   {
    "duration": 5,
    "start_time": "2022-02-01T10:07:00.257Z"
   },
   {
    "duration": 39,
    "start_time": "2022-02-01T10:07:31.105Z"
   },
   {
    "duration": 20,
    "start_time": "2022-02-01T10:07:32.234Z"
   },
   {
    "duration": 12,
    "start_time": "2022-02-01T10:07:34.157Z"
   },
   {
    "duration": 29,
    "start_time": "2022-02-01T10:08:05.432Z"
   },
   {
    "duration": 20,
    "start_time": "2022-02-01T10:08:05.862Z"
   },
   {
    "duration": 11,
    "start_time": "2022-02-01T10:08:07.212Z"
   },
   {
    "duration": 323,
    "start_time": "2022-02-01T10:11:00.191Z"
   },
   {
    "duration": 304,
    "start_time": "2022-02-01T10:11:12.885Z"
   },
   {
    "duration": 693,
    "start_time": "2022-02-01T10:12:34.154Z"
   },
   {
    "duration": 625,
    "start_time": "2022-02-01T10:13:28.365Z"
   },
   {
    "duration": 329,
    "start_time": "2022-02-01T10:15:00.832Z"
   },
   {
    "duration": 492,
    "start_time": "2022-02-01T10:15:19.241Z"
   },
   {
    "duration": 372,
    "start_time": "2022-02-01T10:15:55.522Z"
   },
   {
    "duration": 494,
    "start_time": "2022-02-01T10:27:51.136Z"
   },
   {
    "duration": 20,
    "start_time": "2022-02-01T10:30:51.784Z"
   },
   {
    "duration": 356,
    "start_time": "2022-02-01T10:31:17.317Z"
   },
   {
    "duration": 28,
    "start_time": "2022-02-01T10:31:41.165Z"
   },
   {
    "duration": 33,
    "start_time": "2022-02-01T10:32:17.301Z"
   },
   {
    "duration": 20,
    "start_time": "2022-02-01T10:32:34.043Z"
   },
   {
    "duration": 13,
    "start_time": "2022-02-01T10:33:46.771Z"
   },
   {
    "duration": 13,
    "start_time": "2022-02-01T10:33:58.434Z"
   },
   {
    "duration": 9,
    "start_time": "2022-02-01T10:34:17.864Z"
   },
   {
    "duration": 9,
    "start_time": "2022-02-01T10:34:41.931Z"
   },
   {
    "duration": 652,
    "start_time": "2022-02-01T10:35:48.173Z"
   },
   {
    "duration": 20,
    "start_time": "2022-02-01T10:36:12.335Z"
   },
   {
    "duration": 152,
    "start_time": "2022-02-01T10:43:44.519Z"
   },
   {
    "duration": 918,
    "start_time": "2022-02-01T10:44:49.447Z"
   },
   {
    "duration": 338,
    "start_time": "2022-02-01T10:57:35.324Z"
   },
   {
    "duration": 262,
    "start_time": "2022-02-01T17:39:14.765Z"
   },
   {
    "duration": 1075,
    "start_time": "2022-02-01T17:39:22.520Z"
   },
   {
    "duration": 405,
    "start_time": "2022-02-01T17:39:23.597Z"
   },
   {
    "duration": 12,
    "start_time": "2022-02-01T17:39:24.004Z"
   },
   {
    "duration": 20,
    "start_time": "2022-02-01T17:39:24.018Z"
   },
   {
    "duration": 18,
    "start_time": "2022-02-01T17:39:24.040Z"
   },
   {
    "duration": 8,
    "start_time": "2022-02-01T17:39:24.060Z"
   },
   {
    "duration": 43,
    "start_time": "2022-02-01T17:39:24.070Z"
   },
   {
    "duration": 30,
    "start_time": "2022-02-01T17:39:24.115Z"
   },
   {
    "duration": 7,
    "start_time": "2022-02-01T17:39:24.147Z"
   },
   {
    "duration": 17,
    "start_time": "2022-02-01T17:39:24.155Z"
   },
   {
    "duration": 7,
    "start_time": "2022-02-01T17:39:24.174Z"
   },
   {
    "duration": 34,
    "start_time": "2022-02-01T17:39:24.183Z"
   },
   {
    "duration": 13,
    "start_time": "2022-02-01T17:39:24.219Z"
   },
   {
    "duration": 9,
    "start_time": "2022-02-01T17:39:24.234Z"
   },
   {
    "duration": 10,
    "start_time": "2022-02-01T17:39:24.245Z"
   },
   {
    "duration": 82,
    "start_time": "2022-02-01T17:39:24.256Z"
   },
   {
    "duration": 14,
    "start_time": "2022-02-01T17:39:24.340Z"
   },
   {
    "duration": 7,
    "start_time": "2022-02-01T17:39:24.356Z"
   },
   {
    "duration": 16,
    "start_time": "2022-02-01T17:39:24.365Z"
   },
   {
    "duration": 34,
    "start_time": "2022-02-01T17:39:24.382Z"
   },
   {
    "duration": 16,
    "start_time": "2022-02-01T17:39:24.417Z"
   },
   {
    "duration": 17,
    "start_time": "2022-02-01T17:39:24.435Z"
   },
   {
    "duration": 10,
    "start_time": "2022-02-01T17:39:24.455Z"
   },
   {
    "duration": 10,
    "start_time": "2022-02-01T17:39:24.467Z"
   },
   {
    "duration": 6,
    "start_time": "2022-02-01T17:39:24.512Z"
   },
   {
    "duration": 6,
    "start_time": "2022-02-01T17:39:24.520Z"
   },
   {
    "duration": 180,
    "start_time": "2022-02-01T17:39:24.528Z"
   },
   {
    "duration": 9,
    "start_time": "2022-02-01T17:39:24.711Z"
   },
   {
    "duration": 25,
    "start_time": "2022-02-01T17:44:43.610Z"
   },
   {
    "duration": 10,
    "start_time": "2022-02-01T17:45:02.599Z"
   },
   {
    "duration": 7,
    "start_time": "2022-02-01T19:33:58.957Z"
   },
   {
    "duration": 25,
    "start_time": "2022-02-01T19:35:10.106Z"
   },
   {
    "duration": 9,
    "start_time": "2022-02-01T19:35:10.578Z"
   },
   {
    "duration": 6,
    "start_time": "2022-02-01T19:35:12.728Z"
   },
   {
    "duration": 347,
    "start_time": "2022-02-01T19:37:57.841Z"
   },
   {
    "duration": 4,
    "start_time": "2022-02-01T19:39:01.456Z"
   },
   {
    "duration": 245,
    "start_time": "2022-02-01T19:39:15.634Z"
   },
   {
    "duration": 648,
    "start_time": "2022-02-01T19:40:27.616Z"
   },
   {
    "duration": 5,
    "start_time": "2022-02-01T19:43:39.413Z"
   },
   {
    "duration": 11,
    "start_time": "2022-02-01T19:44:02.206Z"
   },
   {
    "duration": 238,
    "start_time": "2022-02-01T19:44:29.546Z"
   },
   {
    "duration": 7,
    "start_time": "2022-02-01T19:45:03.517Z"
   },
   {
    "duration": 11,
    "start_time": "2022-02-01T19:45:06.049Z"
   },
   {
    "duration": 39,
    "start_time": "2022-02-01T19:51:19.251Z"
   },
   {
    "duration": 40,
    "start_time": "2022-02-01T19:58:37.139Z"
   },
   {
    "duration": 58,
    "start_time": "2022-02-01T19:59:54.669Z"
   },
   {
    "duration": 72,
    "start_time": "2022-02-01T20:00:00.946Z"
   },
   {
    "duration": 70,
    "start_time": "2022-02-01T20:00:34.718Z"
   },
   {
    "duration": 1033,
    "start_time": "2022-02-01T20:00:54.389Z"
   },
   {
    "duration": 388,
    "start_time": "2022-02-01T20:00:55.426Z"
   },
   {
    "duration": 12,
    "start_time": "2022-02-01T20:00:55.818Z"
   },
   {
    "duration": 22,
    "start_time": "2022-02-01T20:00:55.832Z"
   },
   {
    "duration": 16,
    "start_time": "2022-02-01T20:00:55.855Z"
   },
   {
    "duration": 8,
    "start_time": "2022-02-01T20:00:55.873Z"
   },
   {
    "duration": 43,
    "start_time": "2022-02-01T20:00:55.882Z"
   },
   {
    "duration": 28,
    "start_time": "2022-02-01T20:00:55.927Z"
   },
   {
    "duration": 7,
    "start_time": "2022-02-01T20:00:55.957Z"
   },
   {
    "duration": 14,
    "start_time": "2022-02-01T20:00:55.965Z"
   },
   {
    "duration": 32,
    "start_time": "2022-02-01T20:00:55.981Z"
   },
   {
    "duration": 6,
    "start_time": "2022-02-01T20:00:56.014Z"
   },
   {
    "duration": 12,
    "start_time": "2022-02-01T20:00:56.021Z"
   },
   {
    "duration": 7,
    "start_time": "2022-02-01T20:00:56.035Z"
   },
   {
    "duration": 7,
    "start_time": "2022-02-01T20:00:56.044Z"
   },
   {
    "duration": 86,
    "start_time": "2022-02-01T20:00:56.053Z"
   },
   {
    "duration": 14,
    "start_time": "2022-02-01T20:00:56.141Z"
   },
   {
    "duration": 8,
    "start_time": "2022-02-01T20:00:56.156Z"
   },
   {
    "duration": 12,
    "start_time": "2022-02-01T20:00:56.166Z"
   },
   {
    "duration": 33,
    "start_time": "2022-02-01T20:00:56.180Z"
   },
   {
    "duration": 16,
    "start_time": "2022-02-01T20:00:56.214Z"
   },
   {
    "duration": 15,
    "start_time": "2022-02-01T20:00:56.231Z"
   },
   {
    "duration": 9,
    "start_time": "2022-02-01T20:00:56.248Z"
   },
   {
    "duration": 9,
    "start_time": "2022-02-01T20:00:56.259Z"
   },
   {
    "duration": 5,
    "start_time": "2022-02-01T20:00:56.269Z"
   },
   {
    "duration": 39,
    "start_time": "2022-02-01T20:00:56.275Z"
   },
   {
    "duration": 189,
    "start_time": "2022-02-01T20:00:56.316Z"
   },
   {
    "duration": 22,
    "start_time": "2022-02-01T20:00:56.512Z"
   },
   {
    "duration": 9,
    "start_time": "2022-02-01T20:00:56.536Z"
   },
   {
    "duration": 95,
    "start_time": "2022-02-01T20:00:56.546Z"
   },
   {
    "duration": 63,
    "start_time": "2022-02-01T20:03:57.934Z"
   },
   {
    "duration": 288,
    "start_time": "2022-02-02T06:40:50.624Z"
   },
   {
    "duration": 1101,
    "start_time": "2022-02-02T06:40:58.698Z"
   },
   {
    "duration": 393,
    "start_time": "2022-02-02T06:40:59.801Z"
   },
   {
    "duration": 12,
    "start_time": "2022-02-02T06:41:00.196Z"
   },
   {
    "duration": 26,
    "start_time": "2022-02-02T06:41:00.210Z"
   },
   {
    "duration": 17,
    "start_time": "2022-02-02T06:41:00.238Z"
   },
   {
    "duration": 8,
    "start_time": "2022-02-02T06:41:00.256Z"
   },
   {
    "duration": 28,
    "start_time": "2022-02-02T06:41:00.266Z"
   },
   {
    "duration": 41,
    "start_time": "2022-02-02T06:41:00.297Z"
   },
   {
    "duration": 7,
    "start_time": "2022-02-02T06:41:00.340Z"
   },
   {
    "duration": 21,
    "start_time": "2022-02-02T06:41:00.349Z"
   },
   {
    "duration": 9,
    "start_time": "2022-02-02T06:41:00.371Z"
   },
   {
    "duration": 33,
    "start_time": "2022-02-02T06:41:00.381Z"
   },
   {
    "duration": 24,
    "start_time": "2022-02-02T06:41:00.416Z"
   },
   {
    "duration": 36,
    "start_time": "2022-02-02T06:41:00.442Z"
   },
   {
    "duration": 33,
    "start_time": "2022-02-02T06:41:00.479Z"
   },
   {
    "duration": 78,
    "start_time": "2022-02-02T06:41:00.514Z"
   },
   {
    "duration": 14,
    "start_time": "2022-02-02T06:41:00.593Z"
   },
   {
    "duration": 17,
    "start_time": "2022-02-02T06:41:00.609Z"
   },
   {
    "duration": 29,
    "start_time": "2022-02-02T06:41:00.627Z"
   },
   {
    "duration": 15,
    "start_time": "2022-02-02T06:41:00.658Z"
   },
   {
    "duration": 17,
    "start_time": "2022-02-02T06:41:00.675Z"
   },
   {
    "duration": 26,
    "start_time": "2022-02-02T06:41:00.693Z"
   },
   {
    "duration": 14,
    "start_time": "2022-02-02T06:41:00.722Z"
   },
   {
    "duration": 12,
    "start_time": "2022-02-02T06:41:00.738Z"
   },
   {
    "duration": 15,
    "start_time": "2022-02-02T06:41:00.752Z"
   },
   {
    "duration": 14,
    "start_time": "2022-02-02T06:41:00.769Z"
   },
   {
    "duration": 180,
    "start_time": "2022-02-02T06:41:00.784Z"
   },
   {
    "duration": 24,
    "start_time": "2022-02-02T06:41:00.966Z"
   },
   {
    "duration": 25,
    "start_time": "2022-02-02T06:41:00.992Z"
   },
   {
    "duration": 359,
    "start_time": "2022-02-02T06:41:01.018Z"
   },
   {
    "duration": 260,
    "start_time": "2022-02-02T06:41:34.587Z"
   },
   {
    "duration": 365,
    "start_time": "2022-02-02T06:41:42.437Z"
   },
   {
    "duration": 37,
    "start_time": "2022-02-02T06:42:00.261Z"
   },
   {
    "duration": 38,
    "start_time": "2022-02-02T06:46:07.729Z"
   },
   {
    "duration": 44,
    "start_time": "2022-02-02T06:46:19.745Z"
   },
   {
    "duration": 1120,
    "start_time": "2022-02-02T06:48:27.631Z"
   },
   {
    "duration": 47,
    "start_time": "2022-02-02T06:48:36.973Z"
   },
   {
    "duration": 46,
    "start_time": "2022-02-02T06:48:43.085Z"
   },
   {
    "duration": 51,
    "start_time": "2022-02-02T06:49:05.131Z"
   },
   {
    "duration": 50,
    "start_time": "2022-02-02T06:58:50.013Z"
   },
   {
    "duration": 7,
    "start_time": "2022-02-02T07:02:27.289Z"
   },
   {
    "duration": 244,
    "start_time": "2022-02-02T07:07:46.807Z"
   },
   {
    "duration": 357,
    "start_time": "2022-02-02T07:08:11.344Z"
   },
   {
    "duration": 39,
    "start_time": "2022-02-02T07:09:29.894Z"
   },
   {
    "duration": 40,
    "start_time": "2022-02-02T07:10:30.598Z"
   },
   {
    "duration": 8,
    "start_time": "2022-02-02T07:11:20.780Z"
   },
   {
    "duration": 334,
    "start_time": "2022-02-02T07:15:35.272Z"
   },
   {
    "duration": 268,
    "start_time": "2022-02-02T07:17:51.657Z"
   },
   {
    "duration": 1010,
    "start_time": "2022-02-02T07:18:05.317Z"
   },
   {
    "duration": 371,
    "start_time": "2022-02-02T07:18:06.329Z"
   },
   {
    "duration": 12,
    "start_time": "2022-02-02T07:18:06.702Z"
   },
   {
    "duration": 20,
    "start_time": "2022-02-02T07:18:06.715Z"
   },
   {
    "duration": 15,
    "start_time": "2022-02-02T07:18:06.736Z"
   },
   {
    "duration": 8,
    "start_time": "2022-02-02T07:18:06.752Z"
   },
   {
    "duration": 16,
    "start_time": "2022-02-02T07:18:06.761Z"
   },
   {
    "duration": 56,
    "start_time": "2022-02-02T07:18:06.779Z"
   },
   {
    "duration": 7,
    "start_time": "2022-02-02T07:18:06.838Z"
   },
   {
    "duration": 16,
    "start_time": "2022-02-02T07:18:06.846Z"
   },
   {
    "duration": 8,
    "start_time": "2022-02-02T07:18:06.863Z"
   },
   {
    "duration": 7,
    "start_time": "2022-02-02T07:18:06.872Z"
   },
   {
    "duration": 40,
    "start_time": "2022-02-02T07:18:06.881Z"
   },
   {
    "duration": 7,
    "start_time": "2022-02-02T07:18:06.922Z"
   },
   {
    "duration": 8,
    "start_time": "2022-02-02T07:18:06.931Z"
   },
   {
    "duration": 96,
    "start_time": "2022-02-02T07:18:06.940Z"
   },
   {
    "duration": 13,
    "start_time": "2022-02-02T07:18:07.038Z"
   },
   {
    "duration": 9,
    "start_time": "2022-02-02T07:18:07.053Z"
   },
   {
    "duration": 14,
    "start_time": "2022-02-02T07:18:07.064Z"
   },
   {
    "duration": 33,
    "start_time": "2022-02-02T07:18:07.080Z"
   },
   {
    "duration": 11,
    "start_time": "2022-02-02T07:18:07.115Z"
   },
   {
    "duration": 10,
    "start_time": "2022-02-02T07:18:07.128Z"
   },
   {
    "duration": 10,
    "start_time": "2022-02-02T07:18:07.141Z"
   },
   {
    "duration": 10,
    "start_time": "2022-02-02T07:18:07.153Z"
   },
   {
    "duration": 5,
    "start_time": "2022-02-02T07:18:07.165Z"
   },
   {
    "duration": 41,
    "start_time": "2022-02-02T07:18:07.171Z"
   },
   {
    "duration": 161,
    "start_time": "2022-02-02T07:18:07.214Z"
   },
   {
    "duration": 22,
    "start_time": "2022-02-02T07:18:07.377Z"
   },
   {
    "duration": 18,
    "start_time": "2022-02-02T07:18:07.400Z"
   },
   {
    "duration": 62,
    "start_time": "2022-02-02T07:18:07.420Z"
   },
   {
    "duration": 65,
    "start_time": "2022-02-02T07:18:07.484Z"
   },
   {
    "duration": 68,
    "start_time": "2022-02-02T07:18:07.551Z"
   },
   {
    "duration": 44,
    "start_time": "2022-02-02T08:17:18.490Z"
   },
   {
    "duration": 345,
    "start_time": "2022-02-02T09:05:04.451Z"
   },
   {
    "duration": 77,
    "start_time": "2022-02-02T09:05:07.801Z"
   },
   {
    "duration": 268,
    "start_time": "2022-02-02T09:06:33.531Z"
   },
   {
    "duration": 3,
    "start_time": "2022-02-02T09:22:16.455Z"
   },
   {
    "duration": 46,
    "start_time": "2022-02-02T09:22:17.635Z"
   },
   {
    "duration": 44,
    "start_time": "2022-02-02T09:27:37.966Z"
   },
   {
    "duration": 47,
    "start_time": "2022-02-02T09:29:36.476Z"
   },
   {
    "duration": 11,
    "start_time": "2022-02-02T09:31:28.584Z"
   },
   {
    "duration": 11,
    "start_time": "2022-02-02T09:31:32.999Z"
   },
   {
    "duration": 1036,
    "start_time": "2022-02-02T11:21:57.697Z"
   },
   {
    "duration": 371,
    "start_time": "2022-02-02T11:21:58.735Z"
   },
   {
    "duration": 11,
    "start_time": "2022-02-02T11:21:59.108Z"
   },
   {
    "duration": 20,
    "start_time": "2022-02-02T11:21:59.121Z"
   },
   {
    "duration": 15,
    "start_time": "2022-02-02T11:21:59.143Z"
   },
   {
    "duration": 8,
    "start_time": "2022-02-02T11:21:59.160Z"
   },
   {
    "duration": 19,
    "start_time": "2022-02-02T11:21:59.169Z"
   },
   {
    "duration": 28,
    "start_time": "2022-02-02T11:21:59.212Z"
   },
   {
    "duration": 7,
    "start_time": "2022-02-02T11:21:59.241Z"
   },
   {
    "duration": 16,
    "start_time": "2022-02-02T11:21:59.250Z"
   },
   {
    "duration": 9,
    "start_time": "2022-02-02T11:21:59.268Z"
   },
   {
    "duration": 34,
    "start_time": "2022-02-02T11:21:59.279Z"
   },
   {
    "duration": 12,
    "start_time": "2022-02-02T11:21:59.316Z"
   },
   {
    "duration": 8,
    "start_time": "2022-02-02T11:21:59.330Z"
   },
   {
    "duration": 9,
    "start_time": "2022-02-02T11:21:59.340Z"
   },
   {
    "duration": 110,
    "start_time": "2022-02-02T11:21:59.351Z"
   },
   {
    "duration": 17,
    "start_time": "2022-02-02T11:21:59.463Z"
   },
   {
    "duration": 10,
    "start_time": "2022-02-02T11:21:59.481Z"
   },
   {
    "duration": 15,
    "start_time": "2022-02-02T11:21:59.513Z"
   },
   {
    "duration": 15,
    "start_time": "2022-02-02T11:21:59.530Z"
   },
   {
    "duration": 13,
    "start_time": "2022-02-02T11:21:59.547Z"
   },
   {
    "duration": 13,
    "start_time": "2022-02-02T11:21:59.562Z"
   },
   {
    "duration": 43,
    "start_time": "2022-02-02T11:21:59.578Z"
   },
   {
    "duration": 14,
    "start_time": "2022-02-02T11:21:59.623Z"
   },
   {
    "duration": 10,
    "start_time": "2022-02-02T11:21:59.638Z"
   },
   {
    "duration": 10,
    "start_time": "2022-02-02T11:21:59.650Z"
   },
   {
    "duration": 190,
    "start_time": "2022-02-02T11:21:59.661Z"
   },
   {
    "duration": 23,
    "start_time": "2022-02-02T11:21:59.853Z"
   },
   {
    "duration": 10,
    "start_time": "2022-02-02T11:21:59.877Z"
   },
   {
    "duration": 80,
    "start_time": "2022-02-02T11:21:59.888Z"
   },
   {
    "duration": 52,
    "start_time": "2022-02-02T11:21:59.970Z"
   },
   {
    "duration": 3,
    "start_time": "2022-02-02T11:22:00.023Z"
   },
   {
    "duration": 60,
    "start_time": "2022-02-02T11:22:00.027Z"
   },
   {
    "duration": 11,
    "start_time": "2022-02-02T11:22:00.089Z"
   },
   {
    "duration": 319,
    "start_time": "2022-02-02T11:23:43.974Z"
   },
   {
    "duration": 270,
    "start_time": "2022-02-02T11:24:21.190Z"
   },
   {
    "duration": 35,
    "start_time": "2022-02-02T11:24:48.349Z"
   },
   {
    "duration": 31,
    "start_time": "2022-02-02T11:25:00.989Z"
   },
   {
    "duration": 261,
    "start_time": "2022-02-02T11:27:01.593Z"
   },
   {
    "duration": 31,
    "start_time": "2022-02-02T11:27:06.005Z"
   },
   {
    "duration": 73,
    "start_time": "2022-02-02T11:27:30.970Z"
   },
   {
    "duration": 267,
    "start_time": "2022-02-02T11:36:06.103Z"
   },
   {
    "duration": 236,
    "start_time": "2022-02-02T11:36:49.281Z"
   },
   {
    "duration": 5,
    "start_time": "2022-02-02T11:37:16.088Z"
   },
   {
    "duration": 237,
    "start_time": "2022-02-02T11:37:28.742Z"
   },
   {
    "duration": 1014,
    "start_time": "2022-02-02T11:37:41.176Z"
   },
   {
    "duration": 388,
    "start_time": "2022-02-02T11:37:42.192Z"
   },
   {
    "duration": 11,
    "start_time": "2022-02-02T11:37:42.582Z"
   },
   {
    "duration": 22,
    "start_time": "2022-02-02T11:37:42.595Z"
   },
   {
    "duration": 17,
    "start_time": "2022-02-02T11:37:42.619Z"
   },
   {
    "duration": 8,
    "start_time": "2022-02-02T11:37:42.638Z"
   },
   {
    "duration": 18,
    "start_time": "2022-02-02T11:37:42.648Z"
   },
   {
    "duration": 51,
    "start_time": "2022-02-02T11:37:42.669Z"
   },
   {
    "duration": 8,
    "start_time": "2022-02-02T11:37:42.722Z"
   },
   {
    "duration": 16,
    "start_time": "2022-02-02T11:37:42.731Z"
   },
   {
    "duration": 7,
    "start_time": "2022-02-02T11:37:42.749Z"
   },
   {
    "duration": 8,
    "start_time": "2022-02-02T11:37:42.757Z"
   },
   {
    "duration": 10,
    "start_time": "2022-02-02T11:37:42.767Z"
   },
   {
    "duration": 33,
    "start_time": "2022-02-02T11:37:42.779Z"
   },
   {
    "duration": 7,
    "start_time": "2022-02-02T11:37:42.814Z"
   },
   {
    "duration": 90,
    "start_time": "2022-02-02T11:37:42.822Z"
   },
   {
    "duration": 14,
    "start_time": "2022-02-02T11:37:42.914Z"
   },
   {
    "duration": 7,
    "start_time": "2022-02-02T11:37:42.930Z"
   },
   {
    "duration": 16,
    "start_time": "2022-02-02T11:37:42.939Z"
   },
   {
    "duration": 12,
    "start_time": "2022-02-02T11:37:42.957Z"
   },
   {
    "duration": 10,
    "start_time": "2022-02-02T11:37:42.970Z"
   },
   {
    "duration": 35,
    "start_time": "2022-02-02T11:37:42.982Z"
   },
   {
    "duration": 10,
    "start_time": "2022-02-02T11:37:43.020Z"
   },
   {
    "duration": 9,
    "start_time": "2022-02-02T11:37:43.032Z"
   },
   {
    "duration": 6,
    "start_time": "2022-02-02T11:37:43.043Z"
   },
   {
    "duration": 5,
    "start_time": "2022-02-02T11:37:43.051Z"
   },
   {
    "duration": 201,
    "start_time": "2022-02-02T11:37:43.058Z"
   },
   {
    "duration": 24,
    "start_time": "2022-02-02T11:37:43.260Z"
   },
   {
    "duration": 12,
    "start_time": "2022-02-02T11:37:43.285Z"
   },
   {
    "duration": 64,
    "start_time": "2022-02-02T11:37:43.313Z"
   },
   {
    "duration": 55,
    "start_time": "2022-02-02T11:37:43.378Z"
   },
   {
    "duration": 3,
    "start_time": "2022-02-02T11:37:43.434Z"
   },
   {
    "duration": 52,
    "start_time": "2022-02-02T11:37:43.438Z"
   },
   {
    "duration": 46,
    "start_time": "2022-02-02T11:37:43.491Z"
   },
   {
    "duration": 12,
    "start_time": "2022-02-02T11:37:43.539Z"
   },
   {
    "duration": 367,
    "start_time": "2022-02-02T11:38:33.740Z"
   },
   {
    "duration": 236,
    "start_time": "2022-02-02T11:39:33.824Z"
   },
   {
    "duration": 11,
    "start_time": "2022-02-02T11:40:03.377Z"
   },
   {
    "duration": 8,
    "start_time": "2022-02-02T11:40:40.942Z"
   },
   {
    "duration": 285,
    "start_time": "2022-02-02T11:51:36.652Z"
   },
   {
    "duration": 1033,
    "start_time": "2022-02-02T11:52:15.257Z"
   },
   {
    "duration": 392,
    "start_time": "2022-02-02T11:52:16.291Z"
   },
   {
    "duration": 12,
    "start_time": "2022-02-02T11:52:16.685Z"
   },
   {
    "duration": 21,
    "start_time": "2022-02-02T11:52:16.699Z"
   },
   {
    "duration": 16,
    "start_time": "2022-02-02T11:52:16.722Z"
   },
   {
    "duration": 8,
    "start_time": "2022-02-02T11:52:16.740Z"
   },
   {
    "duration": 18,
    "start_time": "2022-02-02T11:52:16.750Z"
   },
   {
    "duration": 54,
    "start_time": "2022-02-02T11:52:16.771Z"
   },
   {
    "duration": 8,
    "start_time": "2022-02-02T11:52:16.827Z"
   },
   {
    "duration": 16,
    "start_time": "2022-02-02T11:52:16.836Z"
   },
   {
    "duration": 8,
    "start_time": "2022-02-02T11:52:16.853Z"
   },
   {
    "duration": 12,
    "start_time": "2022-02-02T11:52:16.862Z"
   },
   {
    "duration": 38,
    "start_time": "2022-02-02T11:52:16.875Z"
   },
   {
    "duration": 21,
    "start_time": "2022-02-02T11:52:16.915Z"
   },
   {
    "duration": 20,
    "start_time": "2022-02-02T11:52:16.938Z"
   },
   {
    "duration": 80,
    "start_time": "2022-02-02T11:52:16.959Z"
   },
   {
    "duration": 14,
    "start_time": "2022-02-02T11:52:17.040Z"
   },
   {
    "duration": 17,
    "start_time": "2022-02-02T11:52:17.056Z"
   },
   {
    "duration": 17,
    "start_time": "2022-02-02T11:52:17.074Z"
   },
   {
    "duration": 26,
    "start_time": "2022-02-02T11:52:17.092Z"
   },
   {
    "duration": 12,
    "start_time": "2022-02-02T11:52:17.120Z"
   },
   {
    "duration": 10,
    "start_time": "2022-02-02T11:52:17.134Z"
   },
   {
    "duration": 9,
    "start_time": "2022-02-02T11:52:17.147Z"
   },
   {
    "duration": 11,
    "start_time": "2022-02-02T11:52:17.158Z"
   },
   {
    "duration": 8,
    "start_time": "2022-02-02T11:52:17.171Z"
   },
   {
    "duration": 44,
    "start_time": "2022-02-02T11:52:17.180Z"
   },
   {
    "duration": 185,
    "start_time": "2022-02-02T11:52:17.226Z"
   },
   {
    "duration": 23,
    "start_time": "2022-02-02T11:52:17.412Z"
   },
   {
    "duration": 9,
    "start_time": "2022-02-02T11:52:17.437Z"
   },
   {
    "duration": 82,
    "start_time": "2022-02-02T11:52:17.447Z"
   },
   {
    "duration": 45,
    "start_time": "2022-02-02T11:52:17.531Z"
   },
   {
    "duration": 3,
    "start_time": "2022-02-02T11:52:17.578Z"
   },
   {
    "duration": 72,
    "start_time": "2022-02-02T11:52:17.583Z"
   },
   {
    "duration": 32,
    "start_time": "2022-02-02T11:52:17.657Z"
   },
   {
    "duration": 5,
    "start_time": "2022-02-02T11:52:17.690Z"
   },
   {
    "duration": 24,
    "start_time": "2022-02-02T11:52:17.697Z"
   },
   {
    "duration": 11,
    "start_time": "2022-02-02T11:52:17.722Z"
   },
   {
    "duration": 14,
    "start_time": "2022-02-02T11:52:46.972Z"
   },
   {
    "duration": 16,
    "start_time": "2022-02-02T11:52:55.510Z"
   },
   {
    "duration": 308,
    "start_time": "2022-02-02T11:53:32.553Z"
   },
   {
    "duration": 8,
    "start_time": "2022-02-02T11:58:52.279Z"
   },
   {
    "duration": 5921,
    "start_time": "2022-02-02T11:59:14.428Z"
   },
   {
    "duration": 1017,
    "start_time": "2022-02-02T11:59:25.674Z"
   },
   {
    "duration": 399,
    "start_time": "2022-02-02T11:59:26.693Z"
   },
   {
    "duration": 12,
    "start_time": "2022-02-02T11:59:27.093Z"
   },
   {
    "duration": 21,
    "start_time": "2022-02-02T11:59:27.107Z"
   },
   {
    "duration": 17,
    "start_time": "2022-02-02T11:59:27.130Z"
   },
   {
    "duration": 8,
    "start_time": "2022-02-02T11:59:27.149Z"
   },
   {
    "duration": 19,
    "start_time": "2022-02-02T11:59:27.158Z"
   },
   {
    "duration": 47,
    "start_time": "2022-02-02T11:59:27.179Z"
   },
   {
    "duration": 6,
    "start_time": "2022-02-02T11:59:27.228Z"
   },
   {
    "duration": 16,
    "start_time": "2022-02-02T11:59:27.236Z"
   },
   {
    "duration": 7,
    "start_time": "2022-02-02T11:59:27.253Z"
   },
   {
    "duration": 6,
    "start_time": "2022-02-02T11:59:27.262Z"
   },
   {
    "duration": 12,
    "start_time": "2022-02-02T11:59:27.270Z"
   },
   {
    "duration": 6,
    "start_time": "2022-02-02T11:59:27.312Z"
   },
   {
    "duration": 11,
    "start_time": "2022-02-02T11:59:27.320Z"
   },
   {
    "duration": 91,
    "start_time": "2022-02-02T11:59:27.333Z"
   },
   {
    "duration": 14,
    "start_time": "2022-02-02T11:59:27.426Z"
   },
   {
    "duration": 8,
    "start_time": "2022-02-02T11:59:27.441Z"
   },
   {
    "duration": 14,
    "start_time": "2022-02-02T11:59:27.450Z"
   },
   {
    "duration": 12,
    "start_time": "2022-02-02T11:59:27.466Z"
   },
   {
    "duration": 39,
    "start_time": "2022-02-02T11:59:27.480Z"
   },
   {
    "duration": 11,
    "start_time": "2022-02-02T11:59:27.521Z"
   },
   {
    "duration": 10,
    "start_time": "2022-02-02T11:59:27.535Z"
   },
   {
    "duration": 9,
    "start_time": "2022-02-02T11:59:27.547Z"
   },
   {
    "duration": 7,
    "start_time": "2022-02-02T11:59:27.558Z"
   },
   {
    "duration": 5,
    "start_time": "2022-02-02T11:59:27.567Z"
   },
   {
    "duration": 208,
    "start_time": "2022-02-02T11:59:27.573Z"
   },
   {
    "duration": 31,
    "start_time": "2022-02-02T11:59:27.783Z"
   },
   {
    "duration": 10,
    "start_time": "2022-02-02T11:59:27.816Z"
   },
   {
    "duration": 66,
    "start_time": "2022-02-02T11:59:27.827Z"
   },
   {
    "duration": 55,
    "start_time": "2022-02-02T11:59:27.895Z"
   },
   {
    "duration": 3,
    "start_time": "2022-02-02T11:59:27.951Z"
   },
   {
    "duration": 65,
    "start_time": "2022-02-02T11:59:27.955Z"
   },
   {
    "duration": 32,
    "start_time": "2022-02-02T11:59:28.022Z"
   },
   {
    "duration": 10,
    "start_time": "2022-02-02T11:59:28.056Z"
   },
   {
    "duration": 12,
    "start_time": "2022-02-02T11:59:28.067Z"
   },
   {
    "duration": 34,
    "start_time": "2022-02-02T11:59:28.081Z"
   },
   {
    "duration": 32,
    "start_time": "2022-02-02T13:07:38.373Z"
   },
   {
    "duration": 831,
    "start_time": "2022-02-02T13:09:41.511Z"
   },
   {
    "duration": 7,
    "start_time": "2022-02-02T13:09:51.185Z"
   },
   {
    "duration": 27,
    "start_time": "2022-02-02T13:09:59.752Z"
   },
   {
    "duration": 1098,
    "start_time": "2022-02-02T13:10:28.499Z"
   },
   {
    "duration": 397,
    "start_time": "2022-02-02T13:10:29.599Z"
   },
   {
    "duration": 12,
    "start_time": "2022-02-02T13:10:29.998Z"
   },
   {
    "duration": 21,
    "start_time": "2022-02-02T13:10:30.012Z"
   },
   {
    "duration": 17,
    "start_time": "2022-02-02T13:10:30.035Z"
   },
   {
    "duration": 9,
    "start_time": "2022-02-02T13:10:30.054Z"
   },
   {
    "duration": 26,
    "start_time": "2022-02-02T13:10:30.065Z"
   },
   {
    "duration": 29,
    "start_time": "2022-02-02T13:10:30.113Z"
   },
   {
    "duration": 8,
    "start_time": "2022-02-02T13:10:30.144Z"
   },
   {
    "duration": 27,
    "start_time": "2022-02-02T13:10:30.154Z"
   },
   {
    "duration": 11,
    "start_time": "2022-02-02T13:10:30.183Z"
   },
   {
    "duration": 22,
    "start_time": "2022-02-02T13:10:30.196Z"
   },
   {
    "duration": 23,
    "start_time": "2022-02-02T13:10:30.220Z"
   },
   {
    "duration": 17,
    "start_time": "2022-02-02T13:10:30.245Z"
   },
   {
    "duration": 17,
    "start_time": "2022-02-02T13:10:30.264Z"
   },
   {
    "duration": 90,
    "start_time": "2022-02-02T13:10:30.283Z"
   },
   {
    "duration": 15,
    "start_time": "2022-02-02T13:10:30.375Z"
   },
   {
    "duration": 21,
    "start_time": "2022-02-02T13:10:30.391Z"
   },
   {
    "duration": 19,
    "start_time": "2022-02-02T13:10:30.414Z"
   },
   {
    "duration": 24,
    "start_time": "2022-02-02T13:10:30.435Z"
   },
   {
    "duration": 15,
    "start_time": "2022-02-02T13:10:30.462Z"
   },
   {
    "duration": 14,
    "start_time": "2022-02-02T13:10:30.479Z"
   },
   {
    "duration": 12,
    "start_time": "2022-02-02T13:10:30.513Z"
   },
   {
    "duration": 20,
    "start_time": "2022-02-02T13:10:30.528Z"
   },
   {
    "duration": 13,
    "start_time": "2022-02-02T13:10:30.550Z"
   },
   {
    "duration": 19,
    "start_time": "2022-02-02T13:10:30.565Z"
   },
   {
    "duration": 183,
    "start_time": "2022-02-02T13:10:30.586Z"
   },
   {
    "duration": 25,
    "start_time": "2022-02-02T13:10:30.771Z"
   },
   {
    "duration": 25,
    "start_time": "2022-02-02T13:10:30.797Z"
   },
   {
    "duration": 83,
    "start_time": "2022-02-02T13:10:30.824Z"
   },
   {
    "duration": 46,
    "start_time": "2022-02-02T13:10:30.909Z"
   },
   {
    "duration": 3,
    "start_time": "2022-02-02T13:10:30.957Z"
   },
   {
    "duration": 70,
    "start_time": "2022-02-02T13:10:30.961Z"
   },
   {
    "duration": 36,
    "start_time": "2022-02-02T13:10:31.032Z"
   },
   {
    "duration": 20,
    "start_time": "2022-02-02T13:10:31.069Z"
   },
   {
    "duration": 31,
    "start_time": "2022-02-02T13:10:31.090Z"
   },
   {
    "duration": 7,
    "start_time": "2022-02-02T13:10:31.123Z"
   },
   {
    "duration": 5,
    "start_time": "2022-02-02T13:32:40.222Z"
   },
   {
    "duration": 118,
    "start_time": "2022-02-02T13:32:42.221Z"
   },
   {
    "duration": 4,
    "start_time": "2022-02-02T13:33:34.808Z"
   },
   {
    "duration": 115,
    "start_time": "2022-02-02T13:33:35.461Z"
   },
   {
    "duration": 14,
    "start_time": "2022-02-02T13:33:37.310Z"
   },
   {
    "duration": 19,
    "start_time": "2022-02-02T13:33:44.919Z"
   },
   {
    "duration": 9,
    "start_time": "2022-02-02T13:35:10.752Z"
   },
   {
    "duration": 4,
    "start_time": "2022-02-02T13:36:58.855Z"
   },
   {
    "duration": 119,
    "start_time": "2022-02-02T13:37:02.424Z"
   },
   {
    "duration": 8,
    "start_time": "2022-02-02T13:37:03.248Z"
   },
   {
    "duration": 4,
    "start_time": "2022-02-02T13:37:24.578Z"
   },
   {
    "duration": 120,
    "start_time": "2022-02-02T13:37:25.229Z"
   },
   {
    "duration": 9,
    "start_time": "2022-02-02T13:37:25.803Z"
   },
   {
    "duration": 5,
    "start_time": "2022-02-02T13:38:18.051Z"
   },
   {
    "duration": 118,
    "start_time": "2022-02-02T13:38:18.558Z"
   },
   {
    "duration": 9,
    "start_time": "2022-02-02T13:38:19.460Z"
   },
   {
    "duration": 18,
    "start_time": "2022-02-02T13:38:21.046Z"
   },
   {
    "duration": 337,
    "start_time": "2022-02-02T14:27:24.021Z"
   },
   {
    "duration": 245,
    "start_time": "2022-02-02T14:29:14.809Z"
   },
   {
    "duration": 246,
    "start_time": "2022-02-02T14:29:41.074Z"
   },
   {
    "duration": 226,
    "start_time": "2022-02-02T14:30:48.142Z"
   },
   {
    "duration": 219,
    "start_time": "2022-02-02T14:30:59.177Z"
   },
   {
    "duration": 223,
    "start_time": "2022-02-02T14:31:59.737Z"
   },
   {
    "duration": 277,
    "start_time": "2022-02-02T14:32:02.869Z"
   },
   {
    "duration": 8,
    "start_time": "2022-02-02T14:34:14.051Z"
   },
   {
    "duration": 220,
    "start_time": "2022-02-02T14:37:48.102Z"
   },
   {
    "duration": 229,
    "start_time": "2022-02-02T14:38:10.413Z"
   },
   {
    "duration": 214,
    "start_time": "2022-02-02T14:42:33.359Z"
   },
   {
    "duration": 230,
    "start_time": "2022-02-02T14:42:54.824Z"
   },
   {
    "duration": 11,
    "start_time": "2022-02-02T14:45:52.653Z"
   },
   {
    "duration": 10,
    "start_time": "2022-02-02T15:27:16.100Z"
   },
   {
    "duration": 8,
    "start_time": "2022-02-02T15:32:47.762Z"
   },
   {
    "duration": 9,
    "start_time": "2022-02-02T15:33:40.973Z"
   },
   {
    "duration": 10,
    "start_time": "2022-02-02T15:34:36.993Z"
   },
   {
    "duration": 11,
    "start_time": "2022-02-02T15:35:12.832Z"
   },
   {
    "duration": 238,
    "start_time": "2022-02-02T15:36:06.477Z"
   },
   {
    "duration": 10,
    "start_time": "2022-02-02T15:36:23.820Z"
   },
   {
    "duration": 10,
    "start_time": "2022-02-02T15:36:45.679Z"
   },
   {
    "duration": 9,
    "start_time": "2022-02-02T15:36:49.185Z"
   },
   {
    "duration": 21,
    "start_time": "2022-02-02T15:59:16.640Z"
   },
   {
    "duration": 21,
    "start_time": "2022-02-02T16:01:44.914Z"
   },
   {
    "duration": 22,
    "start_time": "2022-02-02T16:07:11.753Z"
   },
   {
    "duration": 243,
    "start_time": "2022-02-02T16:12:08.999Z"
   },
   {
    "duration": 240,
    "start_time": "2022-02-02T16:12:23.110Z"
   },
   {
    "duration": 232,
    "start_time": "2022-02-02T16:14:07.574Z"
   },
   {
    "duration": 239,
    "start_time": "2022-02-02T16:14:15.373Z"
   },
   {
    "duration": 218,
    "start_time": "2022-02-02T16:17:21.714Z"
   },
   {
    "duration": 219,
    "start_time": "2022-02-02T16:17:40.101Z"
   },
   {
    "duration": 296,
    "start_time": "2022-02-02T16:25:07.465Z"
   },
   {
    "duration": 213,
    "start_time": "2022-02-02T16:25:19.465Z"
   },
   {
    "duration": 454,
    "start_time": "2022-02-02T16:26:30.704Z"
   },
   {
    "duration": 224,
    "start_time": "2022-02-02T16:26:38.190Z"
   },
   {
    "duration": 219,
    "start_time": "2022-02-02T16:27:18.929Z"
   },
   {
    "duration": 448,
    "start_time": "2022-02-02T16:46:05.268Z"
   },
   {
    "duration": 255,
    "start_time": "2022-02-02T16:46:43.124Z"
   },
   {
    "duration": 262,
    "start_time": "2022-02-02T16:47:10.454Z"
   },
   {
    "duration": 66,
    "start_time": "2022-02-02T16:50:31.073Z"
   },
   {
    "duration": 262,
    "start_time": "2022-02-02T16:50:39.936Z"
   },
   {
    "duration": 266,
    "start_time": "2022-02-02T17:10:50.310Z"
   },
   {
    "duration": 253,
    "start_time": "2022-02-02T17:11:01.006Z"
   },
   {
    "duration": 324,
    "start_time": "2022-02-02T17:11:52.338Z"
   },
   {
    "duration": 249,
    "start_time": "2022-02-02T17:15:55.329Z"
   },
   {
    "duration": 16,
    "start_time": "2022-02-02T17:45:55.149Z"
   },
   {
    "duration": 243,
    "start_time": "2022-02-02T17:52:20.626Z"
   },
   {
    "duration": 411,
    "start_time": "2022-02-02T17:52:43.536Z"
   },
   {
    "duration": 16,
    "start_time": "2022-02-02T17:53:16.074Z"
   },
   {
    "duration": 404,
    "start_time": "2022-02-02T17:55:46.128Z"
   },
   {
    "duration": 8,
    "start_time": "2022-02-02T18:01:07.201Z"
   },
   {
    "duration": 4,
    "start_time": "2022-02-02T18:14:03.940Z"
   },
   {
    "duration": 5,
    "start_time": "2022-02-02T18:14:39.844Z"
   },
   {
    "duration": 10,
    "start_time": "2022-02-02T18:16:27.221Z"
   },
   {
    "duration": 4,
    "start_time": "2022-02-02T18:16:28.292Z"
   },
   {
    "duration": 20,
    "start_time": "2022-02-02T18:23:55.637Z"
   },
   {
    "duration": 17,
    "start_time": "2022-02-02T18:24:17.481Z"
   },
   {
    "duration": 9,
    "start_time": "2022-02-02T18:27:46.033Z"
   },
   {
    "duration": 4,
    "start_time": "2022-02-02T18:27:46.640Z"
   },
   {
    "duration": 4,
    "start_time": "2022-02-02T18:27:47.301Z"
   },
   {
    "duration": 34,
    "start_time": "2022-02-02T18:53:53.644Z"
   },
   {
    "duration": 1075,
    "start_time": "2022-02-02T18:54:50.609Z"
   },
   {
    "duration": 423,
    "start_time": "2022-02-02T18:54:51.686Z"
   },
   {
    "duration": 12,
    "start_time": "2022-02-02T18:54:52.111Z"
   },
   {
    "duration": 23,
    "start_time": "2022-02-02T18:54:52.125Z"
   },
   {
    "duration": 17,
    "start_time": "2022-02-02T18:54:52.150Z"
   },
   {
    "duration": 8,
    "start_time": "2022-02-02T18:54:52.169Z"
   },
   {
    "duration": 48,
    "start_time": "2022-02-02T18:54:52.178Z"
   },
   {
    "duration": 28,
    "start_time": "2022-02-02T18:54:52.228Z"
   },
   {
    "duration": 6,
    "start_time": "2022-02-02T18:54:52.258Z"
   },
   {
    "duration": 51,
    "start_time": "2022-02-02T18:54:52.266Z"
   },
   {
    "duration": 8,
    "start_time": "2022-02-02T18:54:52.319Z"
   },
   {
    "duration": 10,
    "start_time": "2022-02-02T18:54:52.329Z"
   },
   {
    "duration": 12,
    "start_time": "2022-02-02T18:54:52.340Z"
   },
   {
    "duration": 7,
    "start_time": "2022-02-02T18:54:52.354Z"
   },
   {
    "duration": 7,
    "start_time": "2022-02-02T18:54:52.363Z"
   },
   {
    "duration": 112,
    "start_time": "2022-02-02T18:54:52.372Z"
   },
   {
    "duration": 26,
    "start_time": "2022-02-02T18:54:52.486Z"
   },
   {
    "duration": 8,
    "start_time": "2022-02-02T18:54:52.514Z"
   },
   {
    "duration": 14,
    "start_time": "2022-02-02T18:54:52.523Z"
   },
   {
    "duration": 13,
    "start_time": "2022-02-02T18:54:52.539Z"
   },
   {
    "duration": 11,
    "start_time": "2022-02-02T18:54:52.553Z"
   },
   {
    "duration": 48,
    "start_time": "2022-02-02T18:54:52.565Z"
   },
   {
    "duration": 10,
    "start_time": "2022-02-02T18:54:52.617Z"
   },
   {
    "duration": 10,
    "start_time": "2022-02-02T18:54:52.629Z"
   },
   {
    "duration": 6,
    "start_time": "2022-02-02T18:54:52.641Z"
   },
   {
    "duration": 8,
    "start_time": "2022-02-02T18:54:52.648Z"
   },
   {
    "duration": 232,
    "start_time": "2022-02-02T18:54:52.657Z"
   },
   {
    "duration": 31,
    "start_time": "2022-02-02T18:54:52.891Z"
   },
   {
    "duration": 10,
    "start_time": "2022-02-02T18:54:52.924Z"
   },
   {
    "duration": 84,
    "start_time": "2022-02-02T18:54:52.935Z"
   },
   {
    "duration": 42,
    "start_time": "2022-02-02T18:54:53.021Z"
   },
   {
    "duration": 2,
    "start_time": "2022-02-02T18:54:53.065Z"
   },
   {
    "duration": 71,
    "start_time": "2022-02-02T18:54:53.069Z"
   },
   {
    "duration": 34,
    "start_time": "2022-02-02T18:54:53.142Z"
   },
   {
    "duration": 43,
    "start_time": "2022-02-02T18:54:53.177Z"
   },
   {
    "duration": 4,
    "start_time": "2022-02-02T18:54:53.222Z"
   },
   {
    "duration": 133,
    "start_time": "2022-02-02T18:54:53.228Z"
   },
   {
    "duration": 20,
    "start_time": "2022-02-02T18:54:53.363Z"
   },
   {
    "duration": 279,
    "start_time": "2022-02-02T18:54:53.384Z"
   },
   {
    "duration": 9,
    "start_time": "2022-02-02T18:54:53.665Z"
   },
   {
    "duration": 8,
    "start_time": "2022-02-02T18:54:53.676Z"
   },
   {
    "duration": 32,
    "start_time": "2022-02-02T18:54:53.687Z"
   },
   {
    "duration": 237,
    "start_time": "2022-02-02T18:54:53.721Z"
   },
   {
    "duration": 232,
    "start_time": "2022-02-02T18:54:53.960Z"
   },
   {
    "duration": 32,
    "start_time": "2022-02-02T18:54:54.194Z"
   },
   {
    "duration": 266,
    "start_time": "2022-02-02T18:54:54.228Z"
   },
   {
    "duration": 33,
    "start_time": "2022-02-02T18:54:54.496Z"
   },
   {
    "duration": 27,
    "start_time": "2022-02-02T18:54:54.531Z"
   },
   {
    "duration": 15,
    "start_time": "2022-02-02T18:54:54.561Z"
   },
   {
    "duration": 34,
    "start_time": "2022-02-02T18:54:54.578Z"
   },
   {
    "duration": 5,
    "start_time": "2022-02-02T18:54:54.614Z"
   },
   {
    "duration": 18,
    "start_time": "2022-02-02T18:54:54.620Z"
   },
   {
    "duration": 7,
    "start_time": "2022-02-02T18:54:54.639Z"
   },
   {
    "duration": 7,
    "start_time": "2022-02-02T18:54:54.647Z"
   },
   {
    "duration": 10,
    "start_time": "2022-02-02T18:54:54.656Z"
   },
   {
    "duration": 10,
    "start_time": "2022-02-02T18:56:22.537Z"
   },
   {
    "duration": 11,
    "start_time": "2022-02-02T19:02:42.139Z"
   },
   {
    "duration": 9,
    "start_time": "2022-02-02T19:02:57.718Z"
   },
   {
    "duration": 10,
    "start_time": "2022-02-02T19:03:05.822Z"
   },
   {
    "duration": 9,
    "start_time": "2022-02-02T19:04:12.904Z"
   },
   {
    "duration": 4,
    "start_time": "2022-02-02T19:04:13.514Z"
   },
   {
    "duration": 9,
    "start_time": "2022-02-02T19:24:58.547Z"
   },
   {
    "duration": 4,
    "start_time": "2022-02-02T19:24:59.230Z"
   },
   {
    "duration": 12,
    "start_time": "2022-02-02T19:25:51.603Z"
   },
   {
    "duration": 9,
    "start_time": "2022-02-02T19:26:51.612Z"
   },
   {
    "duration": 3,
    "start_time": "2022-02-02T19:26:56.784Z"
   },
   {
    "duration": 10,
    "start_time": "2022-02-02T19:30:33.437Z"
   },
   {
    "duration": 12,
    "start_time": "2022-02-02T19:33:34.360Z"
   },
   {
    "duration": 12,
    "start_time": "2022-02-02T19:35:20.661Z"
   },
   {
    "duration": 12,
    "start_time": "2022-02-02T19:35:38.580Z"
   },
   {
    "duration": 13,
    "start_time": "2022-02-02T19:39:53.722Z"
   },
   {
    "duration": 15,
    "start_time": "2022-02-02T19:40:19.487Z"
   },
   {
    "duration": 5,
    "start_time": "2022-02-02T19:40:26.042Z"
   },
   {
    "duration": 1074,
    "start_time": "2022-02-02T19:51:56.621Z"
   },
   {
    "duration": 379,
    "start_time": "2022-02-02T19:51:57.697Z"
   },
   {
    "duration": 11,
    "start_time": "2022-02-02T19:51:58.078Z"
   },
   {
    "duration": 21,
    "start_time": "2022-02-02T19:51:58.091Z"
   },
   {
    "duration": 16,
    "start_time": "2022-02-02T19:51:58.113Z"
   },
   {
    "duration": 8,
    "start_time": "2022-02-02T19:51:58.130Z"
   },
   {
    "duration": 17,
    "start_time": "2022-02-02T19:51:58.139Z"
   },
   {
    "duration": 26,
    "start_time": "2022-02-02T19:51:58.158Z"
   },
   {
    "duration": 31,
    "start_time": "2022-02-02T19:51:58.186Z"
   },
   {
    "duration": 14,
    "start_time": "2022-02-02T19:51:58.219Z"
   },
   {
    "duration": 11,
    "start_time": "2022-02-02T19:51:58.234Z"
   },
   {
    "duration": 6,
    "start_time": "2022-02-02T19:51:58.248Z"
   },
   {
    "duration": 11,
    "start_time": "2022-02-02T19:51:58.264Z"
   },
   {
    "duration": 7,
    "start_time": "2022-02-02T19:51:58.276Z"
   },
   {
    "duration": 33,
    "start_time": "2022-02-02T19:51:58.284Z"
   },
   {
    "duration": 72,
    "start_time": "2022-02-02T19:51:58.319Z"
   },
   {
    "duration": 30,
    "start_time": "2022-02-02T19:51:58.393Z"
   },
   {
    "duration": 7,
    "start_time": "2022-02-02T19:51:58.425Z"
   },
   {
    "duration": 14,
    "start_time": "2022-02-02T19:51:58.434Z"
   },
   {
    "duration": 13,
    "start_time": "2022-02-02T19:51:58.449Z"
   },
   {
    "duration": 11,
    "start_time": "2022-02-02T19:51:58.463Z"
   },
   {
    "duration": 38,
    "start_time": "2022-02-02T19:51:58.475Z"
   },
   {
    "duration": 9,
    "start_time": "2022-02-02T19:51:58.517Z"
   },
   {
    "duration": 10,
    "start_time": "2022-02-02T19:51:58.528Z"
   },
   {
    "duration": 6,
    "start_time": "2022-02-02T19:51:58.539Z"
   },
   {
    "duration": 5,
    "start_time": "2022-02-02T19:51:58.547Z"
   },
   {
    "duration": 202,
    "start_time": "2022-02-02T19:51:58.554Z"
   },
   {
    "duration": 23,
    "start_time": "2022-02-02T19:51:58.757Z"
   },
   {
    "duration": 9,
    "start_time": "2022-02-02T19:51:58.781Z"
   },
   {
    "duration": 85,
    "start_time": "2022-02-02T19:51:58.792Z"
   },
   {
    "duration": 55,
    "start_time": "2022-02-02T19:51:58.879Z"
   },
   {
    "duration": 3,
    "start_time": "2022-02-02T19:51:58.936Z"
   },
   {
    "duration": 47,
    "start_time": "2022-02-02T19:51:58.940Z"
   },
   {
    "duration": 48,
    "start_time": "2022-02-02T19:51:58.989Z"
   },
   {
    "duration": 20,
    "start_time": "2022-02-02T19:51:59.039Z"
   },
   {
    "duration": 5,
    "start_time": "2022-02-02T19:51:59.061Z"
   },
   {
    "duration": 142,
    "start_time": "2022-02-02T19:51:59.068Z"
   },
   {
    "duration": 17,
    "start_time": "2022-02-02T19:51:59.212Z"
   },
   {
    "duration": 261,
    "start_time": "2022-02-02T19:51:59.230Z"
   },
   {
    "duration": 20,
    "start_time": "2022-02-02T19:51:59.492Z"
   },
   {
    "duration": 8,
    "start_time": "2022-02-02T19:51:59.514Z"
   },
   {
    "duration": 11,
    "start_time": "2022-02-02T19:51:59.524Z"
   },
   {
    "duration": 251,
    "start_time": "2022-02-02T19:51:59.537Z"
   },
   {
    "duration": 223,
    "start_time": "2022-02-02T19:51:59.789Z"
   },
   {
    "duration": 22,
    "start_time": "2022-02-02T19:52:00.014Z"
   },
   {
    "duration": 279,
    "start_time": "2022-02-02T19:52:00.037Z"
   },
   {
    "duration": 20,
    "start_time": "2022-02-02T19:52:00.317Z"
   },
   {
    "duration": 23,
    "start_time": "2022-02-02T19:52:00.338Z"
   },
   {
    "duration": 16,
    "start_time": "2022-02-02T19:52:00.363Z"
   },
   {
    "duration": 34,
    "start_time": "2022-02-02T19:52:00.380Z"
   },
   {
    "duration": 3,
    "start_time": "2022-02-02T19:52:00.415Z"
   },
   {
    "duration": 24,
    "start_time": "2022-02-02T19:52:00.420Z"
   },
   {
    "duration": 11,
    "start_time": "2022-02-02T19:52:00.445Z"
   },
   {
    "duration": 7,
    "start_time": "2022-02-02T19:52:00.457Z"
   },
   {
    "duration": 17,
    "start_time": "2022-02-02T19:52:00.465Z"
   },
   {
    "duration": 1022,
    "start_time": "2022-02-02T19:58:30.453Z"
   },
   {
    "duration": 368,
    "start_time": "2022-02-02T19:58:31.477Z"
   },
   {
    "duration": 11,
    "start_time": "2022-02-02T19:58:31.847Z"
   },
   {
    "duration": 20,
    "start_time": "2022-02-02T19:58:31.859Z"
   },
   {
    "duration": 15,
    "start_time": "2022-02-02T19:58:31.881Z"
   },
   {
    "duration": 8,
    "start_time": "2022-02-02T19:58:31.898Z"
   },
   {
    "duration": 23,
    "start_time": "2022-02-02T19:58:31.907Z"
   },
   {
    "duration": 27,
    "start_time": "2022-02-02T19:58:31.932Z"
   },
   {
    "duration": 7,
    "start_time": "2022-02-02T19:58:31.961Z"
   },
   {
    "duration": 14,
    "start_time": "2022-02-02T19:58:31.970Z"
   },
   {
    "duration": 28,
    "start_time": "2022-02-02T19:58:31.985Z"
   },
   {
    "duration": 7,
    "start_time": "2022-02-02T19:58:32.015Z"
   },
   {
    "duration": 11,
    "start_time": "2022-02-02T19:58:32.024Z"
   },
   {
    "duration": 11,
    "start_time": "2022-02-02T19:58:32.037Z"
   },
   {
    "duration": 8,
    "start_time": "2022-02-02T19:58:32.049Z"
   },
   {
    "duration": 98,
    "start_time": "2022-02-02T19:58:32.059Z"
   },
   {
    "duration": 14,
    "start_time": "2022-02-02T19:58:32.159Z"
   },
   {
    "duration": 8,
    "start_time": "2022-02-02T19:58:32.175Z"
   },
   {
    "duration": 31,
    "start_time": "2022-02-02T19:58:32.184Z"
   },
   {
    "duration": 12,
    "start_time": "2022-02-02T19:58:32.217Z"
   },
   {
    "duration": 10,
    "start_time": "2022-02-02T19:58:32.231Z"
   },
   {
    "duration": 10,
    "start_time": "2022-02-02T19:58:32.243Z"
   },
   {
    "duration": 9,
    "start_time": "2022-02-02T19:58:32.257Z"
   },
   {
    "duration": 44,
    "start_time": "2022-02-02T19:58:32.268Z"
   },
   {
    "duration": 5,
    "start_time": "2022-02-02T19:58:32.314Z"
   },
   {
    "duration": 6,
    "start_time": "2022-02-02T19:58:32.320Z"
   },
   {
    "duration": 176,
    "start_time": "2022-02-02T19:58:32.327Z"
   },
   {
    "duration": 27,
    "start_time": "2022-02-02T19:58:32.504Z"
   },
   {
    "duration": 9,
    "start_time": "2022-02-02T19:58:32.533Z"
   },
   {
    "duration": 81,
    "start_time": "2022-02-02T19:58:32.543Z"
   },
   {
    "duration": 45,
    "start_time": "2022-02-02T19:58:32.625Z"
   },
   {
    "duration": 3,
    "start_time": "2022-02-02T19:58:32.671Z"
   },
   {
    "duration": 63,
    "start_time": "2022-02-02T19:58:32.676Z"
   },
   {
    "duration": 32,
    "start_time": "2022-02-02T19:58:32.741Z"
   },
   {
    "duration": 18,
    "start_time": "2022-02-02T19:58:32.775Z"
   },
   {
    "duration": 21,
    "start_time": "2022-02-02T19:58:32.794Z"
   },
   {
    "duration": 129,
    "start_time": "2022-02-02T19:58:32.816Z"
   },
   {
    "duration": 17,
    "start_time": "2022-02-02T19:58:32.947Z"
   },
   {
    "duration": 265,
    "start_time": "2022-02-02T19:58:32.966Z"
   },
   {
    "duration": 9,
    "start_time": "2022-02-02T19:58:33.232Z"
   },
   {
    "duration": 9,
    "start_time": "2022-02-02T19:58:33.243Z"
   },
   {
    "duration": 9,
    "start_time": "2022-02-02T19:58:33.254Z"
   },
   {
    "duration": 248,
    "start_time": "2022-02-02T19:58:33.264Z"
   },
   {
    "duration": 221,
    "start_time": "2022-02-02T19:58:33.513Z"
   },
   {
    "duration": 20,
    "start_time": "2022-02-02T19:58:33.736Z"
   },
   {
    "duration": 266,
    "start_time": "2022-02-02T19:58:33.758Z"
   },
   {
    "duration": 20,
    "start_time": "2022-02-02T19:58:34.026Z"
   },
   {
    "duration": 21,
    "start_time": "2022-02-02T19:58:34.047Z"
   },
   {
    "duration": 13,
    "start_time": "2022-02-02T19:58:34.069Z"
   },
   {
    "duration": 35,
    "start_time": "2022-02-02T19:58:34.083Z"
   },
   {
    "duration": 3,
    "start_time": "2022-02-02T19:58:34.120Z"
   },
   {
    "duration": 15,
    "start_time": "2022-02-02T19:58:34.125Z"
   },
   {
    "duration": 9,
    "start_time": "2022-02-02T19:58:34.142Z"
   },
   {
    "duration": 6,
    "start_time": "2022-02-02T19:58:34.153Z"
   },
   {
    "duration": 6,
    "start_time": "2022-02-02T19:58:34.160Z"
   },
   {
    "duration": 1087,
    "start_time": "2022-02-12T08:33:48.593Z"
   },
   {
    "duration": 352,
    "start_time": "2022-02-12T08:33:49.682Z"
   },
   {
    "duration": 12,
    "start_time": "2022-02-12T08:33:50.036Z"
   },
   {
    "duration": 21,
    "start_time": "2022-02-12T08:33:50.050Z"
   },
   {
    "duration": 16,
    "start_time": "2022-02-12T08:33:50.073Z"
   },
   {
    "duration": 9,
    "start_time": "2022-02-12T08:33:50.090Z"
   },
   {
    "duration": 17,
    "start_time": "2022-02-12T08:33:50.112Z"
   },
   {
    "duration": 27,
    "start_time": "2022-02-12T08:33:50.132Z"
   },
   {
    "duration": 6,
    "start_time": "2022-02-12T08:33:50.161Z"
   },
   {
    "duration": 16,
    "start_time": "2022-02-12T08:33:50.169Z"
   },
   {
    "duration": 8,
    "start_time": "2022-02-12T08:33:50.212Z"
   },
   {
    "duration": 7,
    "start_time": "2022-02-12T08:33:50.222Z"
   },
   {
    "duration": 12,
    "start_time": "2022-02-12T08:33:50.230Z"
   },
   {
    "duration": 8,
    "start_time": "2022-02-12T08:33:50.244Z"
   },
   {
    "duration": 7,
    "start_time": "2022-02-12T08:33:50.254Z"
   },
   {
    "duration": 102,
    "start_time": "2022-02-12T08:33:50.263Z"
   },
   {
    "duration": 13,
    "start_time": "2022-02-12T08:33:50.367Z"
   },
   {
    "duration": 8,
    "start_time": "2022-02-12T08:33:50.382Z"
   },
   {
    "duration": 31,
    "start_time": "2022-02-12T08:33:50.391Z"
   },
   {
    "duration": 12,
    "start_time": "2022-02-12T08:33:50.424Z"
   },
   {
    "duration": 12,
    "start_time": "2022-02-12T08:33:50.438Z"
   },
   {
    "duration": 11,
    "start_time": "2022-02-12T08:33:50.452Z"
   },
   {
    "duration": 9,
    "start_time": "2022-02-12T08:33:50.467Z"
   },
   {
    "duration": 43,
    "start_time": "2022-02-12T08:33:50.478Z"
   },
   {
    "duration": 5,
    "start_time": "2022-02-12T08:33:50.523Z"
   },
   {
    "duration": 6,
    "start_time": "2022-02-12T08:33:50.530Z"
   },
   {
    "duration": 177,
    "start_time": "2022-02-12T08:33:50.538Z"
   },
   {
    "duration": 23,
    "start_time": "2022-02-12T08:33:50.716Z"
   },
   {
    "duration": 9,
    "start_time": "2022-02-12T08:33:50.740Z"
   },
   {
    "duration": 79,
    "start_time": "2022-02-12T08:33:50.751Z"
   },
   {
    "duration": 41,
    "start_time": "2022-02-12T08:33:50.831Z"
   },
   {
    "duration": 2,
    "start_time": "2022-02-12T08:33:50.874Z"
   },
   {
    "duration": 65,
    "start_time": "2022-02-12T08:33:50.878Z"
   },
   {
    "duration": 33,
    "start_time": "2022-02-12T08:33:50.945Z"
   },
   {
    "duration": 36,
    "start_time": "2022-02-12T08:33:50.979Z"
   },
   {
    "duration": 4,
    "start_time": "2022-02-12T08:33:51.017Z"
   },
   {
    "duration": 131,
    "start_time": "2022-02-12T08:33:51.023Z"
   },
   {
    "duration": 19,
    "start_time": "2022-02-12T08:33:51.156Z"
   },
   {
    "duration": 266,
    "start_time": "2022-02-12T08:33:51.177Z"
   },
   {
    "duration": 9,
    "start_time": "2022-02-12T08:33:51.444Z"
   },
   {
    "duration": 8,
    "start_time": "2022-02-12T08:33:51.455Z"
   },
   {
    "duration": 8,
    "start_time": "2022-02-12T08:33:51.465Z"
   },
   {
    "duration": 244,
    "start_time": "2022-02-12T08:33:51.475Z"
   },
   {
    "duration": 233,
    "start_time": "2022-02-12T08:33:51.721Z"
   },
   {
    "duration": 23,
    "start_time": "2022-02-12T08:33:51.956Z"
   },
   {
    "duration": 274,
    "start_time": "2022-02-12T08:33:51.980Z"
   },
   {
    "duration": 21,
    "start_time": "2022-02-12T08:33:52.256Z"
   },
   {
    "duration": 36,
    "start_time": "2022-02-12T08:33:52.278Z"
   },
   {
    "duration": 14,
    "start_time": "2022-02-12T08:33:52.315Z"
   },
   {
    "duration": 10,
    "start_time": "2022-02-12T08:33:52.331Z"
   },
   {
    "duration": 3,
    "start_time": "2022-02-12T08:33:52.343Z"
   },
   {
    "duration": 19,
    "start_time": "2022-02-12T08:33:52.348Z"
   },
   {
    "duration": 10,
    "start_time": "2022-02-12T08:33:52.368Z"
   },
   {
    "duration": 4,
    "start_time": "2022-02-12T08:33:52.412Z"
   },
   {
    "duration": 6,
    "start_time": "2022-02-12T08:33:52.418Z"
   },
   {
    "duration": 20,
    "start_time": "2022-02-12T08:42:41.004Z"
   },
   {
    "duration": 21,
    "start_time": "2022-02-12T08:42:45.901Z"
   },
   {
    "duration": 30,
    "start_time": "2022-02-12T08:42:53.030Z"
   },
   {
    "duration": 24,
    "start_time": "2022-02-12T08:43:06.661Z"
   },
   {
    "duration": 80,
    "start_time": "2022-02-12T08:47:57.881Z"
   },
   {
    "duration": 331,
    "start_time": "2022-02-12T08:49:06.614Z"
   },
   {
    "duration": 41,
    "start_time": "2022-02-12T08:49:15.550Z"
   },
   {
    "duration": 25,
    "start_time": "2022-02-12T08:49:49.099Z"
   },
   {
    "duration": 5,
    "start_time": "2022-02-12T08:54:05.020Z"
   },
   {
    "duration": 1033,
    "start_time": "2022-02-12T08:54:46.659Z"
   },
   {
    "duration": 351,
    "start_time": "2022-02-12T08:54:47.694Z"
   },
   {
    "duration": 10,
    "start_time": "2022-02-12T08:54:48.048Z"
   },
   {
    "duration": 22,
    "start_time": "2022-02-12T08:54:48.060Z"
   },
   {
    "duration": 15,
    "start_time": "2022-02-12T08:54:48.083Z"
   },
   {
    "duration": 18,
    "start_time": "2022-02-12T08:54:48.100Z"
   },
   {
    "duration": 16,
    "start_time": "2022-02-12T08:54:48.120Z"
   },
   {
    "duration": 25,
    "start_time": "2022-02-12T08:54:48.138Z"
   },
   {
    "duration": 6,
    "start_time": "2022-02-12T08:54:48.165Z"
   },
   {
    "duration": 39,
    "start_time": "2022-02-12T08:54:48.173Z"
   },
   {
    "duration": 7,
    "start_time": "2022-02-12T08:54:48.214Z"
   },
   {
    "duration": 6,
    "start_time": "2022-02-12T08:54:48.223Z"
   },
   {
    "duration": 12,
    "start_time": "2022-02-12T08:54:48.231Z"
   },
   {
    "duration": 8,
    "start_time": "2022-02-12T08:54:48.245Z"
   },
   {
    "duration": 10,
    "start_time": "2022-02-12T08:54:48.254Z"
   },
   {
    "duration": 98,
    "start_time": "2022-02-12T08:54:48.266Z"
   },
   {
    "duration": 13,
    "start_time": "2022-02-12T08:54:48.365Z"
   },
   {
    "duration": 8,
    "start_time": "2022-02-12T08:54:48.380Z"
   },
   {
    "duration": 28,
    "start_time": "2022-02-12T08:54:48.389Z"
   },
   {
    "duration": 16,
    "start_time": "2022-02-12T08:54:48.419Z"
   },
   {
    "duration": 13,
    "start_time": "2022-02-12T08:54:48.437Z"
   },
   {
    "duration": 12,
    "start_time": "2022-02-12T08:54:48.451Z"
   },
   {
    "duration": 50,
    "start_time": "2022-02-12T08:54:48.468Z"
   },
   {
    "duration": 10,
    "start_time": "2022-02-12T08:54:48.521Z"
   },
   {
    "duration": 6,
    "start_time": "2022-02-12T08:54:48.533Z"
   },
   {
    "duration": 7,
    "start_time": "2022-02-12T08:54:48.541Z"
   },
   {
    "duration": 195,
    "start_time": "2022-02-12T08:54:48.549Z"
   },
   {
    "duration": 25,
    "start_time": "2022-02-12T08:54:48.746Z"
   },
   {
    "duration": 11,
    "start_time": "2022-02-12T08:54:48.772Z"
   },
   {
    "duration": 84,
    "start_time": "2022-02-12T08:54:48.785Z"
   },
   {
    "duration": 63,
    "start_time": "2022-02-12T08:54:48.871Z"
   },
   {
    "duration": 4,
    "start_time": "2022-02-12T08:54:48.936Z"
   },
   {
    "duration": 93,
    "start_time": "2022-02-12T08:54:48.942Z"
   },
   {
    "duration": 85,
    "start_time": "2022-02-12T08:54:49.037Z"
   },
   {
    "duration": 19,
    "start_time": "2022-02-12T08:54:49.123Z"
   },
   {
    "duration": 7,
    "start_time": "2022-02-12T08:54:49.144Z"
   },
   {
    "duration": 271,
    "start_time": "2022-02-12T08:54:49.153Z"
   },
   {
    "duration": 19,
    "start_time": "2022-02-12T08:54:49.426Z"
   },
   {
    "duration": 317,
    "start_time": "2022-02-12T08:54:49.447Z"
   },
   {
    "duration": 8,
    "start_time": "2022-02-12T08:54:49.766Z"
   },
   {
    "duration": 8,
    "start_time": "2022-02-12T08:54:49.776Z"
   },
   {
    "duration": 29,
    "start_time": "2022-02-12T08:54:49.785Z"
   },
   {
    "duration": 26,
    "start_time": "2022-02-12T08:54:49.816Z"
   },
   {
    "duration": 230,
    "start_time": "2022-02-12T08:54:49.844Z"
   },
   {
    "duration": 221,
    "start_time": "2022-02-12T08:54:50.076Z"
   },
   {
    "duration": 25,
    "start_time": "2022-02-12T08:54:50.298Z"
   },
   {
    "duration": 258,
    "start_time": "2022-02-12T08:54:50.325Z"
   },
   {
    "duration": 36,
    "start_time": "2022-02-12T08:54:50.585Z"
   },
   {
    "duration": 21,
    "start_time": "2022-02-12T08:54:50.623Z"
   },
   {
    "duration": 14,
    "start_time": "2022-02-12T08:54:50.646Z"
   },
   {
    "duration": 12,
    "start_time": "2022-02-12T08:54:50.661Z"
   },
   {
    "duration": 3,
    "start_time": "2022-02-12T08:54:50.675Z"
   },
   {
    "duration": 34,
    "start_time": "2022-02-12T08:54:50.680Z"
   },
   {
    "duration": 15,
    "start_time": "2022-02-12T08:54:50.716Z"
   },
   {
    "duration": 10,
    "start_time": "2022-02-12T08:54:50.733Z"
   },
   {
    "duration": 3,
    "start_time": "2022-02-12T08:54:50.744Z"
   },
   {
    "duration": 6,
    "start_time": "2022-02-12T08:54:50.749Z"
   },
   {
    "duration": 4,
    "start_time": "2022-02-12T08:55:26.791Z"
   },
   {
    "duration": 68,
    "start_time": "2022-02-12T08:56:16.287Z"
   },
   {
    "duration": 82,
    "start_time": "2022-02-12T08:59:17.911Z"
   },
   {
    "duration": 4,
    "start_time": "2022-02-12T10:16:29.914Z"
   },
   {
    "duration": 1442,
    "start_time": "2022-02-12T10:16:41.224Z"
   },
   {
    "duration": 478,
    "start_time": "2022-02-12T10:16:42.669Z"
   },
   {
    "duration": 19,
    "start_time": "2022-02-12T10:16:43.150Z"
   },
   {
    "duration": 28,
    "start_time": "2022-02-12T10:16:44.159Z"
   },
   {
    "duration": 21,
    "start_time": "2022-02-12T10:16:44.539Z"
   },
   {
    "duration": 15,
    "start_time": "2022-02-12T10:16:45.076Z"
   },
   {
    "duration": 25,
    "start_time": "2022-02-12T10:16:45.324Z"
   },
   {
    "duration": 39,
    "start_time": "2022-02-12T10:16:45.555Z"
   },
   {
    "duration": 12,
    "start_time": "2022-02-12T10:16:45.953Z"
   },
   {
    "duration": 19,
    "start_time": "2022-02-12T10:16:46.143Z"
   },
   {
    "duration": 13,
    "start_time": "2022-02-12T10:16:46.677Z"
   },
   {
    "duration": 10,
    "start_time": "2022-02-12T10:16:46.842Z"
   },
   {
    "duration": 16,
    "start_time": "2022-02-12T10:16:47.384Z"
   },
   {
    "duration": 9,
    "start_time": "2022-02-12T10:16:47.491Z"
   },
   {
    "duration": 12,
    "start_time": "2022-02-12T10:16:47.502Z"
   },
   {
    "duration": 102,
    "start_time": "2022-02-12T10:16:47.737Z"
   },
   {
    "duration": 19,
    "start_time": "2022-02-12T10:16:47.842Z"
   },
   {
    "duration": 11,
    "start_time": "2022-02-12T10:16:47.899Z"
   },
   {
    "duration": 21,
    "start_time": "2022-02-12T10:16:47.913Z"
   },
   {
    "duration": 19,
    "start_time": "2022-02-12T10:16:48.929Z"
   },
   {
    "duration": 17,
    "start_time": "2022-02-12T10:16:49.180Z"
   },
   {
    "duration": 19,
    "start_time": "2022-02-12T10:16:49.511Z"
   },
   {
    "duration": 15,
    "start_time": "2022-02-12T10:16:49.781Z"
   },
   {
    "duration": 14,
    "start_time": "2022-02-12T10:16:50.338Z"
   },
   {
    "duration": 9,
    "start_time": "2022-02-12T10:16:50.466Z"
   },
   {
    "duration": 9,
    "start_time": "2022-02-12T10:16:50.478Z"
   },
   {
    "duration": 224,
    "start_time": "2022-02-12T10:16:50.574Z"
   },
   {
    "duration": 32,
    "start_time": "2022-02-12T10:16:52.004Z"
   },
   {
    "duration": 13,
    "start_time": "2022-02-12T10:16:52.049Z"
   },
   {
    "duration": 85,
    "start_time": "2022-02-12T10:16:52.075Z"
   },
   {
    "duration": 60,
    "start_time": "2022-02-12T10:16:55.028Z"
   },
   {
    "duration": 4,
    "start_time": "2022-02-12T10:17:01.015Z"
   },
   {
    "duration": 73,
    "start_time": "2022-02-12T10:17:03.191Z"
   },
   {
    "duration": 4,
    "start_time": "2022-02-12T10:17:53.684Z"
   },
   {
    "duration": 1951,
    "start_time": "2022-02-12T10:17:56.947Z"
   },
   {
    "duration": 4,
    "start_time": "2022-02-12T10:18:26.988Z"
   },
   {
    "duration": 69,
    "start_time": "2022-02-12T10:18:29.804Z"
   },
   {
    "duration": 4,
    "start_time": "2022-02-12T10:23:05.985Z"
   },
   {
    "duration": 67,
    "start_time": "2022-02-12T10:23:08.644Z"
   },
   {
    "duration": 43,
    "start_time": "2022-02-12T10:27:51.202Z"
   },
   {
    "duration": 37,
    "start_time": "2022-02-12T10:28:02.376Z"
   },
   {
    "duration": 417,
    "start_time": "2022-02-12T10:30:07.389Z"
   },
   {
    "duration": 105,
    "start_time": "2022-02-12T10:31:59.823Z"
   },
   {
    "duration": 55,
    "start_time": "2022-02-12T10:32:06.276Z"
   },
   {
    "duration": 33,
    "start_time": "2022-02-12T10:42:21.531Z"
   },
   {
    "duration": 8,
    "start_time": "2022-02-12T10:42:23.896Z"
   },
   {
    "duration": 11,
    "start_time": "2022-02-12T10:46:11.186Z"
   },
   {
    "duration": 43,
    "start_time": "2022-02-12T10:48:19.813Z"
   },
   {
    "duration": 1574,
    "start_time": "2022-02-12T10:49:49.167Z"
   },
   {
    "duration": 581,
    "start_time": "2022-02-12T10:49:50.744Z"
   },
   {
    "duration": 18,
    "start_time": "2022-02-12T10:49:51.328Z"
   },
   {
    "duration": 38,
    "start_time": "2022-02-12T10:49:51.349Z"
   },
   {
    "duration": 39,
    "start_time": "2022-02-12T10:49:51.389Z"
   },
   {
    "duration": 13,
    "start_time": "2022-02-12T10:49:51.431Z"
   },
   {
    "duration": 29,
    "start_time": "2022-02-12T10:49:51.446Z"
   },
   {
    "duration": 72,
    "start_time": "2022-02-12T10:49:51.479Z"
   },
   {
    "duration": 13,
    "start_time": "2022-02-12T10:49:51.555Z"
   },
   {
    "duration": 20,
    "start_time": "2022-02-12T10:49:51.571Z"
   },
   {
    "duration": 12,
    "start_time": "2022-02-12T10:49:51.623Z"
   },
   {
    "duration": 10,
    "start_time": "2022-02-12T10:49:51.637Z"
   },
   {
    "duration": 18,
    "start_time": "2022-02-12T10:49:51.650Z"
   },
   {
    "duration": 8,
    "start_time": "2022-02-12T10:49:51.671Z"
   },
   {
    "duration": 49,
    "start_time": "2022-02-12T10:49:51.682Z"
   },
   {
    "duration": 122,
    "start_time": "2022-02-12T10:49:51.734Z"
   },
   {
    "duration": 20,
    "start_time": "2022-02-12T10:49:51.859Z"
   },
   {
    "duration": 14,
    "start_time": "2022-02-12T10:49:51.881Z"
   },
   {
    "duration": 26,
    "start_time": "2022-02-12T10:49:51.924Z"
   },
   {
    "duration": 26,
    "start_time": "2022-02-12T10:49:51.953Z"
   },
   {
    "duration": 49,
    "start_time": "2022-02-12T10:49:51.982Z"
   },
   {
    "duration": 15,
    "start_time": "2022-02-12T10:49:52.034Z"
   },
   {
    "duration": 13,
    "start_time": "2022-02-12T10:49:52.055Z"
   },
   {
    "duration": 15,
    "start_time": "2022-02-12T10:49:52.071Z"
   },
   {
    "duration": 8,
    "start_time": "2022-02-12T10:49:52.124Z"
   },
   {
    "duration": 9,
    "start_time": "2022-02-12T10:49:52.136Z"
   },
   {
    "duration": 263,
    "start_time": "2022-02-12T10:49:52.147Z"
   },
   {
    "duration": 36,
    "start_time": "2022-02-12T10:49:52.413Z"
   },
   {
    "duration": 14,
    "start_time": "2022-02-12T10:49:52.451Z"
   },
   {
    "duration": 113,
    "start_time": "2022-02-12T10:49:52.468Z"
   },
   {
    "duration": 71,
    "start_time": "2022-02-12T10:49:52.584Z"
   },
   {
    "duration": 4,
    "start_time": "2022-02-12T10:49:52.657Z"
   },
   {
    "duration": 90,
    "start_time": "2022-02-12T10:49:52.664Z"
   },
   {
    "duration": 35,
    "start_time": "2022-02-12T10:49:52.757Z"
   },
   {
    "duration": 38,
    "start_time": "2022-02-12T10:49:52.795Z"
   },
   {
    "duration": 43,
    "start_time": "2022-02-12T10:49:52.835Z"
   },
   {
    "duration": 7,
    "start_time": "2022-02-12T10:49:52.880Z"
   },
   {
    "duration": 13941,
    "start_time": "2022-02-12T10:49:52.890Z"
   },
   {
    "duration": -2545,
    "start_time": "2022-02-12T10:50:09.378Z"
   },
   {
    "duration": -2552,
    "start_time": "2022-02-12T10:50:09.387Z"
   },
   {
    "duration": -2559,
    "start_time": "2022-02-12T10:50:09.395Z"
   },
   {
    "duration": -2570,
    "start_time": "2022-02-12T10:50:09.408Z"
   },
   {
    "duration": -2575,
    "start_time": "2022-02-12T10:50:09.414Z"
   },
   {
    "duration": -2577,
    "start_time": "2022-02-12T10:50:09.418Z"
   },
   {
    "duration": -2580,
    "start_time": "2022-02-12T10:50:09.422Z"
   },
   {
    "duration": -2583,
    "start_time": "2022-02-12T10:50:09.426Z"
   },
   {
    "duration": -2592,
    "start_time": "2022-02-12T10:50:09.437Z"
   },
   {
    "duration": -2596,
    "start_time": "2022-02-12T10:50:09.442Z"
   },
   {
    "duration": -2599,
    "start_time": "2022-02-12T10:50:09.446Z"
   },
   {
    "duration": -2602,
    "start_time": "2022-02-12T10:50:09.450Z"
   },
   {
    "duration": -2603,
    "start_time": "2022-02-12T10:50:09.453Z"
   },
   {
    "duration": -2604,
    "start_time": "2022-02-12T10:50:09.457Z"
   },
   {
    "duration": -2605,
    "start_time": "2022-02-12T10:50:09.460Z"
   },
   {
    "duration": -2609,
    "start_time": "2022-02-12T10:50:09.465Z"
   },
   {
    "duration": -2610,
    "start_time": "2022-02-12T10:50:09.468Z"
   },
   {
    "duration": -2611,
    "start_time": "2022-02-12T10:50:09.471Z"
   },
   {
    "duration": -2613,
    "start_time": "2022-02-12T10:50:09.474Z"
   },
   {
    "duration": -2615,
    "start_time": "2022-02-12T10:50:09.478Z"
   },
   {
    "duration": 16,
    "start_time": "2022-02-12T10:51:45.475Z"
   },
   {
    "duration": 1439,
    "start_time": "2022-02-12T10:55:30.449Z"
   },
   {
    "duration": 493,
    "start_time": "2022-02-12T10:55:31.891Z"
   },
   {
    "duration": 18,
    "start_time": "2022-02-12T10:55:32.388Z"
   },
   {
    "duration": 28,
    "start_time": "2022-02-12T10:55:32.409Z"
   },
   {
    "duration": 21,
    "start_time": "2022-02-12T10:55:32.440Z"
   },
   {
    "duration": 13,
    "start_time": "2022-02-12T10:55:32.463Z"
   },
   {
    "duration": 58,
    "start_time": "2022-02-12T10:55:32.478Z"
   },
   {
    "duration": 37,
    "start_time": "2022-02-12T10:55:32.538Z"
   },
   {
    "duration": 11,
    "start_time": "2022-02-12T10:55:32.579Z"
   },
   {
    "duration": 45,
    "start_time": "2022-02-12T10:55:32.593Z"
   },
   {
    "duration": 14,
    "start_time": "2022-02-12T10:55:32.641Z"
   },
   {
    "duration": 10,
    "start_time": "2022-02-12T10:55:32.658Z"
   },
   {
    "duration": 66,
    "start_time": "2022-02-12T10:55:32.671Z"
   },
   {
    "duration": 9,
    "start_time": "2022-02-12T10:55:32.740Z"
   },
   {
    "duration": 14,
    "start_time": "2022-02-12T10:55:32.752Z"
   },
   {
    "duration": 142,
    "start_time": "2022-02-12T10:55:32.769Z"
   },
   {
    "duration": 26,
    "start_time": "2022-02-12T10:55:32.913Z"
   },
   {
    "duration": 11,
    "start_time": "2022-02-12T10:55:32.942Z"
   },
   {
    "duration": 29,
    "start_time": "2022-02-12T10:55:32.955Z"
   },
   {
    "duration": 44,
    "start_time": "2022-02-12T10:55:32.986Z"
   },
   {
    "duration": 16,
    "start_time": "2022-02-12T10:55:33.032Z"
   },
   {
    "duration": 18,
    "start_time": "2022-02-12T10:55:33.051Z"
   },
   {
    "duration": 14,
    "start_time": "2022-02-12T10:55:33.071Z"
   },
   {
    "duration": 48,
    "start_time": "2022-02-12T10:55:33.087Z"
   },
   {
    "duration": 7,
    "start_time": "2022-02-12T10:55:33.138Z"
   },
   {
    "duration": 12,
    "start_time": "2022-02-12T10:55:33.148Z"
   },
   {
    "duration": 387,
    "start_time": "2022-02-12T10:55:33.167Z"
   },
   {
    "duration": 32,
    "start_time": "2022-02-12T10:55:33.558Z"
   },
   {
    "duration": 39,
    "start_time": "2022-02-12T10:55:33.593Z"
   },
   {
    "duration": 106,
    "start_time": "2022-02-12T10:55:33.635Z"
   },
   {
    "duration": 59,
    "start_time": "2022-02-12T10:55:33.743Z"
   },
   {
    "duration": 21,
    "start_time": "2022-02-12T10:55:33.805Z"
   },
   {
    "duration": 70,
    "start_time": "2022-02-12T10:55:33.828Z"
   },
   {
    "duration": 65,
    "start_time": "2022-02-12T10:55:33.901Z"
   },
   {
    "duration": 11,
    "start_time": "2022-02-12T10:55:33.969Z"
   },
   {
    "duration": 71,
    "start_time": "2022-02-12T10:55:33.983Z"
   },
   {
    "duration": 13,
    "start_time": "2022-02-12T10:55:34.057Z"
   },
   {
    "duration": 5,
    "start_time": "2022-02-12T10:55:34.073Z"
   },
   {
    "duration": 9656,
    "start_time": "2022-02-12T10:55:34.080Z"
   },
   {
    "duration": -292,
    "start_time": "2022-02-12T10:55:44.030Z"
   },
   {
    "duration": -299,
    "start_time": "2022-02-12T10:55:44.039Z"
   },
   {
    "duration": -302,
    "start_time": "2022-02-12T10:55:44.044Z"
   },
   {
    "duration": -306,
    "start_time": "2022-02-12T10:55:44.049Z"
   },
   {
    "duration": -308,
    "start_time": "2022-02-12T10:55:44.053Z"
   },
   {
    "duration": -328,
    "start_time": "2022-02-12T10:55:44.074Z"
   },
   {
    "duration": -331,
    "start_time": "2022-02-12T10:55:44.079Z"
   },
   {
    "duration": -350,
    "start_time": "2022-02-12T10:55:44.099Z"
   },
   {
    "duration": -354,
    "start_time": "2022-02-12T10:55:44.105Z"
   },
   {
    "duration": -360,
    "start_time": "2022-02-12T10:55:44.113Z"
   },
   {
    "duration": -363,
    "start_time": "2022-02-12T10:55:44.117Z"
   },
   {
    "duration": -380,
    "start_time": "2022-02-12T10:55:44.136Z"
   },
   {
    "duration": -384,
    "start_time": "2022-02-12T10:55:44.141Z"
   },
   {
    "duration": -389,
    "start_time": "2022-02-12T10:55:44.148Z"
   },
   {
    "duration": -406,
    "start_time": "2022-02-12T10:55:44.166Z"
   },
   {
    "duration": -410,
    "start_time": "2022-02-12T10:55:44.171Z"
   },
   {
    "duration": -417,
    "start_time": "2022-02-12T10:55:44.179Z"
   },
   {
    "duration": -471,
    "start_time": "2022-02-12T10:55:44.234Z"
   },
   {
    "duration": -477,
    "start_time": "2022-02-12T10:55:44.241Z"
   },
   {
    "duration": -480,
    "start_time": "2022-02-12T10:55:44.245Z"
   },
   {
    "duration": 6,
    "start_time": "2022-02-12T11:19:50.520Z"
   },
   {
    "duration": 312,
    "start_time": "2022-02-12T11:19:52.305Z"
   },
   {
    "duration": 39,
    "start_time": "2022-02-12T11:19:54.485Z"
   },
   {
    "duration": 70,
    "start_time": "2022-02-12T11:20:09.639Z"
   },
   {
    "duration": 52,
    "start_time": "2022-02-12T11:20:41.220Z"
   },
   {
    "duration": 371,
    "start_time": "2022-02-12T11:21:48.295Z"
   },
   {
    "duration": 759,
    "start_time": "2022-02-12T11:22:05.631Z"
   },
   {
    "duration": 646,
    "start_time": "2022-02-12T11:23:20.843Z"
   },
   {
    "duration": 428,
    "start_time": "2022-02-12T11:23:36.183Z"
   },
   {
    "duration": 188,
    "start_time": "2022-02-12T11:24:19.962Z"
   },
   {
    "duration": 407,
    "start_time": "2022-02-12T11:24:26.765Z"
   },
   {
    "duration": 375,
    "start_time": "2022-02-12T11:27:39.654Z"
   },
   {
    "duration": 14,
    "start_time": "2022-02-12T11:27:53.638Z"
   },
   {
    "duration": 13,
    "start_time": "2022-02-12T11:29:12.471Z"
   },
   {
    "duration": 15,
    "start_time": "2022-02-12T11:29:13.320Z"
   },
   {
    "duration": 370,
    "start_time": "2022-02-12T11:29:40.428Z"
   },
   {
    "duration": 40,
    "start_time": "2022-02-12T11:29:46.460Z"
   },
   {
    "duration": 848,
    "start_time": "2022-02-12T11:31:58.044Z"
   },
   {
    "duration": 573,
    "start_time": "2022-02-12T11:32:20.771Z"
   },
   {
    "duration": 629,
    "start_time": "2022-02-12T11:32:35.661Z"
   },
   {
    "duration": 653,
    "start_time": "2022-02-12T11:33:25.233Z"
   },
   {
    "duration": 449,
    "start_time": "2022-02-12T11:34:45.952Z"
   },
   {
    "duration": 37,
    "start_time": "2022-02-12T11:35:10.454Z"
   },
   {
    "duration": 381,
    "start_time": "2022-02-12T11:35:33.472Z"
   },
   {
    "duration": 490,
    "start_time": "2022-02-12T11:35:51.127Z"
   },
   {
    "duration": 138,
    "start_time": "2022-02-12T11:40:49.754Z"
   },
   {
    "duration": 373,
    "start_time": "2022-02-12T11:41:52.093Z"
   },
   {
    "duration": 384,
    "start_time": "2022-02-12T11:43:23.263Z"
   },
   {
    "duration": 50,
    "start_time": "2022-02-12T11:44:40.048Z"
   },
   {
    "duration": 493,
    "start_time": "2022-02-12T11:44:40.414Z"
   },
   {
    "duration": 9599,
    "start_time": "2022-02-12T11:45:03.443Z"
   },
   {
    "duration": 8620,
    "start_time": "2022-02-12T11:45:31.193Z"
   },
   {
    "duration": 22,
    "start_time": "2022-02-12T11:45:43.834Z"
   },
   {
    "duration": 18,
    "start_time": "2022-02-12T11:45:51.776Z"
   },
   {
    "duration": 5,
    "start_time": "2022-02-12T11:46:10.154Z"
   },
   {
    "duration": 5,
    "start_time": "2022-02-12T11:46:11.204Z"
   },
   {
    "duration": 11658,
    "start_time": "2022-02-12T12:01:07.873Z"
   },
   {
    "duration": 21,
    "start_time": "2022-02-12T12:01:22.840Z"
   },
   {
    "duration": 21,
    "start_time": "2022-02-12T12:01:24.185Z"
   },
   {
    "duration": 5,
    "start_time": "2022-02-12T12:01:27.834Z"
   },
   {
    "duration": 7,
    "start_time": "2022-02-12T12:01:29.435Z"
   },
   {
    "duration": 5,
    "start_time": "2022-02-12T12:02:21.024Z"
   },
   {
    "duration": 1431,
    "start_time": "2022-02-12T12:03:01.644Z"
   },
   {
    "duration": 520,
    "start_time": "2022-02-12T12:03:03.078Z"
   },
   {
    "duration": 17,
    "start_time": "2022-02-12T12:03:03.601Z"
   },
   {
    "duration": 27,
    "start_time": "2022-02-12T12:03:03.621Z"
   },
   {
    "duration": 22,
    "start_time": "2022-02-12T12:03:03.650Z"
   },
   {
    "duration": 51,
    "start_time": "2022-02-12T12:03:03.674Z"
   },
   {
    "duration": 25,
    "start_time": "2022-02-12T12:03:03.728Z"
   },
   {
    "duration": 71,
    "start_time": "2022-02-12T12:03:03.757Z"
   },
   {
    "duration": 10,
    "start_time": "2022-02-12T12:03:03.832Z"
   },
   {
    "duration": 23,
    "start_time": "2022-02-12T12:03:03.845Z"
   },
   {
    "duration": 13,
    "start_time": "2022-02-12T12:03:03.871Z"
   },
   {
    "duration": 9,
    "start_time": "2022-02-12T12:03:03.924Z"
   },
   {
    "duration": 18,
    "start_time": "2022-02-12T12:03:03.936Z"
   },
   {
    "duration": 9,
    "start_time": "2022-02-12T12:03:03.957Z"
   },
   {
    "duration": 13,
    "start_time": "2022-02-12T12:03:03.969Z"
   },
   {
    "duration": 155,
    "start_time": "2022-02-12T12:03:03.985Z"
   },
   {
    "duration": 22,
    "start_time": "2022-02-12T12:03:04.143Z"
   },
   {
    "duration": 11,
    "start_time": "2022-02-12T12:03:04.168Z"
   },
   {
    "duration": 57,
    "start_time": "2022-02-12T12:03:04.182Z"
   },
   {
    "duration": 22,
    "start_time": "2022-02-12T12:03:04.242Z"
   },
   {
    "duration": 16,
    "start_time": "2022-02-12T12:03:04.267Z"
   },
   {
    "duration": 61,
    "start_time": "2022-02-12T12:03:04.285Z"
   },
   {
    "duration": 14,
    "start_time": "2022-02-12T12:03:04.353Z"
   },
   {
    "duration": 16,
    "start_time": "2022-02-12T12:03:04.371Z"
   },
   {
    "duration": 10,
    "start_time": "2022-02-12T12:03:04.425Z"
   },
   {
    "duration": 9,
    "start_time": "2022-02-12T12:03:04.438Z"
   },
   {
    "duration": 323,
    "start_time": "2022-02-12T12:03:04.449Z"
   },
   {
    "duration": 53,
    "start_time": "2022-02-12T12:03:04.775Z"
   },
   {
    "duration": 21,
    "start_time": "2022-02-12T12:03:04.831Z"
   },
   {
    "duration": 110,
    "start_time": "2022-02-12T12:03:04.855Z"
   },
   {
    "duration": 69,
    "start_time": "2022-02-12T12:03:04.967Z"
   },
   {
    "duration": 4,
    "start_time": "2022-02-12T12:03:05.039Z"
   },
   {
    "duration": 117,
    "start_time": "2022-02-12T12:03:05.045Z"
   },
   {
    "duration": 39,
    "start_time": "2022-02-12T12:03:05.164Z"
   },
   {
    "duration": 25,
    "start_time": "2022-02-12T12:03:05.206Z"
   },
   {
    "duration": 47,
    "start_time": "2022-02-12T12:03:05.234Z"
   },
   {
    "duration": 12,
    "start_time": "2022-02-12T12:03:05.284Z"
   },
   {
    "duration": 5,
    "start_time": "2022-02-12T12:03:05.299Z"
   },
   {
    "duration": 340,
    "start_time": "2022-02-12T12:03:05.309Z"
   },
   {
    "duration": 57,
    "start_time": "2022-02-12T12:03:05.652Z"
   },
   {
    "duration": 601,
    "start_time": "2022-02-12T12:03:05.711Z"
   },
   {
    "duration": 19,
    "start_time": "2022-02-12T12:03:06.314Z"
   },
   {
    "duration": 13,
    "start_time": "2022-02-12T12:03:06.335Z"
   },
   {
    "duration": 15,
    "start_time": "2022-02-12T12:03:06.351Z"
   },
   {
    "duration": 60,
    "start_time": "2022-02-12T12:03:06.369Z"
   },
   {
    "duration": 947,
    "start_time": "2022-02-12T12:03:06.431Z"
   },
   {
    "duration": 46,
    "start_time": "2022-02-12T12:03:07.380Z"
   },
   {
    "duration": 470,
    "start_time": "2022-02-12T12:03:07.429Z"
   },
   {
    "duration": 48,
    "start_time": "2022-02-12T12:03:07.902Z"
   },
   {
    "duration": 485,
    "start_time": "2022-02-12T12:03:07.953Z"
   },
   {
    "duration": 55,
    "start_time": "2022-02-12T12:03:08.441Z"
   },
   {
    "duration": 42,
    "start_time": "2022-02-12T12:03:08.499Z"
   },
   {
    "duration": 18,
    "start_time": "2022-02-12T12:03:08.543Z"
   },
   {
    "duration": 17,
    "start_time": "2022-02-12T12:03:08.564Z"
   },
   {
    "duration": 42,
    "start_time": "2022-02-12T12:03:08.583Z"
   },
   {
    "duration": 24,
    "start_time": "2022-02-12T12:03:08.628Z"
   },
   {
    "duration": 19,
    "start_time": "2022-02-12T12:03:08.655Z"
   },
   {
    "duration": 46,
    "start_time": "2022-02-12T12:03:08.677Z"
   },
   {
    "duration": 7,
    "start_time": "2022-02-12T12:03:08.726Z"
   }
  ],
  "kernelspec": {
   "display_name": "Python 3 (ipykernel)",
   "language": "python",
   "name": "python3"
  },
  "language_info": {
   "codemirror_mode": {
    "name": "ipython",
    "version": 3
   },
   "file_extension": ".py",
   "mimetype": "text/x-python",
   "name": "python",
   "nbconvert_exporter": "python",
   "pygments_lexer": "ipython3",
   "version": "3.9.7"
  },
  "toc": {
   "base_numbering": 1,
   "nav_menu": {},
   "number_sections": true,
   "sideBar": true,
   "skip_h1_title": true,
   "title_cell": "Table of Contents",
   "title_sidebar": "Contents",
   "toc_cell": false,
   "toc_position": {
    "height": "calc(100% - 180px)",
    "left": "10px",
    "top": "150px",
    "width": "290.325px"
   },
   "toc_section_display": true,
   "toc_window_display": true
  }
 },
 "nbformat": 4,
 "nbformat_minor": 2
}
